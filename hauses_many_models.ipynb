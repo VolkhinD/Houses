{
  "cells": [
    {
      "cell_type": "markdown",
      "metadata": {
        "id": "view-in-github",
        "colab_type": "text"
      },
      "source": [
        "<a href=\"https://colab.research.google.com/github/VolkhinD/Houses/blob/main/hauses_many_models.ipynb\" target=\"_parent\"><img src=\"https://colab.research.google.com/assets/colab-badge.svg\" alt=\"Open In Colab\"/></a>"
      ]
    },
    {
      "cell_type": "code",
      "execution_count": 108,
      "metadata": {
        "id": "boqWS7pH51SZ"
      },
      "outputs": [],
      "source": [
        "import pandas as pd\n",
        "import seaborn as sns\n",
        "import numpy as np\n",
        "from sklearn.pipeline import Pipeline\n",
        "from sklearn.preprocessing import StandardScaler, OneHotEncoder, PowerTransformer, MinMaxScaler, OrdinalEncoder, RobustScaler\n",
        "from sklearn.metrics import mean_squared_log_error as MSLE, mean_absolute_error as MAE\n",
        "from sklearn.compose import ColumnTransformer, make_column_transformer, make_column_selector as selector\n",
        "from sklearn.impute import SimpleImputer\n",
        "from sklearn.model_selection import cross_val_score, GridSearchCV\n",
        "from xgboost import XGBRegressor\n",
        "color = sns.color_palette()\n",
        "sns.set_style('darkgrid')\n",
        "from scipy import stats\n",
        "from scipy.stats import norm, skew #for some statistics\n",
        "from sklearn.preprocessing import FunctionTransformer\n",
        "\n",
        "from sklearn.linear_model import ElasticNet, Ridge\n",
        "from sklearn.tree import DecisionTreeRegressor\n",
        "from sklearn.ensemble import RandomForestRegressor, AdaBoostRegressor\n",
        "from sklearn.kernel_ridge import KernelRidge\n",
        "from sklearn.pipeline import make_pipeline\n",
        "from sklearn.preprocessing import RobustScaler\n",
        "from sklearn.base import BaseEstimator, TransformerMixin, RegressorMixin, clone\n",
        "from sklearn.metrics import mean_squared_error\n",
        "import xgboost as xgb\n",
        "\n",
        "from sklearn.ensemble import RandomForestRegressor\n",
        "from sklearn.linear_model import RidgeCV\n",
        "from sklearn.ensemble import StackingRegressor\n",
        "from pandas.api.types import CategoricalDtype\n",
        "\n"
      ]
    },
    {
      "cell_type": "code",
      "execution_count": 2,
      "metadata": {
        "id": "lTbW5CQ951Sb"
      },
      "outputs": [],
      "source": [
        "dtypes = {'Id': 'int64', 'Condition1': 'O',\n",
        " 'BldgType': 'O',\n",
        " 'HouseStyle': 'O',\n",
        " 'OverallCond': 'O',\n",
        " 'YearBuilt': 'int64',\n",
        " 'YearRemodAdd': 'int64',\n",
        " 'RoofStyle': 'O',\n",
        " 'RoofMatl': 'str',\n",
        " 'ExterQual': 'O',\n",
        " 'Heating': 'O',\n",
        " 'HeatingQC': 'O',\n",
        " 'CentralAir': 'O',\n",
        " 'Electrical': 'O',\n",
        " 'BedroomAbvGr': 'O',\n",
        " 'MasVnrArea': 'float64',\n",
        " 'Fireplaces': 'O',\n",
        " 'GarageArea': 'float64',\n",
        " 'SaleType': 'O',\n",
        " 'OverallQual': 'O',\n",
        " 'TotalBsmtSF': 'float64',\n",
        " 'GrLivArea': 'float64',\n",
        " 'KitchenQual': 'O',\n",
        " 'TotRmsAbvGrd': 'O',\n",
        " 'BathNum': 'float64',\n",
        " 'SalePrice': 'float64'}"
      ]
    },
    {
      "cell_type": "code",
      "source": [
        "from google.colab import drive\n",
        "drive.mount('/content/drive')"
      ],
      "metadata": {
        "colab": {
          "base_uri": "https://localhost:8080/"
        },
        "id": "95uirLfIEorj",
        "outputId": "77856e51-4c72-4c72-911b-4612f2d7b572"
      },
      "execution_count": 3,
      "outputs": [
        {
          "output_type": "stream",
          "name": "stdout",
          "text": [
            "Mounted at /content/drive\n"
          ]
        }
      ]
    },
    {
      "cell_type": "code",
      "execution_count": 4,
      "metadata": {
        "id": "yy_whGfe51Sc",
        "colab": {
          "base_uri": "https://localhost:8080/"
        },
        "outputId": "b0d30b61-946f-487f-8b79-c6bdc2b0cb12"
      },
      "outputs": [
        {
          "output_type": "stream",
          "name": "stdout",
          "text": [
            "(1454, 26) (1459, 25)\n"
          ]
        }
      ],
      "source": [
        "path = '/content/drive/MyDrive/Data/houses/chosen.csv'\n",
        "path_test = '/content/drive/MyDrive/Data/houses/chosen_test.csv'\n",
        "\n",
        "data = pd.read_csv(path, dtype=dtypes, index_col=0)\n",
        "df_test = pd.read_csv(path_test, dtype=dtypes, index_col=0)\n",
        "print(data.shape, df_test.shape)"
      ]
    },
    {
      "cell_type": "code",
      "source": [
        "from google.colab import drive\n",
        "drive.mount('/content/drive')"
      ],
      "metadata": {
        "colab": {
          "base_uri": "https://localhost:8080/"
        },
        "id": "naULpX4EzTZE",
        "outputId": "7df54992-3a89-4b22-9197-df13ee7511ca"
      },
      "execution_count": 5,
      "outputs": [
        {
          "output_type": "stream",
          "name": "stdout",
          "text": [
            "Drive already mounted at /content/drive; to attempt to forcibly remount, call drive.mount(\"/content/drive\", force_remount=True).\n"
          ]
        }
      ]
    },
    {
      "cell_type": "markdown",
      "metadata": {
        "id": "04OZX8c-51Su"
      },
      "source": [
        "## Preprocessing"
      ]
    },
    {
      "cell_type": "code",
      "execution_count": 6,
      "metadata": {
        "id": "flMihL0d51Su"
      },
      "outputs": [],
      "source": [
        "y = data.pop('SalePrice')"
      ]
    },
    {
      "cell_type": "code",
      "source": [
        "print(f\"Just to check how many Null values, it's {df_test.isnull().sum().sum()}\")"
      ],
      "metadata": {
        "colab": {
          "base_uri": "https://localhost:8080/"
        },
        "id": "R9e2CSblJuiN",
        "outputId": "e2cf69b2-b92c-43c7-f931-084c588df7eb"
      },
      "execution_count": 7,
      "outputs": [
        {
          "output_type": "stream",
          "name": "stdout",
          "text": [
            "Just to check how many Null values, it's 0\n"
          ]
        }
      ]
    },
    {
      "cell_type": "code",
      "execution_count": 8,
      "metadata": {
        "id": "i_U0pmKt51Sv",
        "outputId": "59c438fc-d5a4-4161-ab50-670c3ce43593",
        "colab": {
          "base_uri": "https://localhost:8080/"
        }
      },
      "outputs": [
        {
          "output_type": "execute_result",
          "data": {
            "text/plain": [
              "['Condition1',\n",
              " 'BldgType',\n",
              " 'HouseStyle',\n",
              " 'OverallCond',\n",
              " 'RoofStyle',\n",
              " 'RoofMatl',\n",
              " 'ExterQual',\n",
              " 'Heating',\n",
              " 'HeatingQC',\n",
              " 'CentralAir',\n",
              " 'BedroomAbvGr',\n",
              " 'Fireplaces',\n",
              " 'SaleType',\n",
              " 'OverallQual',\n",
              " 'KitchenQual']"
            ]
          },
          "metadata": {},
          "execution_count": 8
        }
      ],
      "source": [
        "cat_selector = selector(dtype_include=object)\n",
        "num_selector = selector(dtype_include=np.number)\n",
        "cat_selector(data)"
      ]
    },
    {
      "cell_type": "markdown",
      "metadata": {
        "id": "cVtR6o4m51Sw"
      },
      "source": [
        "#### Linear Preprocesser"
      ]
    },
    {
      "cell_type": "code",
      "source": [
        "def box_cox_transformer(lam):\n",
        "    return FunctionTransformer(lambda x: ((x + 1)**lam - 1)/lam)"
      ],
      "metadata": {
        "id": "1xr6ubdUaOdJ"
      },
      "execution_count": 9,
      "outputs": []
    },
    {
      "cell_type": "markdown",
      "source": [
        "There is no missing data, so thre's no Imputer in data preprocessing"
      ],
      "metadata": {
        "id": "xo1zGfYLehJ1"
      }
    },
    {
      "cell_type": "code",
      "source": [
        "data.isnull().sum().sum()"
      ],
      "metadata": {
        "colab": {
          "base_uri": "https://localhost:8080/"
        },
        "id": "xUO04Vz4eajR",
        "outputId": "0c013220-7eca-46cd-9360-38f7fbd1c15b"
      },
      "execution_count": 10,
      "outputs": [
        {
          "output_type": "execute_result",
          "data": {
            "text/plain": [
              "0"
            ]
          },
          "metadata": {},
          "execution_count": 10
        }
      ]
    },
    {
      "cell_type": "code",
      "execution_count": 90,
      "metadata": {
        "id": "_FprxbzG51Sw"
      },
      "outputs": [],
      "source": [
        "scaler = StandardScaler()\n",
        "\n",
        "transformer = box_cox_transformer(lam=0.6)\n",
        "fun_transformer = FunctionTransformer(np.log1p)\n",
        "\n",
        "num_pre = Pipeline(steps=[('transformer', transformer), ('scaler', scaler)])\n",
        "num_pre_1 = Pipeline(steps=[('transformer', fun_transformer), ('scaler', scaler)])\n",
        "cat_pre = Pipeline(steps=[('encoder', OneHotEncoder())])\n",
        "\n",
        "preprocesser_1 = make_column_transformer(\n",
        "    (num_pre, selector(dtype_include=np.number)),\n",
        "    (cat_pre, selector(dtype_include=object)),)\n",
        "preprocesser_2 = make_column_transformer(\n",
        "    (num_pre_1, selector(dtype_include=np.number)),\n",
        "    (cat_pre, selector(dtype_include=object)),)\n",
        "preprocesser_3 = make_column_transformer(\n",
        "    (scaler, selector(dtype_include=np.number)),\n",
        "    (cat_pre, selector(dtype_include=object)),)\n",
        "\n"
      ]
    },
    {
      "cell_type": "markdown",
      "source": [
        "Get sparse matrix after tranformation"
      ],
      "metadata": {
        "id": "cn8mvgFjbteG"
      }
    },
    {
      "cell_type": "code",
      "execution_count": 91,
      "metadata": {
        "id": "y7rPnCzo51Sx"
      },
      "outputs": [],
      "source": [
        "data_box_cox = preprocesser_1.fit_transform(data)\n",
        "data_log = preprocesser_2.fit_transform(data)\n",
        "data_scaled = preprocesser_3.fit_transform(data)"
      ]
    },
    {
      "cell_type": "markdown",
      "metadata": {
        "id": "66b4fVnr51Sy"
      },
      "source": [
        "#### Tree Preprocesser"
      ]
    },
    {
      "cell_type": "code",
      "execution_count": 13,
      "metadata": {
        "id": "Nf0iVqDR51Sy"
      },
      "outputs": [],
      "source": [
        "tree_encoder = OrdinalEncoder()\n",
        "#tree_cat_pre = OrdinalEncoder(handle_unknown='use_encoded_value')\n",
        "data_tree = tree_encoder.fit_transform(data)\n"
      ]
    },
    {
      "cell_type": "code",
      "source": [
        "data_tree = pd.DataFrame(data_tree, columns=data.columns)"
      ],
      "metadata": {
        "id": "PdOpv6gLcYsO"
      },
      "execution_count": 14,
      "outputs": []
    },
    {
      "cell_type": "markdown",
      "metadata": {
        "id": "Azg20lOr51Sz"
      },
      "source": [
        "## All Models"
      ]
    },
    {
      "cell_type": "markdown",
      "metadata": {
        "id": "Ae4-UuKz51S4"
      },
      "source": [
        "#### Tree Based Model"
      ]
    },
    {
      "cell_type": "code",
      "source": [
        "performanses = {}\n",
        "index = []"
      ],
      "metadata": {
        "id": "h_GQr9I6hhog"
      },
      "execution_count": 139,
      "outputs": []
    },
    {
      "cell_type": "code",
      "execution_count": 140,
      "metadata": {
        "id": "_KhEvZQr51S0",
        "outputId": "971f5fb1-1681-49f4-8af2-743dd953f598",
        "colab": {
          "base_uri": "https://localhost:8080/"
        }
      },
      "outputs": [
        {
          "output_type": "stream",
          "name": "stdout",
          "text": [
            "XGBoost mean after 10 folds -17050.751577851912, Standart deviation 1972.4124942620374\n"
          ]
        }
      ],
      "source": [
        "model_xgb = XGBRegressor(gamma=0.0468, max_leaves=0, booster='gbtree',\n",
        "                             learning_rate=0.05, max_depth=4,\n",
        "                             n_estimators=1500,\n",
        "                             random_state =16, eval_metric=MSLE, tree_method='gpu_hist') # using GPU with tree_method\n",
        "score_xgb = cross_val_score(model_xgb, X=data_tree, y=y, cv=10, scoring='neg_mean_absolute_error')\n",
        "print(f'XGBoost mean after 10 folds {score_xgb.mean()}, Standart deviation {score_xgb.std()}')\n",
        "performanses['XGB Tree'] = [score_xgb.mean(), score_xgb.std()]"
      ]
    },
    {
      "cell_type": "code",
      "execution_count": 94,
      "metadata": {
        "id": "a109aTy251S0",
        "colab": {
          "base_uri": "https://localhost:8080/",
          "height": 153
        },
        "outputId": "cadeb46e-91ee-40fe-9108-c47cd59a5c47"
      },
      "outputs": [
        {
          "output_type": "stream",
          "name": "stdout",
          "text": [
            "CPU times: user 1h 23min 29s, sys: 37.5 s, total: 1h 24min 7s\n",
            "Wall time: 1h 23min 37s\n"
          ]
        },
        {
          "output_type": "execute_result",
          "data": {
            "text/plain": [
              "GridSearchCV(estimator=XGBRegressor(base_score=None, booster='gbtree',\n",
              "                                    callbacks=None, colsample_bylevel=None,\n",
              "                                    colsample_bynode=None,\n",
              "                                    colsample_bytree=None,\n",
              "                                    early_stopping_rounds=None,\n",
              "                                    enable_categorical=False,\n",
              "                                    eval_metric=<function mean_squared_log_error at 0x7f27ad861900>,\n",
              "                                    feature_types=None, gamma=0.0468,\n",
              "                                    gpu_id=None, grow_policy=None,\n",
              "                                    importance_type=None,\n",
              "                                    inte...\n",
              "                                    max_cat_to_onehot=None, max_delta_step=None,\n",
              "                                    max_depth=4, max_leaves=0,\n",
              "                                    min_child_weight=None, missing=nan,\n",
              "                                    monotone_constraints=None,\n",
              "                                    n_estimators=1500, n_jobs=None,\n",
              "                                    num_parallel_tree=None, predictor=None,\n",
              "                                    random_state=16, ...),\n",
              "             param_grid={'learning_rate': [0.01, 0.05, 0.1],\n",
              "                         'max_depth': [3, 4, 5, 6],\n",
              "                         'n_estimators': [2000, 5000, 10000],\n",
              "                         'reg_lambda': [0.1, 0.5, 1, 4]},\n",
              "             scoring='neg_mean_absolute_error')"
            ],
            "text/html": [
              "<style>#sk-container-id-2 {color: black;background-color: white;}#sk-container-id-2 pre{padding: 0;}#sk-container-id-2 div.sk-toggleable {background-color: white;}#sk-container-id-2 label.sk-toggleable__label {cursor: pointer;display: block;width: 100%;margin-bottom: 0;padding: 0.3em;box-sizing: border-box;text-align: center;}#sk-container-id-2 label.sk-toggleable__label-arrow:before {content: \"▸\";float: left;margin-right: 0.25em;color: #696969;}#sk-container-id-2 label.sk-toggleable__label-arrow:hover:before {color: black;}#sk-container-id-2 div.sk-estimator:hover label.sk-toggleable__label-arrow:before {color: black;}#sk-container-id-2 div.sk-toggleable__content {max-height: 0;max-width: 0;overflow: hidden;text-align: left;background-color: #f0f8ff;}#sk-container-id-2 div.sk-toggleable__content pre {margin: 0.2em;color: black;border-radius: 0.25em;background-color: #f0f8ff;}#sk-container-id-2 input.sk-toggleable__control:checked~div.sk-toggleable__content {max-height: 200px;max-width: 100%;overflow: auto;}#sk-container-id-2 input.sk-toggleable__control:checked~label.sk-toggleable__label-arrow:before {content: \"▾\";}#sk-container-id-2 div.sk-estimator input.sk-toggleable__control:checked~label.sk-toggleable__label {background-color: #d4ebff;}#sk-container-id-2 div.sk-label input.sk-toggleable__control:checked~label.sk-toggleable__label {background-color: #d4ebff;}#sk-container-id-2 input.sk-hidden--visually {border: 0;clip: rect(1px 1px 1px 1px);clip: rect(1px, 1px, 1px, 1px);height: 1px;margin: -1px;overflow: hidden;padding: 0;position: absolute;width: 1px;}#sk-container-id-2 div.sk-estimator {font-family: monospace;background-color: #f0f8ff;border: 1px dotted black;border-radius: 0.25em;box-sizing: border-box;margin-bottom: 0.5em;}#sk-container-id-2 div.sk-estimator:hover {background-color: #d4ebff;}#sk-container-id-2 div.sk-parallel-item::after {content: \"\";width: 100%;border-bottom: 1px solid gray;flex-grow: 1;}#sk-container-id-2 div.sk-label:hover label.sk-toggleable__label {background-color: #d4ebff;}#sk-container-id-2 div.sk-serial::before {content: \"\";position: absolute;border-left: 1px solid gray;box-sizing: border-box;top: 0;bottom: 0;left: 50%;z-index: 0;}#sk-container-id-2 div.sk-serial {display: flex;flex-direction: column;align-items: center;background-color: white;padding-right: 0.2em;padding-left: 0.2em;position: relative;}#sk-container-id-2 div.sk-item {position: relative;z-index: 1;}#sk-container-id-2 div.sk-parallel {display: flex;align-items: stretch;justify-content: center;background-color: white;position: relative;}#sk-container-id-2 div.sk-item::before, #sk-container-id-2 div.sk-parallel-item::before {content: \"\";position: absolute;border-left: 1px solid gray;box-sizing: border-box;top: 0;bottom: 0;left: 50%;z-index: -1;}#sk-container-id-2 div.sk-parallel-item {display: flex;flex-direction: column;z-index: 1;position: relative;background-color: white;}#sk-container-id-2 div.sk-parallel-item:first-child::after {align-self: flex-end;width: 50%;}#sk-container-id-2 div.sk-parallel-item:last-child::after {align-self: flex-start;width: 50%;}#sk-container-id-2 div.sk-parallel-item:only-child::after {width: 0;}#sk-container-id-2 div.sk-dashed-wrapped {border: 1px dashed gray;margin: 0 0.4em 0.5em 0.4em;box-sizing: border-box;padding-bottom: 0.4em;background-color: white;}#sk-container-id-2 div.sk-label label {font-family: monospace;font-weight: bold;display: inline-block;line-height: 1.2em;}#sk-container-id-2 div.sk-label-container {text-align: center;}#sk-container-id-2 div.sk-container {/* jupyter's `normalize.less` sets `[hidden] { display: none; }` but bootstrap.min.css set `[hidden] { display: none !important; }` so we also need the `!important` here to be able to override the default hidden behavior on the sphinx rendered scikit-learn.org. See: https://github.com/scikit-learn/scikit-learn/issues/21755 */display: inline-block !important;position: relative;}#sk-container-id-2 div.sk-text-repr-fallback {display: none;}</style><div id=\"sk-container-id-2\" class=\"sk-top-container\"><div class=\"sk-text-repr-fallback\"><pre>GridSearchCV(estimator=XGBRegressor(base_score=None, booster=&#x27;gbtree&#x27;,\n",
              "                                    callbacks=None, colsample_bylevel=None,\n",
              "                                    colsample_bynode=None,\n",
              "                                    colsample_bytree=None,\n",
              "                                    early_stopping_rounds=None,\n",
              "                                    enable_categorical=False,\n",
              "                                    eval_metric=&lt;function mean_squared_log_error at 0x7f27ad861900&gt;,\n",
              "                                    feature_types=None, gamma=0.0468,\n",
              "                                    gpu_id=None, grow_policy=None,\n",
              "                                    importance_type=None,\n",
              "                                    inte...\n",
              "                                    max_cat_to_onehot=None, max_delta_step=None,\n",
              "                                    max_depth=4, max_leaves=0,\n",
              "                                    min_child_weight=None, missing=nan,\n",
              "                                    monotone_constraints=None,\n",
              "                                    n_estimators=1500, n_jobs=None,\n",
              "                                    num_parallel_tree=None, predictor=None,\n",
              "                                    random_state=16, ...),\n",
              "             param_grid={&#x27;learning_rate&#x27;: [0.01, 0.05, 0.1],\n",
              "                         &#x27;max_depth&#x27;: [3, 4, 5, 6],\n",
              "                         &#x27;n_estimators&#x27;: [2000, 5000, 10000],\n",
              "                         &#x27;reg_lambda&#x27;: [0.1, 0.5, 1, 4]},\n",
              "             scoring=&#x27;neg_mean_absolute_error&#x27;)</pre><b>In a Jupyter environment, please rerun this cell to show the HTML representation or trust the notebook. <br />On GitHub, the HTML representation is unable to render, please try loading this page with nbviewer.org.</b></div><div class=\"sk-container\" hidden><div class=\"sk-item sk-dashed-wrapped\"><div class=\"sk-label-container\"><div class=\"sk-label sk-toggleable\"><input class=\"sk-toggleable__control sk-hidden--visually\" id=\"sk-estimator-id-4\" type=\"checkbox\" ><label for=\"sk-estimator-id-4\" class=\"sk-toggleable__label sk-toggleable__label-arrow\">GridSearchCV</label><div class=\"sk-toggleable__content\"><pre>GridSearchCV(estimator=XGBRegressor(base_score=None, booster=&#x27;gbtree&#x27;,\n",
              "                                    callbacks=None, colsample_bylevel=None,\n",
              "                                    colsample_bynode=None,\n",
              "                                    colsample_bytree=None,\n",
              "                                    early_stopping_rounds=None,\n",
              "                                    enable_categorical=False,\n",
              "                                    eval_metric=&lt;function mean_squared_log_error at 0x7f27ad861900&gt;,\n",
              "                                    feature_types=None, gamma=0.0468,\n",
              "                                    gpu_id=None, grow_policy=None,\n",
              "                                    importance_type=None,\n",
              "                                    inte...\n",
              "                                    max_cat_to_onehot=None, max_delta_step=None,\n",
              "                                    max_depth=4, max_leaves=0,\n",
              "                                    min_child_weight=None, missing=nan,\n",
              "                                    monotone_constraints=None,\n",
              "                                    n_estimators=1500, n_jobs=None,\n",
              "                                    num_parallel_tree=None, predictor=None,\n",
              "                                    random_state=16, ...),\n",
              "             param_grid={&#x27;learning_rate&#x27;: [0.01, 0.05, 0.1],\n",
              "                         &#x27;max_depth&#x27;: [3, 4, 5, 6],\n",
              "                         &#x27;n_estimators&#x27;: [2000, 5000, 10000],\n",
              "                         &#x27;reg_lambda&#x27;: [0.1, 0.5, 1, 4]},\n",
              "             scoring=&#x27;neg_mean_absolute_error&#x27;)</pre></div></div></div><div class=\"sk-parallel\"><div class=\"sk-parallel-item\"><div class=\"sk-item\"><div class=\"sk-label-container\"><div class=\"sk-label sk-toggleable\"><input class=\"sk-toggleable__control sk-hidden--visually\" id=\"sk-estimator-id-5\" type=\"checkbox\" ><label for=\"sk-estimator-id-5\" class=\"sk-toggleable__label sk-toggleable__label-arrow\">estimator: XGBRegressor</label><div class=\"sk-toggleable__content\"><pre>XGBRegressor(base_score=None, booster=&#x27;gbtree&#x27;, callbacks=None,\n",
              "             colsample_bylevel=None, colsample_bynode=None,\n",
              "             colsample_bytree=None, early_stopping_rounds=None,\n",
              "             enable_categorical=False,\n",
              "             eval_metric=&lt;function mean_squared_log_error at 0x7f27ad861900&gt;,\n",
              "             feature_types=None, gamma=0.0468, gpu_id=None, grow_policy=None,\n",
              "             importance_type=None, interaction_constraints=None,\n",
              "             learning_rate=0.05, max_bin=None, max_cat_threshold=None,\n",
              "             max_cat_to_onehot=None, max_delta_step=None, max_depth=4,\n",
              "             max_leaves=0, min_child_weight=None, missing=nan,\n",
              "             monotone_constraints=None, n_estimators=1500, n_jobs=None,\n",
              "             num_parallel_tree=None, predictor=None, random_state=16, ...)</pre></div></div></div><div class=\"sk-serial\"><div class=\"sk-item\"><div class=\"sk-estimator sk-toggleable\"><input class=\"sk-toggleable__control sk-hidden--visually\" id=\"sk-estimator-id-6\" type=\"checkbox\" ><label for=\"sk-estimator-id-6\" class=\"sk-toggleable__label sk-toggleable__label-arrow\">XGBRegressor</label><div class=\"sk-toggleable__content\"><pre>XGBRegressor(base_score=None, booster=&#x27;gbtree&#x27;, callbacks=None,\n",
              "             colsample_bylevel=None, colsample_bynode=None,\n",
              "             colsample_bytree=None, early_stopping_rounds=None,\n",
              "             enable_categorical=False,\n",
              "             eval_metric=&lt;function mean_squared_log_error at 0x7f27ad861900&gt;,\n",
              "             feature_types=None, gamma=0.0468, gpu_id=None, grow_policy=None,\n",
              "             importance_type=None, interaction_constraints=None,\n",
              "             learning_rate=0.05, max_bin=None, max_cat_threshold=None,\n",
              "             max_cat_to_onehot=None, max_delta_step=None, max_depth=4,\n",
              "             max_leaves=0, min_child_weight=None, missing=nan,\n",
              "             monotone_constraints=None, n_estimators=1500, n_jobs=None,\n",
              "             num_parallel_tree=None, predictor=None, random_state=16, ...)</pre></div></div></div></div></div></div></div></div></div></div>"
            ]
          },
          "metadata": {},
          "execution_count": 94
        }
      ],
      "source": [
        "%%time\n",
        "grid = {'learning_rate': [0.01, 0.05, 0.1],\n",
        "       'max_depth': [3, 4, 5, 6],\n",
        "       'n_estimators': [2000, 5000, 10000],\n",
        "       'reg_lambda': [0.1, 0.5, 1, 4]\n",
        "       }\n",
        "grid_search_xgb = GridSearchCV(model_xgb, grid, scoring='neg_mean_absolute_error')\n",
        "grid_search_xgb.fit(data_tree, y)"
      ]
    },
    {
      "cell_type": "code",
      "source": [
        "# results after hyperparameter tuning\n",
        "print(grid_search_xgb.best_estimator_)\n",
        "print(grid_search_xgb.best_score_)"
      ],
      "metadata": {
        "colab": {
          "base_uri": "https://localhost:8080/"
        },
        "id": "4SJrYRKKozaV",
        "outputId": "e0ff03c1-831b-4bc2-ee55-9c992d8cd9de"
      },
      "execution_count": 95,
      "outputs": [
        {
          "output_type": "stream",
          "name": "stdout",
          "text": [
            "XGBRegressor(base_score=None, booster='gbtree', callbacks=None,\n",
            "             colsample_bylevel=None, colsample_bynode=None,\n",
            "             colsample_bytree=None, early_stopping_rounds=None,\n",
            "             enable_categorical=False,\n",
            "             eval_metric=<function mean_squared_log_error at 0x7f27ad861900>,\n",
            "             feature_types=None, gamma=0.0468, gpu_id=None, grow_policy=None,\n",
            "             importance_type=None, interaction_constraints=None,\n",
            "             learning_rate=0.01, max_bin=None, max_cat_threshold=None,\n",
            "             max_cat_to_onehot=None, max_delta_step=None, max_depth=3,\n",
            "             max_leaves=0, min_child_weight=None, missing=nan,\n",
            "             monotone_constraints=None, n_estimators=2000, n_jobs=None,\n",
            "             num_parallel_tree=None, predictor=None, random_state=16, ...)\n",
            "-16357.490747848531\n"
          ]
        }
      ]
    },
    {
      "cell_type": "markdown",
      "source": [
        "16357!!! Very good result:)\n",
        "\n"
      ],
      "metadata": {
        "id": "J5QUVX1AGTxW"
      }
    },
    {
      "cell_type": "code",
      "source": [
        "xgb_best = grid_search_xgb.best_estimator_\n",
        "xgb_best_score = cross_val_score(xgb_best, X=data_tree, y=y, cv=5, scoring='neg_mean_absolute_error')\n",
        "print(f'XGBoost score {xgb_best_score .mean()}, Standart deviation {xgb_best_score .std()}')"
      ],
      "metadata": {
        "colab": {
          "base_uri": "https://localhost:8080/"
        },
        "id": "Bdpe8Hn3nnID",
        "outputId": "701b0d32-2604-4b21-9889-bde128cbc082"
      },
      "execution_count": 156,
      "outputs": [
        {
          "output_type": "stream",
          "name": "stdout",
          "text": [
            "XGBoost score -16357.490747848531, Standart deviation 1344.6639250776066\n"
          ]
        }
      ]
    },
    {
      "cell_type": "code",
      "execution_count": 154,
      "metadata": {
        "id": "2aT_S-cM51S4",
        "outputId": "7ed8d36e-64b4-4ea6-be90-add3ab1d7f4b",
        "colab": {
          "base_uri": "https://localhost:8080/"
        }
      },
      "outputs": [
        {
          "output_type": "stream",
          "name": "stdout",
          "text": [
            "Random Forest Regressor gives score -17415.462455454614, Standart deviation 1086.81387682454\n"
          ]
        }
      ],
      "source": [
        "rf = RandomForestRegressor(n_estimators=3000,  random_state=1)\n",
        "score_rf = cross_val_score(rf, X=data_tree, y=y, cv=5, scoring='neg_mean_absolute_error')\n",
        "print(f'Random Forest Regressor gives score {score_rf.mean()}, Standart deviation {score_rf.std()}')\n",
        "performanses['Random Forest'] = [score_rf.mean(), score_rf.std()]"
      ]
    },
    {
      "cell_type": "code",
      "source": [
        "ada = AdaBoostRegressor(n_estimators=500, random_state=16)\n",
        "score_ada = cross_val_score(ada, X=data_tree, y=y, cv=5, scoring='neg_mean_absolute_error')\n",
        "print(f'AdaBoost Regressor gives score {score_ada.mean()}, Standart deviation {score_ada.std()}')\n",
        "performanses['Random Forest'] = [score_ada.mean(), score_ada.std()]"
      ],
      "metadata": {
        "colab": {
          "base_uri": "https://localhost:8080/"
        },
        "id": "mbsVXL69Us8Q",
        "outputId": "4eaf7b0d-fd49-4113-f1ad-7edb911e1789"
      },
      "execution_count": 142,
      "outputs": [
        {
          "output_type": "stream",
          "name": "stdout",
          "text": [
            "Random Forest Regressor gives score -25867.840048243343, Standart deviation 1356.0578437637382\n"
          ]
        }
      ]
    },
    {
      "cell_type": "markdown",
      "metadata": {
        "id": "R913lZU951Sz"
      },
      "source": [
        "#### Linear Models"
      ]
    },
    {
      "cell_type": "code",
      "execution_count": 143,
      "metadata": {
        "id": "HKictW1v51S1",
        "outputId": "f2a464f5-3bc1-4dd0-a88c-b6a38a54f30b",
        "colab": {
          "base_uri": "https://localhost:8080/"
        }
      },
      "outputs": [
        {
          "output_type": "stream",
          "name": "stdout",
          "text": [
            "XGBoost gives score -18858.969502419477, Standart deviation 1003.7080086169697\n"
          ]
        }
      ],
      "source": [
        "lin_xgb = XGBRegressor(booster='gblinear',\n",
        "                             n_estimators=1500,\n",
        "                             random_state=16, eval_metric=MSLE)\n",
        "\n",
        "score_xgb_lin = cross_val_score(lin_xgb, X=data_box_cox, y=y, cv=5, scoring='neg_mean_absolute_error')\n",
        "\n",
        "print(f'XGBoost gives score {score_xgb_lin.mean()}, Standart deviation {score_xgb_lin.std()}')\n",
        "performanses[\"XGB Linear with Box Cox transformation\"] = [score_xgb_lin.mean(), score_xgb_lin.std()]"
      ]
    },
    {
      "cell_type": "code",
      "source": [
        "pipe_xgb_lin = Pipeline([('preprocessing', preprocesser_2), ('model', lin_xgb)])\n",
        "score_xgb_lin = cross_val_score(lin_xgb, X=data_log, y=y, cv=5, scoring='neg_mean_absolute_error')\n",
        "\n",
        "print(f'XGBoost gives score {score_xgb_lin.mean()}, Standart deviation {score_xgb_lin.std()}')\n",
        "performanses[\"XGB Linear with Log transformation\"] = [score_xgb_lin.mean(), score_xgb_lin.std()]"
      ],
      "metadata": {
        "colab": {
          "base_uri": "https://localhost:8080/"
        },
        "id": "0a7SvzyyngDZ",
        "outputId": "dca4f2a0-8a24-4ecd-d710-56bc0ac767c3"
      },
      "execution_count": 144,
      "outputs": [
        {
          "output_type": "stream",
          "name": "stdout",
          "text": [
            "XGBoost gives score -20264.451067854145, Standart deviation 1138.167311940857\n"
          ]
        }
      ]
    },
    {
      "cell_type": "code",
      "source": [
        "pipe_xgb_lin = Pipeline([('preprocessing', preprocesser_2), ('model', lin_xgb)])\n",
        "score_xgb_lin = cross_val_score(lin_xgb, X=data_scaled, y=y, cv=5, scoring='neg_mean_absolute_error')\n",
        "\n",
        "print(f'XGBoost gives score {score_xgb_lin.mean()}, Standart deviation {score_xgb_lin.std()}')\n",
        "performanses[\"XGB Linear\"] = [score_xgb_lin.mean(), score_xgb_lin.std()]"
      ],
      "metadata": {
        "colab": {
          "base_uri": "https://localhost:8080/"
        },
        "id": "7Ic18IeDLTG5",
        "outputId": "99cad86a-11d9-4716-c838-5efaba038fe6"
      },
      "execution_count": 145,
      "outputs": [
        {
          "output_type": "stream",
          "name": "stdout",
          "text": [
            "XGBoost gives score -18060.9269354013, Standart deviation 935.3763181900675\n"
          ]
        }
      ]
    },
    {
      "cell_type": "code",
      "execution_count": 146,
      "metadata": {
        "collapsed": true,
        "id": "SU08qMMu51S2",
        "outputId": "31094d1d-6091-4d2c-988a-8e93577d1d81",
        "colab": {
          "base_uri": "https://localhost:8080/"
        }
      },
      "outputs": [
        {
          "output_type": "stream",
          "name": "stdout",
          "text": [
            "First method gives score -18859.60489814182, Standart deviation 1005.7904825858733\n"
          ]
        }
      ],
      "source": [
        "ridge = Ridge(alpha =0.0005, random_state=1)\n",
        "\n",
        "score_ridge = cross_val_score(ridge, X=data_box_cox , y=y, cv=5, scoring='neg_mean_absolute_error')\n",
        "print(f'First method gives score {score_ridge.mean()}, Standart deviation {score_ridge.std()}')\n",
        "performanses[\"Ridge Regression with Box Cox\"] = [score_ridge.mean(), score_ridge.std()]"
      ]
    },
    {
      "cell_type": "code",
      "source": [
        "score_ridge = cross_val_score(ridge, X=data_log, y=y, cv=5, scoring='neg_mean_absolute_error')\n",
        "print(f'First method gives score {score_ridge.mean()}, Standart deviation {score_ridge.std()}')\n",
        "performanses[\"Ridge Regression with Log Transformation\"] = [score_ridge.mean(), score_ridge.std()]"
      ],
      "metadata": {
        "colab": {
          "base_uri": "https://localhost:8080/"
        },
        "id": "MEzqGmvpqJrN",
        "outputId": "9f4cc6b8-cf86-4e4a-c8ea-f85d094a5c61"
      },
      "execution_count": 147,
      "outputs": [
        {
          "output_type": "stream",
          "name": "stdout",
          "text": [
            "First method gives score -20268.21102187543, Standart deviation 1123.9659521432698\n"
          ]
        }
      ]
    },
    {
      "cell_type": "code",
      "source": [
        "score_ridge = cross_val_score(ridge, X=data_scaled, y=y, cv=5, scoring='neg_mean_absolute_error')\n",
        "print(f'First method gives score {score_ridge.mean()}, Standart deviation {score_ridge.std()}')\n",
        "performanses[\"Ridge Regression\"] = [score_ridge.mean(), score_ridge.std()]"
      ],
      "metadata": {
        "colab": {
          "base_uri": "https://localhost:8080/"
        },
        "id": "kWFqoBenLurR",
        "outputId": "e638f5ed-19f0-466a-aa5a-0acedc00a071"
      },
      "execution_count": 148,
      "outputs": [
        {
          "output_type": "stream",
          "name": "stdout",
          "text": [
            "First method gives score -18047.744201239788, Standart deviation 942.9013075248196\n"
          ]
        }
      ]
    },
    {
      "cell_type": "code",
      "execution_count": 149,
      "metadata": {
        "collapsed": true,
        "id": "ld46XI7U51S2",
        "outputId": "2351dde2-83a9-480e-99b6-ddd72c6abf3f",
        "colab": {
          "base_uri": "https://localhost:8080/"
        }
      },
      "outputs": [
        {
          "output_type": "stream",
          "name": "stdout",
          "text": [
            "Elastic Net Regression gives score -18677.56314281853, Standart deviation 1082.4529846100836\n"
          ]
        }
      ],
      "source": [
        "ENet = ElasticNet(alpha=0.01, l1_ratio=.9, random_state=1)\n",
        "\n",
        "score_enet = cross_val_score(ENet, X=data_box_cox, y=y, cv=10, scoring='neg_mean_absolute_error')\n",
        "print(f'Elastic Net Regression gives score {score_enet.mean()}, Standart deviation {score_enet.std()}')\n",
        "performanses[\"ElasticNet Regression with Box Cox Transformation\"] = [score_enet.mean(), score_enet.std()]"
      ]
    },
    {
      "cell_type": "code",
      "source": [
        "score_enet = cross_val_score(ENet, X=data_log, y=y, cv=10, scoring='neg_mean_absolute_error')\n",
        "print(f'Elastic Net Regression gives score {score_enet.mean()}, Standart deviation {score_enet.std()}')\n",
        "performanses[\"ElasticNet Regression with Log Transformation\"] = [score_enet.mean(), score_enet.std()]"
      ],
      "metadata": {
        "colab": {
          "base_uri": "https://localhost:8080/"
        },
        "id": "Wg-p7ty9qYA0",
        "outputId": "94de6e0b-b055-4cd3-b81e-e81d71fee76f"
      },
      "execution_count": 150,
      "outputs": [
        {
          "output_type": "stream",
          "name": "stdout",
          "text": [
            "Elastic Net Regression gives score -20003.840969312572, Standart deviation 1450.5543861446708\n"
          ]
        }
      ]
    },
    {
      "cell_type": "code",
      "source": [
        "score_enet = cross_val_score(ENet, X=data_scaled, y=y, cv=10, scoring='neg_mean_absolute_error')\n",
        "print(f'Elastic Net Regression gives score {score_enet.mean()}, Standart deviation {score_enet.std()}')\n",
        "performanses[\"ElasticNet Regression \"] = [score_enet.mean(), score_enet.std()]"
      ],
      "metadata": {
        "colab": {
          "base_uri": "https://localhost:8080/"
        },
        "id": "Cf2SWKjOMG3G",
        "outputId": "1e148cd0-255e-4c25-edab-ca41944f9971"
      },
      "execution_count": 151,
      "outputs": [
        {
          "output_type": "stream",
          "name": "stdout",
          "text": [
            "Elastic Net Regression gives score -17870.495507089432, Standart deviation 986.3671281535613\n"
          ]
        }
      ]
    },
    {
      "cell_type": "markdown",
      "source": [
        "## Take a Look at All Results and choose best model for hyperparameter tuning"
      ],
      "metadata": {
        "id": "hUxVrea0v1DZ"
      }
    },
    {
      "cell_type": "code",
      "source": [
        "res = pd.DataFrame(performanses).T\n",
        "res.columns = [\"MAE maen()\", \"MAE std()\"]\n",
        "res"
      ],
      "metadata": {
        "colab": {
          "base_uri": "https://localhost:8080/",
          "height": 394
        },
        "id": "Qb7lcGLsv_eg",
        "outputId": "d1699e90-ef6f-4e21-a288-98c1a4667e3f"
      },
      "execution_count": 155,
      "outputs": [
        {
          "output_type": "execute_result",
          "data": {
            "text/plain": [
              "                                                     MAE maen()    MAE std()\n",
              "XGB Tree                                          -17050.751578  1972.412494\n",
              "Random Forest                                     -17415.462455  1086.813877\n",
              "XGB Linear with Box Cox transformation            -18858.969502  1003.708009\n",
              "XGB Linear with Log transformation                -20264.451068  1138.167312\n",
              "XGB Linear                                        -18060.926935   935.376318\n",
              "Ridge Regression with Box Cox                     -18859.604898  1005.790483\n",
              "Ridge Regression with Log Transformation          -20268.211022  1123.965952\n",
              "Ridge Regression                                  -18047.744201   942.901308\n",
              "ElasticNet Regression with Box Cox Transformation -18677.563143  1082.452985\n",
              "ElasticNet Regression with Log Transformation     -20003.840969  1450.554386\n",
              "ElasticNet Regression                             -17870.495507   986.367128"
            ],
            "text/html": [
              "\n",
              "  <div id=\"df-04af3620-9d84-4580-b735-6af768a8038e\" class=\"colab-df-container\">\n",
              "    <div>\n",
              "<style scoped>\n",
              "    .dataframe tbody tr th:only-of-type {\n",
              "        vertical-align: middle;\n",
              "    }\n",
              "\n",
              "    .dataframe tbody tr th {\n",
              "        vertical-align: top;\n",
              "    }\n",
              "\n",
              "    .dataframe thead th {\n",
              "        text-align: right;\n",
              "    }\n",
              "</style>\n",
              "<table border=\"1\" class=\"dataframe\">\n",
              "  <thead>\n",
              "    <tr style=\"text-align: right;\">\n",
              "      <th></th>\n",
              "      <th>MAE maen()</th>\n",
              "      <th>MAE std()</th>\n",
              "    </tr>\n",
              "  </thead>\n",
              "  <tbody>\n",
              "    <tr>\n",
              "      <th>XGB Tree</th>\n",
              "      <td>-17050.751578</td>\n",
              "      <td>1972.412494</td>\n",
              "    </tr>\n",
              "    <tr>\n",
              "      <th>Random Forest</th>\n",
              "      <td>-17415.462455</td>\n",
              "      <td>1086.813877</td>\n",
              "    </tr>\n",
              "    <tr>\n",
              "      <th>XGB Linear with Box Cox transformation</th>\n",
              "      <td>-18858.969502</td>\n",
              "      <td>1003.708009</td>\n",
              "    </tr>\n",
              "    <tr>\n",
              "      <th>XGB Linear with Log transformation</th>\n",
              "      <td>-20264.451068</td>\n",
              "      <td>1138.167312</td>\n",
              "    </tr>\n",
              "    <tr>\n",
              "      <th>XGB Linear</th>\n",
              "      <td>-18060.926935</td>\n",
              "      <td>935.376318</td>\n",
              "    </tr>\n",
              "    <tr>\n",
              "      <th>Ridge Regression with Box Cox</th>\n",
              "      <td>-18859.604898</td>\n",
              "      <td>1005.790483</td>\n",
              "    </tr>\n",
              "    <tr>\n",
              "      <th>Ridge Regression with Log Transformation</th>\n",
              "      <td>-20268.211022</td>\n",
              "      <td>1123.965952</td>\n",
              "    </tr>\n",
              "    <tr>\n",
              "      <th>Ridge Regression</th>\n",
              "      <td>-18047.744201</td>\n",
              "      <td>942.901308</td>\n",
              "    </tr>\n",
              "    <tr>\n",
              "      <th>ElasticNet Regression with Box Cox Transformation</th>\n",
              "      <td>-18677.563143</td>\n",
              "      <td>1082.452985</td>\n",
              "    </tr>\n",
              "    <tr>\n",
              "      <th>ElasticNet Regression with Log Transformation</th>\n",
              "      <td>-20003.840969</td>\n",
              "      <td>1450.554386</td>\n",
              "    </tr>\n",
              "    <tr>\n",
              "      <th>ElasticNet Regression</th>\n",
              "      <td>-17870.495507</td>\n",
              "      <td>986.367128</td>\n",
              "    </tr>\n",
              "  </tbody>\n",
              "</table>\n",
              "</div>\n",
              "    <div class=\"colab-df-buttons\">\n",
              "\n",
              "  <div class=\"colab-df-container\">\n",
              "    <button class=\"colab-df-convert\" onclick=\"convertToInteractive('df-04af3620-9d84-4580-b735-6af768a8038e')\"\n",
              "            title=\"Convert this dataframe to an interactive table.\"\n",
              "            style=\"display:none;\">\n",
              "\n",
              "  <svg xmlns=\"http://www.w3.org/2000/svg\" height=\"24px\" viewBox=\"0 -960 960 960\">\n",
              "    <path d=\"M120-120v-720h720v720H120Zm60-500h600v-160H180v160Zm220 220h160v-160H400v160Zm0 220h160v-160H400v160ZM180-400h160v-160H180v160Zm440 0h160v-160H620v160ZM180-180h160v-160H180v160Zm440 0h160v-160H620v160Z\"/>\n",
              "  </svg>\n",
              "    </button>\n",
              "\n",
              "  <style>\n",
              "    .colab-df-container {\n",
              "      display:flex;\n",
              "      gap: 12px;\n",
              "    }\n",
              "\n",
              "    .colab-df-convert {\n",
              "      background-color: #E8F0FE;\n",
              "      border: none;\n",
              "      border-radius: 50%;\n",
              "      cursor: pointer;\n",
              "      display: none;\n",
              "      fill: #1967D2;\n",
              "      height: 32px;\n",
              "      padding: 0 0 0 0;\n",
              "      width: 32px;\n",
              "    }\n",
              "\n",
              "    .colab-df-convert:hover {\n",
              "      background-color: #E2EBFA;\n",
              "      box-shadow: 0px 1px 2px rgba(60, 64, 67, 0.3), 0px 1px 3px 1px rgba(60, 64, 67, 0.15);\n",
              "      fill: #174EA6;\n",
              "    }\n",
              "\n",
              "    .colab-df-buttons div {\n",
              "      margin-bottom: 4px;\n",
              "    }\n",
              "\n",
              "    [theme=dark] .colab-df-convert {\n",
              "      background-color: #3B4455;\n",
              "      fill: #D2E3FC;\n",
              "    }\n",
              "\n",
              "    [theme=dark] .colab-df-convert:hover {\n",
              "      background-color: #434B5C;\n",
              "      box-shadow: 0px 1px 3px 1px rgba(0, 0, 0, 0.15);\n",
              "      filter: drop-shadow(0px 1px 2px rgba(0, 0, 0, 0.3));\n",
              "      fill: #FFFFFF;\n",
              "    }\n",
              "  </style>\n",
              "\n",
              "    <script>\n",
              "      const buttonEl =\n",
              "        document.querySelector('#df-04af3620-9d84-4580-b735-6af768a8038e button.colab-df-convert');\n",
              "      buttonEl.style.display =\n",
              "        google.colab.kernel.accessAllowed ? 'block' : 'none';\n",
              "\n",
              "      async function convertToInteractive(key) {\n",
              "        const element = document.querySelector('#df-04af3620-9d84-4580-b735-6af768a8038e');\n",
              "        const dataTable =\n",
              "          await google.colab.kernel.invokeFunction('convertToInteractive',\n",
              "                                                    [key], {});\n",
              "        if (!dataTable) return;\n",
              "\n",
              "        const docLinkHtml = 'Like what you see? Visit the ' +\n",
              "          '<a target=\"_blank\" href=https://colab.research.google.com/notebooks/data_table.ipynb>data table notebook</a>'\n",
              "          + ' to learn more about interactive tables.';\n",
              "        element.innerHTML = '';\n",
              "        dataTable['output_type'] = 'display_data';\n",
              "        await google.colab.output.renderOutput(dataTable, element);\n",
              "        const docLink = document.createElement('div');\n",
              "        docLink.innerHTML = docLinkHtml;\n",
              "        element.appendChild(docLink);\n",
              "      }\n",
              "    </script>\n",
              "  </div>\n",
              "\n",
              "\n",
              "<div id=\"df-84dd1ed2-2718-4305-a69c-d182a5c41c15\">\n",
              "  <button class=\"colab-df-quickchart\" onclick=\"quickchart('df-84dd1ed2-2718-4305-a69c-d182a5c41c15')\"\n",
              "            title=\"Suggest charts.\"\n",
              "            style=\"display:none;\">\n",
              "\n",
              "<svg xmlns=\"http://www.w3.org/2000/svg\" height=\"24px\"viewBox=\"0 0 24 24\"\n",
              "     width=\"24px\">\n",
              "    <g>\n",
              "        <path d=\"M19 3H5c-1.1 0-2 .9-2 2v14c0 1.1.9 2 2 2h14c1.1 0 2-.9 2-2V5c0-1.1-.9-2-2-2zM9 17H7v-7h2v7zm4 0h-2V7h2v10zm4 0h-2v-4h2v4z\"/>\n",
              "    </g>\n",
              "</svg>\n",
              "  </button>\n",
              "\n",
              "<style>\n",
              "  .colab-df-quickchart {\n",
              "    background-color: #E8F0FE;\n",
              "    border: none;\n",
              "    border-radius: 50%;\n",
              "    cursor: pointer;\n",
              "    display: none;\n",
              "    fill: #1967D2;\n",
              "    height: 32px;\n",
              "    padding: 0 0 0 0;\n",
              "    width: 32px;\n",
              "  }\n",
              "\n",
              "  .colab-df-quickchart:hover {\n",
              "    background-color: #E2EBFA;\n",
              "    box-shadow: 0px 1px 2px rgba(60, 64, 67, 0.3), 0px 1px 3px 1px rgba(60, 64, 67, 0.15);\n",
              "    fill: #174EA6;\n",
              "  }\n",
              "\n",
              "  [theme=dark] .colab-df-quickchart {\n",
              "    background-color: #3B4455;\n",
              "    fill: #D2E3FC;\n",
              "  }\n",
              "\n",
              "  [theme=dark] .colab-df-quickchart:hover {\n",
              "    background-color: #434B5C;\n",
              "    box-shadow: 0px 1px 3px 1px rgba(0, 0, 0, 0.15);\n",
              "    filter: drop-shadow(0px 1px 2px rgba(0, 0, 0, 0.3));\n",
              "    fill: #FFFFFF;\n",
              "  }\n",
              "</style>\n",
              "\n",
              "  <script>\n",
              "    async function quickchart(key) {\n",
              "      const charts = await google.colab.kernel.invokeFunction(\n",
              "          'suggestCharts', [key], {});\n",
              "    }\n",
              "    (() => {\n",
              "      let quickchartButtonEl =\n",
              "        document.querySelector('#df-84dd1ed2-2718-4305-a69c-d182a5c41c15 button');\n",
              "      quickchartButtonEl.style.display =\n",
              "        google.colab.kernel.accessAllowed ? 'block' : 'none';\n",
              "    })();\n",
              "  </script>\n",
              "</div>\n",
              "    </div>\n",
              "  </div>\n"
            ]
          },
          "metadata": {},
          "execution_count": 155
        }
      ]
    },
    {
      "cell_type": "markdown",
      "source": [
        "Sad, but feature transformation does't help this time"
      ],
      "metadata": {
        "id": "q_9t4ioqO7_E"
      }
    },
    {
      "cell_type": "markdown",
      "metadata": {
        "id": "3q4bADBs51S4"
      },
      "source": [
        "## Stacking"
      ]
    },
    {
      "cell_type": "markdown",
      "metadata": {
        "id": "iiXWQQfm51S5"
      },
      "source": [
        "https://scikit-learn.org/stable/auto_examples/ensemble/plot_stack_predictors.html?highlight=stacking"
      ]
    },
    {
      "cell_type": "code",
      "execution_count": 162,
      "metadata": {
        "id": "GrI1947v51S5",
        "outputId": "463fd6c4-2ff3-40fc-939f-05199f0bc20d",
        "colab": {
          "base_uri": "https://localhost:8080/"
        }
      },
      "outputs": [
        {
          "output_type": "stream",
          "name": "stdout",
          "text": [
            "Stacking Regressor gives score -20067.902815240253, Standart deviation 2038.2360837224676\n",
            "CPU times: user 10min 30s, sys: 2.71 s, total: 10min 33s\n",
            "Wall time: 10min 31s\n"
          ]
        }
      ],
      "source": [
        "%%time\n",
        "\n",
        "estimators = [\n",
        "    (\"XGBoost\", model_xgb),\n",
        "    (\"Random Forest\", rf),\n",
        "]\n",
        "\n",
        "stacking_regressor = StackingRegressor(estimators=estimators, final_estimator=XGBRegressor(random_state=1))\n",
        "score_stack = cross_val_score(stacking_regressor, X=data_tree, y=y, cv=5, scoring='neg_mean_absolute_error')\n",
        "print(f'Stacking Regressor gives score {score_stack.mean()}, Standart deviation {score_stack.std()}')"
      ]
    },
    {
      "cell_type": "markdown",
      "metadata": {
        "id": "MMd0DN3M51S5"
      },
      "source": [
        "## Submission"
      ]
    },
    {
      "cell_type": "code",
      "execution_count": 160,
      "metadata": {
        "id": "Rtrql0fM51S5",
        "outputId": "8ff3733f-b9be-4952-e5e1-34d48d90fcc0",
        "colab": {
          "base_uri": "https://localhost:8080/",
          "height": 250
        }
      },
      "outputs": [
        {
          "output_type": "error",
          "ename": "AttributeError",
          "evalue": "ignored",
          "traceback": [
            "\u001b[0;31m---------------------------------------------------------------------------\u001b[0m",
            "\u001b[0;31mAttributeError\u001b[0m                            Traceback (most recent call last)",
            "\u001b[0;32m<ipython-input-160-7b6d3790ff82>\u001b[0m in \u001b[0;36m<cell line: 3>\u001b[0;34m()\u001b[0m\n\u001b[1;32m      1\u001b[0m \u001b[0msub_1\u001b[0m \u001b[0;34m=\u001b[0m \u001b[0mpd\u001b[0m\u001b[0;34m.\u001b[0m\u001b[0mDataFrame\u001b[0m\u001b[0;34m(\u001b[0m\u001b[0;34m)\u001b[0m\u001b[0;34m\u001b[0m\u001b[0;34m\u001b[0m\u001b[0m\n\u001b[1;32m      2\u001b[0m \u001b[0msub_1\u001b[0m\u001b[0;34m[\u001b[0m\u001b[0;34m'Id'\u001b[0m\u001b[0;34m]\u001b[0m \u001b[0;34m=\u001b[0m \u001b[0mdf_test\u001b[0m\u001b[0;34m.\u001b[0m\u001b[0mindex\u001b[0m\u001b[0;34m\u001b[0m\u001b[0;34m\u001b[0m\u001b[0m\n\u001b[0;32m----> 3\u001b[0;31m \u001b[0mxgb_test_pred\u001b[0m \u001b[0;34m=\u001b[0m \u001b[0mxgb_best_score\u001b[0m\u001b[0;34m.\u001b[0m\u001b[0mpredict\u001b[0m\u001b[0;34m(\u001b[0m\u001b[0mdf_test\u001b[0m\u001b[0;34m)\u001b[0m\u001b[0;34m\u001b[0m\u001b[0;34m\u001b[0m\u001b[0m\n\u001b[0m\u001b[1;32m      4\u001b[0m \u001b[0msub_1\u001b[0m\u001b[0;34m[\u001b[0m\u001b[0;34m'SalePrice'\u001b[0m\u001b[0;34m]\u001b[0m \u001b[0;34m=\u001b[0m \u001b[0mxgb_test_pred\u001b[0m\u001b[0;34m\u001b[0m\u001b[0;34m\u001b[0m\u001b[0m\n\u001b[1;32m      5\u001b[0m \u001b[0msub_1\u001b[0m \u001b[0;34m=\u001b[0m \u001b[0msub_1\u001b[0m\u001b[0;34m.\u001b[0m\u001b[0mset_index\u001b[0m\u001b[0;34m(\u001b[0m\u001b[0;34m'Id'\u001b[0m\u001b[0;34m)\u001b[0m\u001b[0;34m\u001b[0m\u001b[0;34m\u001b[0m\u001b[0m\n",
            "\u001b[0;31mAttributeError\u001b[0m: 'numpy.ndarray' object has no attribute 'predict'"
          ]
        }
      ],
      "source": [
        "sub_1 = pd.DataFrame()\n",
        "sub_1['Id'] = df_test.index\n",
        "xgb_test_pred = xgb_best_score.predict(df_test)\n",
        "sub_1['SalePrice'] = xgb_test_pred\n",
        "sub_1 = sub_1.set_index('Id')"
      ]
    },
    {
      "cell_type": "code",
      "execution_count": 159,
      "metadata": {
        "id": "GcDHu6cQ51S6",
        "outputId": "4d5a4c6c-a240-4263-e72d-7c126a23a1af",
        "colab": {
          "base_uri": "https://localhost:8080/",
          "height": 206
        }
      },
      "outputs": [
        {
          "output_type": "execute_result",
          "data": {
            "text/plain": [
              "     Id\n",
              "0  1461\n",
              "1  1462\n",
              "2  1463\n",
              "3  1464\n",
              "4  1465"
            ],
            "text/html": [
              "\n",
              "  <div id=\"df-8bc6fdc1-5629-4e59-a1ed-c9f96684f739\" class=\"colab-df-container\">\n",
              "    <div>\n",
              "<style scoped>\n",
              "    .dataframe tbody tr th:only-of-type {\n",
              "        vertical-align: middle;\n",
              "    }\n",
              "\n",
              "    .dataframe tbody tr th {\n",
              "        vertical-align: top;\n",
              "    }\n",
              "\n",
              "    .dataframe thead th {\n",
              "        text-align: right;\n",
              "    }\n",
              "</style>\n",
              "<table border=\"1\" class=\"dataframe\">\n",
              "  <thead>\n",
              "    <tr style=\"text-align: right;\">\n",
              "      <th></th>\n",
              "      <th>Id</th>\n",
              "    </tr>\n",
              "  </thead>\n",
              "  <tbody>\n",
              "    <tr>\n",
              "      <th>0</th>\n",
              "      <td>1461</td>\n",
              "    </tr>\n",
              "    <tr>\n",
              "      <th>1</th>\n",
              "      <td>1462</td>\n",
              "    </tr>\n",
              "    <tr>\n",
              "      <th>2</th>\n",
              "      <td>1463</td>\n",
              "    </tr>\n",
              "    <tr>\n",
              "      <th>3</th>\n",
              "      <td>1464</td>\n",
              "    </tr>\n",
              "    <tr>\n",
              "      <th>4</th>\n",
              "      <td>1465</td>\n",
              "    </tr>\n",
              "  </tbody>\n",
              "</table>\n",
              "</div>\n",
              "    <div class=\"colab-df-buttons\">\n",
              "\n",
              "  <div class=\"colab-df-container\">\n",
              "    <button class=\"colab-df-convert\" onclick=\"convertToInteractive('df-8bc6fdc1-5629-4e59-a1ed-c9f96684f739')\"\n",
              "            title=\"Convert this dataframe to an interactive table.\"\n",
              "            style=\"display:none;\">\n",
              "\n",
              "  <svg xmlns=\"http://www.w3.org/2000/svg\" height=\"24px\" viewBox=\"0 -960 960 960\">\n",
              "    <path d=\"M120-120v-720h720v720H120Zm60-500h600v-160H180v160Zm220 220h160v-160H400v160Zm0 220h160v-160H400v160ZM180-400h160v-160H180v160Zm440 0h160v-160H620v160ZM180-180h160v-160H180v160Zm440 0h160v-160H620v160Z\"/>\n",
              "  </svg>\n",
              "    </button>\n",
              "\n",
              "  <style>\n",
              "    .colab-df-container {\n",
              "      display:flex;\n",
              "      gap: 12px;\n",
              "    }\n",
              "\n",
              "    .colab-df-convert {\n",
              "      background-color: #E8F0FE;\n",
              "      border: none;\n",
              "      border-radius: 50%;\n",
              "      cursor: pointer;\n",
              "      display: none;\n",
              "      fill: #1967D2;\n",
              "      height: 32px;\n",
              "      padding: 0 0 0 0;\n",
              "      width: 32px;\n",
              "    }\n",
              "\n",
              "    .colab-df-convert:hover {\n",
              "      background-color: #E2EBFA;\n",
              "      box-shadow: 0px 1px 2px rgba(60, 64, 67, 0.3), 0px 1px 3px 1px rgba(60, 64, 67, 0.15);\n",
              "      fill: #174EA6;\n",
              "    }\n",
              "\n",
              "    .colab-df-buttons div {\n",
              "      margin-bottom: 4px;\n",
              "    }\n",
              "\n",
              "    [theme=dark] .colab-df-convert {\n",
              "      background-color: #3B4455;\n",
              "      fill: #D2E3FC;\n",
              "    }\n",
              "\n",
              "    [theme=dark] .colab-df-convert:hover {\n",
              "      background-color: #434B5C;\n",
              "      box-shadow: 0px 1px 3px 1px rgba(0, 0, 0, 0.15);\n",
              "      filter: drop-shadow(0px 1px 2px rgba(0, 0, 0, 0.3));\n",
              "      fill: #FFFFFF;\n",
              "    }\n",
              "  </style>\n",
              "\n",
              "    <script>\n",
              "      const buttonEl =\n",
              "        document.querySelector('#df-8bc6fdc1-5629-4e59-a1ed-c9f96684f739 button.colab-df-convert');\n",
              "      buttonEl.style.display =\n",
              "        google.colab.kernel.accessAllowed ? 'block' : 'none';\n",
              "\n",
              "      async function convertToInteractive(key) {\n",
              "        const element = document.querySelector('#df-8bc6fdc1-5629-4e59-a1ed-c9f96684f739');\n",
              "        const dataTable =\n",
              "          await google.colab.kernel.invokeFunction('convertToInteractive',\n",
              "                                                    [key], {});\n",
              "        if (!dataTable) return;\n",
              "\n",
              "        const docLinkHtml = 'Like what you see? Visit the ' +\n",
              "          '<a target=\"_blank\" href=https://colab.research.google.com/notebooks/data_table.ipynb>data table notebook</a>'\n",
              "          + ' to learn more about interactive tables.';\n",
              "        element.innerHTML = '';\n",
              "        dataTable['output_type'] = 'display_data';\n",
              "        await google.colab.output.renderOutput(dataTable, element);\n",
              "        const docLink = document.createElement('div');\n",
              "        docLink.innerHTML = docLinkHtml;\n",
              "        element.appendChild(docLink);\n",
              "      }\n",
              "    </script>\n",
              "  </div>\n",
              "\n",
              "\n",
              "<div id=\"df-43c04525-d71b-477a-8fc0-d947a3315911\">\n",
              "  <button class=\"colab-df-quickchart\" onclick=\"quickchart('df-43c04525-d71b-477a-8fc0-d947a3315911')\"\n",
              "            title=\"Suggest charts.\"\n",
              "            style=\"display:none;\">\n",
              "\n",
              "<svg xmlns=\"http://www.w3.org/2000/svg\" height=\"24px\"viewBox=\"0 0 24 24\"\n",
              "     width=\"24px\">\n",
              "    <g>\n",
              "        <path d=\"M19 3H5c-1.1 0-2 .9-2 2v14c0 1.1.9 2 2 2h14c1.1 0 2-.9 2-2V5c0-1.1-.9-2-2-2zM9 17H7v-7h2v7zm4 0h-2V7h2v10zm4 0h-2v-4h2v4z\"/>\n",
              "    </g>\n",
              "</svg>\n",
              "  </button>\n",
              "\n",
              "<style>\n",
              "  .colab-df-quickchart {\n",
              "    background-color: #E8F0FE;\n",
              "    border: none;\n",
              "    border-radius: 50%;\n",
              "    cursor: pointer;\n",
              "    display: none;\n",
              "    fill: #1967D2;\n",
              "    height: 32px;\n",
              "    padding: 0 0 0 0;\n",
              "    width: 32px;\n",
              "  }\n",
              "\n",
              "  .colab-df-quickchart:hover {\n",
              "    background-color: #E2EBFA;\n",
              "    box-shadow: 0px 1px 2px rgba(60, 64, 67, 0.3), 0px 1px 3px 1px rgba(60, 64, 67, 0.15);\n",
              "    fill: #174EA6;\n",
              "  }\n",
              "\n",
              "  [theme=dark] .colab-df-quickchart {\n",
              "    background-color: #3B4455;\n",
              "    fill: #D2E3FC;\n",
              "  }\n",
              "\n",
              "  [theme=dark] .colab-df-quickchart:hover {\n",
              "    background-color: #434B5C;\n",
              "    box-shadow: 0px 1px 3px 1px rgba(0, 0, 0, 0.15);\n",
              "    filter: drop-shadow(0px 1px 2px rgba(0, 0, 0, 0.3));\n",
              "    fill: #FFFFFF;\n",
              "  }\n",
              "</style>\n",
              "\n",
              "  <script>\n",
              "    async function quickchart(key) {\n",
              "      const charts = await google.colab.kernel.invokeFunction(\n",
              "          'suggestCharts', [key], {});\n",
              "    }\n",
              "    (() => {\n",
              "      let quickchartButtonEl =\n",
              "        document.querySelector('#df-43c04525-d71b-477a-8fc0-d947a3315911 button');\n",
              "      quickchartButtonEl.style.display =\n",
              "        google.colab.kernel.accessAllowed ? 'block' : 'none';\n",
              "    })();\n",
              "  </script>\n",
              "</div>\n",
              "    </div>\n",
              "  </div>\n"
            ]
          },
          "metadata": {},
          "execution_count": 159
        }
      ],
      "source": [
        "sub_1.head()"
      ]
    },
    {
      "cell_type": "code",
      "execution_count": null,
      "metadata": {
        "id": "9wZMK4YP51S6"
      },
      "outputs": [],
      "source": [
        "sub_1.to_csv('/Users/volkhind/Desktop/github/houses/sub_1.csv')"
      ]
    },
    {
      "cell_type": "code",
      "execution_count": null,
      "metadata": {
        "id": "zh9VWUPm51S6"
      },
      "outputs": [],
      "source": [
        "sub_2 = pd.DataFrame()\n",
        "sub_2['Id'] = df_test.index\n",
        "xgb_test_pred2 = xgb_best.predict(df_test)\n",
        "sub_2['SalePrice'] = xgb_test_pred2\n",
        "sub_2 = sub_2.set_index('Id')\n",
        "sub_2.head()"
      ]
    },
    {
      "cell_type": "code",
      "execution_count": null,
      "metadata": {
        "id": "bObFZ-7h51S6"
      },
      "outputs": [],
      "source": []
    }
  ],
  "metadata": {
    "kernelspec": {
      "display_name": "Python 3",
      "name": "python3"
    },
    "language_info": {
      "codemirror_mode": {
        "name": "ipython",
        "version": 3
      },
      "file_extension": ".py",
      "mimetype": "text/x-python",
      "name": "python",
      "nbconvert_exporter": "python",
      "pygments_lexer": "ipython3",
      "version": "3.8.3"
    },
    "colab": {
      "provenance": [],
      "collapsed_sections": [
        "66b4fVnr51Sy",
        "MMd0DN3M51S5"
      ],
      "gpuType": "T4",
      "include_colab_link": true
    },
    "accelerator": "GPU"
  },
  "nbformat": 4,
  "nbformat_minor": 0
}