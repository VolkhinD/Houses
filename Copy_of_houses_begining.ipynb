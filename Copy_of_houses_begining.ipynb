{
  "cells": [
    {
      "cell_type": "markdown",
      "metadata": {
        "id": "view-in-github",
        "colab_type": "text"
      },
      "source": [
        "<a href=\"https://colab.research.google.com/github/VolkhinD/Houses/blob/main/Copy_of_houses_begining.ipynb\" target=\"_parent\"><img src=\"https://colab.research.google.com/assets/colab-badge.svg\" alt=\"Open In Colab\"/></a>"
      ]
    },
    {
      "cell_type": "markdown",
      "metadata": {
        "id": "7Ik3QE_FwzoK"
      },
      "source": [
        "# Basic Regression Model with XGBoost "
      ]
    },
    {
      "cell_type": "markdown",
      "source": [
        "# Begginning "
      ],
      "metadata": {
        "id": "tOCNwBl48jI2"
      }
    },
    {
      "cell_type": "code",
      "execution_count": null,
      "metadata": {
        "colab": {
          "base_uri": "https://localhost:8080/"
        },
        "id": "vDtrzu_XwzoT",
        "outputId": "de3a1cad-1e3b-4457-d848-839609039e14"
      },
      "outputs": [
        {
          "output_type": "stream",
          "name": "stdout",
          "text": [
            "Looking in indexes: https://pypi.org/simple, https://us-python.pkg.dev/colab-wheels/public/simple/\n",
            "Requirement already satisfied: xgboost in /usr/local/lib/python3.7/dist-packages (0.90)\n",
            "Requirement already satisfied: scipy in /usr/local/lib/python3.7/dist-packages (from xgboost) (1.7.3)\n",
            "Requirement already satisfied: numpy in /usr/local/lib/python3.7/dist-packages (from xgboost) (1.21.6)\n"
          ]
        }
      ],
      "source": [
        "import sys\n",
        "!{sys.executable} -m pip install xgboost"
      ]
    },
    {
      "cell_type": "code",
      "execution_count": null,
      "metadata": {
        "id": "vCZasJHHwzoZ"
      },
      "outputs": [],
      "source": [
        "import pandas as pd\n",
        "import seaborn as sns\n",
        "import numpy as np\n",
        "import matplotlib.pyplot as plt\n",
        "%matplotlib inline\n",
        "from xgboost import XGBRegressor \n",
        "from sklearn.pipeline import Pipeline, make_pipeline\n",
        "from sklearn.preprocessing import StandardScaler\n",
        "from sklearn.metrics import mean_squared_log_error as MSLE, mean_absolute_error\n",
        "from sklearn.compose import make_column_transformer, make_column_selector as selector\n",
        "from sklearn.model_selection import cross_val_score, GridSearchCV\n",
        "from sklearn.preprocessing import RobustScaler, StandardScaler, OneHotEncoder, OrdinalEncoder\n",
        "from sklearn.decomposition import PCA\n",
        "from sklearn.feature_selection import SelectPercentile, f_regression\n",
        "from sklearn.impute import SimpleImputer\n",
        "from sklearn.linear_model import LinearRegression, Lasso\n",
        "from sklearn.feature_selection import SelectFromModel\n",
        "from sklearn.ensemble import RandomForestRegressor\n",
        "from sklearn.feature_selection import RFE"
      ]
    },
    {
      "cell_type": "markdown",
      "metadata": {
        "id": "TdUHU9QSwzoa"
      },
      "source": [
        "Download Data"
      ]
    },
    {
      "cell_type": "code",
      "execution_count": null,
      "metadata": {
        "colab": {
          "base_uri": "https://localhost:8080/"
        },
        "id": "Co-_O_Rxwzoa",
        "outputId": "046422b7-1533-4579-808a-cf0a96114a6c"
      },
      "outputs": [
        {
          "output_type": "stream",
          "name": "stdout",
          "text": [
            "(1460, 81) (1459, 80)\n"
          ]
        }
      ],
      "source": [
        "path = '/content/train.csv'\n",
        "path1 = '/content/test.csv'\n",
        "df = pd.read_csv(path)\n",
        "df_test = pd.read_csv(path1)\n",
        "print(df.shape, df_test.shape)"
      ]
    },
    {
      "cell_type": "code",
      "source": [
        "from google.colab import drive\n",
        "drive.mount('/content/drive')"
      ],
      "metadata": {
        "colab": {
          "base_uri": "https://localhost:8080/"
        },
        "id": "8M1uuyXi1jkB",
        "outputId": "08832a7e-bc70-4bd2-d6c8-f7d6299d32f4"
      },
      "execution_count": null,
      "outputs": [
        {
          "output_type": "stream",
          "name": "stdout",
          "text": [
            "Drive already mounted at /content/drive; to attempt to forcibly remount, call drive.mount(\"/content/drive\", force_remount=True).\n"
          ]
        }
      ]
    },
    {
      "cell_type": "markdown",
      "metadata": {
        "id": "OoxZpEdMwzod"
      },
      "source": [
        "# Work with Data"
      ]
    },
    {
      "cell_type": "markdown",
      "metadata": {
        "id": "gA7doVmVwzoe"
      },
      "source": [
        "  Working with all columns I devided them into 3 categories: strong, good and not important for target based on my opinion only. Later I will be using different types of feature selection. \\\n",
        " I left only 26 features and created 1 new: total number of bathrooms. "
      ]
    },
    {
      "cell_type": "markdown",
      "metadata": {
        "id": "4dCdulv5wzof"
      },
      "source": [
        " ## Understand Data"
      ]
    },
    {
      "cell_type": "markdown",
      "metadata": {
        "id": "-47_ZwJvwzog"
      },
      "source": [
        "MSSubClass: The building class \n",
        "The biggest prices from 60\n",
        "\n",
        "MSZoning: The general zoning classification\n",
        "\n",
        "LotFrontage: Linear feet of street connected to property\n",
        "not important\n",
        "\n",
        "LotArea: Lot size in square feet\n",
        "no\n",
        "\n",
        "Street: Type of road access\n",
        "Just 2 values no\n",
        "\n",
        "Alley: Type of alley access\n",
        "1369 Null values\n",
        "\n",
        "LotShape: General shape of property\n",
        "no\n",
        "\n",
        "LandContour: Flatness of the property\n",
        "no\n",
        "\n",
        "Utilities: Type of utilities available\n",
        "just 1! different value\n",
        "\n",
        "LotConfig: Lot configuration\n",
        "no\n",
        "\n",
        "LandSlope: Slope of property\n",
        "no\n",
        "\n",
        "Neighborhood: Physical locations within Ames city limits\n",
        "good\n",
        "\n",
        "Condition1: Proximity to main road or railroad\n",
        "yes\n",
        "\n",
        "Condition2: Proximity to main road or railroad (if a second is present)\n",
        "didn't get it, no\n",
        "\n",
        "BldgType: Type of dwelling\n",
        "yes\n",
        "\n",
        "HouseStyle: Style of dwelling\n",
        "yes\n",
        "\n",
        "OverallQual: Overall material and finish quality\n",
        "STRONG\n",
        "\n",
        "OverallCond: Overall condition rating\n",
        "Categorical values\n",
        "yes\n",
        "\n",
        "YearBuilt: Original construction date\n",
        "yes\n",
        "\n",
        "YearRemodAdd: Remodel date\n",
        "Works with prev feature, check\n",
        "\n",
        "RoofStyle: Type of roof\n",
        "yes\n",
        "\n",
        "RoofMatl: Roof material\n",
        "yes\n",
        "\n",
        "Exterior1st: Exterior covering on house\n",
        "?\n",
        "\n",
        "Exterior2nd: Exterior covering on house (if more than one material)\n",
        "?\n",
        "\n",
        "MasVnrType: Masonry veneer type\n",
        "no\n",
        "\n",
        "MasVnrArea: Masonry veneer area in square feet\n",
        "\n",
        "ExterQual: Exterior material quality\n",
        "yes\n",
        "\n",
        "ExterCond: Present condition of the material on the exterior\n",
        "no\n",
        "\n",
        "Foundation: Type of foundation\n",
        "no\n",
        "\n",
        "BsmtQual: Height of the basement\n",
        "yes 37 NULL\n",
        "\n",
        "BsmtCond: General condition of the basement\n",
        "no 37 NULL\n",
        "\n",
        "BsmtExposure: Walkout or garden level basement walls\n",
        "no NULL\n",
        "\n",
        "BsmtFinType1: Quality of basement finished area\n",
        "no NULL\n",
        "\n",
        "BsmtFinSF1: Type 1 finished square feet\n",
        "no\n",
        "\n",
        "BsmtFinType2: Quality of second finished area (if present)\n",
        "no NULLS\n",
        "\n",
        "BsmtFinSF2: Type 2 finished square feet\n",
        "no\n",
        "\n",
        "BsmtUnfSF: Unfinished square feet of basement area\n",
        "no\n",
        "\n",
        "TotalBsmtSF: Total square feet of basement area\n",
        "STRONG\n",
        "\n",
        "Heating: Type of heating\n",
        "yes\n",
        "\n",
        "HeatingQC: Heating quality and condition\n",
        "yes \n",
        "\n",
        "CentralAir: Central air conditioning\n",
        "yes\n",
        "\n",
        "Electrical: Electrical system\n",
        "1 NULL yes\n",
        "\n",
        "1stFlrSF: First Floor square feet\n",
        "STRONG\n",
        "\n",
        "2ndFlrSF: Second floor square feet\n",
        "STRONG\n",
        "\n",
        "LowQualFinSF: Low quality finished square feet (all floors)\n",
        "no\n",
        "\n",
        "GrLivArea: Above grade (ground) living area square feet\n",
        "STRONG\n",
        "\n",
        "BsmtFullBath: Basement full bathrooms\n",
        "'3' just ones so delete pandas thinks it's num \n",
        "no\n",
        "\n",
        "BsmtHalfBath: Basement half bathrooms\n",
        "pandas thinks it's num \n",
        "no\n",
        "\n",
        "FullBath: Full bathrooms above grade\n",
        "pandas thinks it's num \n",
        "\n",
        "HalfBath: Half baths above grade\n",
        "объеденить с FullBath\n",
        "\n",
        "BedroomAbvGr: Number of bedrooms above basement level\n",
        "yes\n",
        "\n",
        "KitchenAbvGr: Number of kitchens\n",
        "no\n",
        "\n",
        "KitchenQual: Kitchen quality\n",
        "STRONG\n",
        "\n",
        "TotRmsAbvGrd: Total rooms above grade (does not include bathrooms)\n",
        "STRONG\n",
        "\n",
        "Functional: Home functionality rating\n",
        "no\n",
        "\n",
        "Fireplaces: Number of fireplaces\n",
        "yes\n",
        "\n",
        "FireplaceQu: Fireplace quality\n",
        "no NULLs\n",
        "\n",
        "GarageType: Garage location\n",
        "yes NULLS\n",
        "\n",
        "GarageYrBlt: Year garage was built\n",
        "NULLs no\n",
        "\n",
        "GarageFinish: Interior finish of the garage\n",
        "no\n",
        "\n",
        "GarageCars: Size of garage in car capacity\n",
        "no \n",
        "\n",
        "GarageArea: Size of garage in square feet\n",
        "yes\n",
        "\n",
        "GarageQual: Garage quality\n",
        "no\n",
        "\n",
        "GarageCond: Garage condition\n",
        "no\n",
        "\n",
        "PavedDrive: Paved driveway\n",
        "no\n",
        "\n",
        "WoodDeckSF: Wood deck area in square feet\n",
        "no\n",
        "\n",
        "OpenPorchSF: Open porch area in square feet\n",
        "no\n",
        "\n",
        "EnclosedPorch: Enclosed porch area in square feet\n",
        "1252 values is 0 no\n",
        "\n",
        "3SsnPorch: Three season porch area in square feet\n",
        "no, many 0\n",
        "\n",
        "ScreenPorch: Screen porch area in square feet\n",
        "no\n",
        "\n",
        "PoolArea: Pool area in square feet\n",
        "no, 1453 0s\n",
        "\n",
        "PoolQC: Pool quality\n",
        "no\n",
        "\n",
        "Fence: Fence quality\n",
        "no\n",
        "\n",
        "MiscFeature: Miscellaneous feature not covered in other categories\n",
        "no\n",
        "\n",
        "MiscVal: $Value of miscellaneous feature\n",
        "no\n",
        "\n",
        "MoSold: Month Sold\n",
        "no\n",
        "\n",
        "YrSold: Year Sold\n",
        "no\n",
        "\n",
        "SaleType: Type of sale\n",
        "yes\n",
        "\n",
        "SaleCondition: Condition of sale\n",
        "no"
      ]
    },
    {
      "cell_type": "code",
      "execution_count": null,
      "metadata": {
        "colab": {
          "base_uri": "https://localhost:8080/",
          "height": 387
        },
        "id": "g8wXZ2bXwzoj",
        "outputId": "6b38c8ec-400c-4dad-ac0d-776c43d8658f"
      },
      "outputs": [
        {
          "output_type": "execute_result",
          "data": {
            "text/plain": [
              "<seaborn.axisgrid.FacetGrid at 0x7f9c9b424810>"
            ]
          },
          "metadata": {},
          "execution_count": 9
        },
        {
          "output_type": "display_data",
          "data": {
            "text/plain": [
              "<Figure size 360x360 with 1 Axes>"
            ],
            "image/png": "[encoded data removed]"
          },
          "metadata": {
            "needs_background": "light"
          }
        }
      ],
      "source": [
        "sns.catplot(x=\"SaleCondition\", y=\"SalePrice\", data=df)"
      ]
    },
    {
      "cell_type": "code",
      "execution_count": null,
      "metadata": {
        "colab": {
          "base_uri": "https://localhost:8080/",
          "height": 387
        },
        "id": "GHkx7j3Xwzol",
        "outputId": "e20fd612-43e5-4a8d-c4cf-8494603e0d87"
      },
      "outputs": [
        {
          "output_type": "execute_result",
          "data": {
            "text/plain": [
              "<seaborn.axisgrid.FacetGrid at 0x7f9c966dc810>"
            ]
          },
          "metadata": {},
          "execution_count": 47
        },
        {
          "output_type": "display_data",
          "data": {
            "text/plain": [
              "<Figure size 360x360 with 1 Axes>"
            ],
            "image/png": "[encoded data removed]"
          },
          "metadata": {
            "needs_background": "light"
          }
        }
      ],
      "source": [
        "sns.catplot(x='Heating', y=\"SalePrice\", data=df, kind='box')"
      ]
    },
    {
      "cell_type": "code",
      "execution_count": null,
      "metadata": {
        "colab": {
          "base_uri": "https://localhost:8080/",
          "height": 387
        },
        "id": "02Sj26EHwzon",
        "outputId": "08829a9c-c558-4b99-fb5d-e6be3cd53991"
      },
      "outputs": [
        {
          "output_type": "execute_result",
          "data": {
            "text/plain": [
              "<seaborn.axisgrid.FacetGrid at 0x7f9c967f3f10>"
            ]
          },
          "metadata": {},
          "execution_count": 45
        },
        {
          "output_type": "display_data",
          "data": {
            "text/plain": [
              "<Figure size 360x360 with 1 Axes>"
            ],
            "image/png": "[encoded data removed]"
          },
          "metadata": {
            "needs_background": "light"
          }
        }
      ],
      "source": [
        "sns.lmplot(x= 'OpenPorchSF', y=\"SalePrice\", data=df)"
      ]
    },
    {
      "cell_type": "markdown",
      "source": [
        "# Feature Selection"
      ],
      "metadata": {
        "id": "lSkBz4T94XZP"
      }
    },
    {
      "cell_type": "markdown",
      "metadata": {
        "id": "DbsczwO9wzoo"
      },
      "source": [
        "Set 'Id' as an index"
      ]
    },
    {
      "cell_type": "code",
      "execution_count": null,
      "metadata": {
        "id": "J0FBV5EDwzop"
      },
      "outputs": [],
      "source": [
        "df = df.set_index('Id')\n"
      ]
    },
    {
      "cell_type": "markdown",
      "metadata": {
        "id": "Wbo4DoLJwzop"
      },
      "source": [
        "Add a new feature: total number of Bathrooms in a house"
      ]
    },
    {
      "cell_type": "code",
      "execution_count": null,
      "metadata": {
        "id": "wo8g-yDfwzop"
      },
      "outputs": [],
      "source": [
        "df['BathNum'] = df['FullBath'] + 0.5*df['HalfBath'] + df['BsmtFullBath']\n",
        "y = df.SalePrice\n",
        "df = df.drop('SalePrice', axis=1)"
      ]
    },
    {
      "cell_type": "markdown",
      "source": [
        "### **Based on my opinion**"
      ],
      "metadata": {
        "id": "-zdFuTcEF_ek"
      }
    },
    {
      "cell_type": "code",
      "execution_count": null,
      "metadata": {
        "colab": {
          "base_uri": "https://localhost:8080/"
        },
        "id": "HKZXk2SAwzoq",
        "outputId": "119157e2-ea2b-4219-d15e-585ce86742ed"
      },
      "outputs": [
        {
          "output_type": "execute_result",
          "data": {
            "text/plain": [
              "27"
            ]
          },
          "metadata": {},
          "execution_count": 140
        }
      ],
      "source": [
        "num_feat = ['LotFrontage', 'LotArea',  'YearBuilt', 'YearRemodAdd', 'MasVnrArea', 'BsmtFinSF1',\n",
        "       'BsmtFinSF2', 'BsmtUnfSF', 'TotalBsmtSF', '1stFlrSF', '2ndFlrSF',\n",
        "       'LowQualFinSF', 'GrLivArea', 'GarageYrBlt', 'GarageArea', 'WoodDeckSF',\n",
        "       'OpenPorchSF', 'EnclosedPorch', '3SsnPorch', 'ScreenPorch', 'PoolArea',\n",
        "       'MiscVal']\n",
        "cat_feat = list(set(df.columns) - set(num_feat))\n",
        "strong_feat = ['OverallQual', 'TotalBsmtSF', '1stFlrSF', '2ndFlrSF', 'GrLivArea', 'KitchenQual', 'TotRmsAbvGrd', 'BathNum']\n",
        "good_feat = ['Condition1', 'BldgType', 'HouseStyle', 'OverallCond', 'YearBuilt', 'YearRemodAdd', 'RoofStyle', 'RoofMatl',\n",
        "            'ExterQual', 'ExterQual', 'Heating', 'HeatingQC', 'CentralAir', 'Electrical', 'BedroomAbvGr', 'MasVnrArea',\n",
        "             'Fireplaces', 'GarageArea', 'SaleType'] + strong_feat\n",
        "good_cat_feat = list(set(good_feat) & set(cat_feat))\n",
        "good_num_feat = list(set(good_feat) - set(good_cat_feat))\n",
        "good_data = df[good_feat]\n",
        "strong = df[strong_feat]\n",
        "len(good_feat)\n"
      ]
    },
    {
      "cell_type": "markdown",
      "source": [
        "### **Univariate statistics**"
      ],
      "metadata": {
        "id": "RoRLg0VyGLH4"
      }
    },
    {
      "cell_type": "code",
      "source": [
        "selector1 = SelectPercentile(f_regression, percentile=50)\n",
        "uni_pipe = Pipeline([('imputer', SimpleImputer()), ('selector', selector1)])\n",
        "uni_pipe.fit(df[num_feat], y)\n",
        "X_univar = uni_pipe.transform(df[num_feat])\n",
        "uni_pipe.feature_names_in_\n",
        "X_univar = pd.DataFrame(X_univar)"
      ],
      "metadata": {
        "id": "zmXQd-cxJDp4"
      },
      "execution_count": null,
      "outputs": []
    },
    {
      "cell_type": "markdown",
      "source": [
        "### **Model-based selection** \n",
        "There is raw data so lets start with basic feature work: \\\n"
      ],
      "metadata": {
        "id": "Y_YuE4kBGOrJ"
      }
    },
    {
      "cell_type": "code",
      "source": [
        "\n",
        "num_chan = make_pipeline(\n",
        "    StandardScaler(), SimpleImputer(strategy=\"mean\", add_indicator=True))\n",
        "cat_chan = make_pipeline(\n",
        "    SimpleImputer(strategy=\"constant\", fill_value=\"missing\"),\n",
        "    OneHotEncoder(handle_unknown=\"ignore\"),)\n",
        "\n",
        "num_chan_tree = SimpleImputer(strategy=\"mean\", add_indicator=True)\n",
        "cat_chan_tree = make_pipeline(\n",
        "    SimpleImputer(strategy=\"constant\", fill_value=\"missing\"),\n",
        "    OrdinalEncoder(handle_unknown=\"use_encoded_value\", unknown_value=-1),)\n",
        "\n",
        "linear_changer = make_column_transformer(\n",
        "    (num_chan, selector(dtype_include=\"number\")),\n",
        "    (cat_chan, selector(dtype_include=\"category\")),)\n",
        "\n",
        "tree_changer = make_column_transformer(\n",
        "    (num_chan_tree, selector(dtype_include=\"number\")),\n",
        "    (cat_chan_tree, selector(dtype_include=\"category\")),)"
      ],
      "metadata": {
        "id": "WvoHm6G2Q-lR"
      },
      "execution_count": null,
      "outputs": []
    },
    {
      "cell_type": "code",
      "source": [
        "selector2 = SelectFromModel(Lasso(), max_features=40)\n",
        "selector3 = SelectFromModel(RandomForestRegressor(n_estimators=100, random_state=42), max_features=40)\n",
        "lasso_pipe = Pipeline([('changer', linear_changer), ('selector', selector2)])\n",
        "forest_pipe = Pipeline([('changer', tree_changer), ('selector', selector3)])\n",
        "\n",
        "lasso_pipe.fit(df, y)\n",
        "X_lasso = pd.DataFrame(lasso_pipe.transform(df))\n"
      ],
      "metadata": {
        "id": "dvQJNcO3YIuU"
      },
      "execution_count": null,
      "outputs": []
    },
    {
      "cell_type": "code",
      "source": [
        "forest_pipe.fit(df, y)\n",
        "X_forest = pd.DataFrame(forest_pipe.transform(df))"
      ],
      "metadata": {
        "id": "ifS6s0kka6tX"
      },
      "execution_count": null,
      "outputs": []
    },
    {
      "cell_type": "code",
      "source": [
        "X_forest.shape"
      ],
      "metadata": {
        "colab": {
          "base_uri": "https://localhost:8080/"
        },
        "id": "qXlg5BCKc8D_",
        "outputId": "00265707-e617-4d95-8bc0-557275432841"
      },
      "execution_count": null,
      "outputs": [
        {
          "output_type": "execute_result",
          "data": {
            "text/plain": [
              "(1460, 7)"
            ]
          },
          "metadata": {},
          "execution_count": 164
        }
      ]
    },
    {
      "cell_type": "markdown",
      "source": [
        "Lasso kept 40 features, Random Forst kept only 7"
      ],
      "metadata": {
        "id": "964yGW87dSYq"
      }
    },
    {
      "cell_type": "markdown",
      "source": [
        "### **Iterative selection, Recursive Feature Elimination, RFE)**"
      ],
      "metadata": {
        "id": "NiPsQWsKGOvm"
      }
    },
    {
      "cell_type": "code",
      "source": [
        "selector4 = RFE(RandomForestRegressor(n_estimators=100, random_state=42), n_features_to_select=40)\n",
        "selector5 = RFE(LinearRegression(), n_features_to_select=40)\n",
        "\n",
        "rfe_pipe = Pipeline([('changer', tree_changer), ('selector', selector4)])\n",
        "rfe_pipe.fit(df, y)\n",
        "X_rfe_forest = pd.DataFrame(rfe_pipe.transform(df))\n",
        "\n",
        "selector5 = RFE(LinearRegression(), n_features_to_select=40)\n",
        "rfe_lin_pipe = Pipeline([('changer', linear_changer), ('selector', selector5)])\n",
        "X_rfe_lin = pd.DataFrame(rfe_lin_pipe.fit_transform(df, y))"
      ],
      "metadata": {
        "id": "2GpgnoDegnOf"
      },
      "execution_count": null,
      "outputs": []
    },
    {
      "cell_type": "markdown",
      "metadata": {
        "id": "O8A2aGoTwzou"
      },
      "source": [
        "## Catching NULL values"
      ]
    },
    {
      "cell_type": "markdown",
      "metadata": {
        "id": "g-2nSj09wzor"
      },
      "source": [
        "BsmtQual and BsmtCond add new value 'No Bsmt'\n",
        "GarageType add new 'No Garage'\n"
      ]
    },
    {
      "cell_type": "code",
      "execution_count": null,
      "metadata": {
        "id": "yOLobBPrwzov"
      },
      "outputs": [],
      "source": [
        "for row in good_feat:\n",
        "    if strong[row].isnull().sum():\n",
        "        print(row)\n",
        "        print(strong[row].isnull().sum())"
      ]
    },
    {
      "cell_type": "code",
      "source": [
        "good_data.isnull().sum()"
      ],
      "metadata": {
        "id": "Z8pVvJJBFHNj"
      },
      "execution_count": null,
      "outputs": []
    },
    {
      "cell_type": "markdown",
      "source": [
        "MasVnrArea      8 \\\n",
        "Electrical      1"
      ],
      "metadata": {
        "id": "FGd9HItmFr7G"
      }
    },
    {
      "cell_type": "markdown",
      "source": [
        "## Heatmaps "
      ],
      "metadata": {
        "id": "Ywmpi9ytF4HA"
      }
    },
    {
      "cell_type": "code",
      "execution_count": null,
      "metadata": {
        "colab": {
          "base_uri": "https://localhost:8080/",
          "height": 350
        },
        "id": "_MkuDvPuwzov",
        "outputId": "a57393a6-259a-4677-b1e1-0601220935fb"
      },
      "outputs": [
        {
          "output_type": "execute_result",
          "data": {
            "text/plain": [
              "<matplotlib.axes._subplots.AxesSubplot at 0x7f9c97d18050>"
            ]
          },
          "metadata": {},
          "execution_count": 18
        },
        {
          "output_type": "display_data",
          "data": {
            "text/plain": [
              "<Figure size 432x288 with 2 Axes>"
            ],
            "image/png": "[encoded data removed]"
          },
          "metadata": {
            "needs_background": "light"
          }
        }
      ],
      "source": [
        "sns.heatmap(strong.corr(), cmap = 'BrBG_r',annot=True)"
      ]
    },
    {
      "cell_type": "code",
      "execution_count": null,
      "metadata": {
        "colab": {
          "base_uri": "https://localhost:8080/"
        },
        "id": "jNQLTBYqwzov",
        "outputId": "b012681e-fc06-4009-fc4c-f9f711730d6f"
      },
      "outputs": [
        {
          "output_type": "execute_result",
          "data": {
            "text/plain": [
              "Id\n",
              "1       1710\n",
              "2       1262\n",
              "3       1786\n",
              "4       1717\n",
              "5       2198\n",
              "        ... \n",
              "1456    1647\n",
              "1457    2073\n",
              "1458    2340\n",
              "1459    1078\n",
              "1460    1256\n",
              "Name: GrLivArea, Length: 1460, dtype: int64"
            ]
          },
          "metadata": {},
          "execution_count": 19
        }
      ],
      "source": [
        "strong.pop('GrLivArea')"
      ]
    },
    {
      "cell_type": "code",
      "execution_count": null,
      "metadata": {
        "colab": {
          "base_uri": "https://localhost:8080/",
          "height": 350
        },
        "id": "dQgCuO1Owzow",
        "outputId": "cd0cbe0c-2156-4829-fa9e-23bb006fa445"
      },
      "outputs": [
        {
          "output_type": "execute_result",
          "data": {
            "text/plain": [
              "<matplotlib.axes._subplots.AxesSubplot at 0x7f9c978b1c90>"
            ]
          },
          "metadata": {},
          "execution_count": 20
        },
        {
          "output_type": "display_data",
          "data": {
            "text/plain": [
              "<Figure size 432x288 with 2 Axes>"
            ],
            "image/png": "[encoded data removed]"
          },
          "metadata": {
            "needs_background": "light"
          }
        }
      ],
      "source": [
        "sns.heatmap(strong.corr(), cmap = 'BrBG_r',annot=True)"
      ]
    },
    {
      "cell_type": "markdown",
      "metadata": {
        "id": "sfLajwNOwzow"
      },
      "source": [
        "# Catching Outliners \n",
        "\n",
        "1. To see outliners use RobustScaler "
      ]
    },
    {
      "cell_type": "markdown",
      "metadata": {
        "id": "TJBzNdc6wzow"
      },
      "source": [
        "## Research Distribution"
      ]
    },
    {
      "cell_type": "markdown",
      "metadata": {
        "id": "oMB6sF4Nwzox"
      },
      "source": [
        "# Preprocessing and Base Pipelines"
      ]
    },
    {
      "cell_type": "code",
      "execution_count": null,
      "metadata": {
        "id": "8x4Bb2GHwzou"
      },
      "outputs": [],
      "source": [
        "model = XGBRegressor()\n",
        "strong = df[strong_feat]\n",
        "good = df[good_feat]"
      ]
    },
    {
      "cell_type": "markdown",
      "metadata": {
        "id": "FZwXlL52wzox"
      },
      "source": [
        "To GridSearch: n_estimators[100, 700, 1000], max_depth = [3, 6, 9]\n"
      ]
    },
    {
      "cell_type": "code",
      "execution_count": null,
      "metadata": {
        "id": "jTIF3tcZwzoy"
      },
      "outputs": [],
      "source": [
        "pipe1.get_params().keys()"
      ]
    },
    {
      "cell_type": "code",
      "execution_count": null,
      "metadata": {
        "id": "MkgQGVC9wzoy"
      },
      "outputs": [],
      "source": [
        "param_grid = {'model__n_estimators': [100, 300, 500, 700], \n",
        "              'model__max_depth':[3, 6, 9]}\n",
        "grid = GridSearchCV(pipe2, param_grid, cv=5, scoring='neg_mean_squared_log_error')\n",
        "grid.fit(strong, y)\n",
        "print(grid.best_estimator_)"
      ]
    },
    {
      "cell_type": "code",
      "source": [
        "selected_data = [X_univar, X_lasso, X_forest, X_rfe_forest, X_rfe_lin]"
      ],
      "metadata": {
        "id": "q4_peKobjvW3"
      },
      "execution_count": null,
      "outputs": []
    },
    {
      "cell_type": "code",
      "source": [
        "scores = {'neg_mean_absolute_error': []}\n",
        "index = []\n",
        "result = cross_val_score(model, X=X_univar, y=y, cv=5, scoring='neg_mean_absolute_error')\n",
        "index += ['Univariate statistics']\n",
        "scores['neg_mean_absolute_error'].append(result.mean())\n",
        "df_scores = pd.DataFrame(scores, index=index)\n",
        "df_scores"
      ],
      "metadata": {
        "colab": {
          "base_uri": "https://localhost:8080/",
          "height": 170
        },
        "id": "sMMIRW3_k1Ly",
        "outputId": "e035b721-3e42-4c7e-9397-c65352484735"
      },
      "execution_count": null,
      "outputs": [
        {
          "output_type": "stream",
          "name": "stdout",
          "text": [
            "[22:17:25] WARNING: /workspace/src/objective/regression_obj.cu:152: reg:linear is now deprecated in favor of reg:squarederror.\n",
            "[22:17:25] WARNING: /workspace/src/objective/regression_obj.cu:152: reg:linear is now deprecated in favor of reg:squarederror.\n",
            "[22:17:25] WARNING: /workspace/src/objective/regression_obj.cu:152: reg:linear is now deprecated in favor of reg:squarederror.\n",
            "[22:17:25] WARNING: /workspace/src/objective/regression_obj.cu:152: reg:linear is now deprecated in favor of reg:squarederror.\n",
            "[22:17:25] WARNING: /workspace/src/objective/regression_obj.cu:152: reg:linear is now deprecated in favor of reg:squarederror.\n"
          ]
        },
        {
          "output_type": "execute_result",
          "data": {
            "text/plain": [
              "                       neg_mean_absolute_error\n",
              "Univariate statistics            -20523.416866"
            ],
            "text/html": [
              "\n",
              "  <div id=\"df-c4c213ba-f90f-4f8f-96b1-888076d5df65\">\n",
              "    <div class=\"colab-df-container\">\n",
              "      <div>\n",
              "<style scoped>\n",
              "    .dataframe tbody tr th:only-of-type {\n",
              "        vertical-align: middle;\n",
              "    }\n",
              "\n",
              "    .dataframe tbody tr th {\n",
              "        vertical-align: top;\n",
              "    }\n",
              "\n",
              "    .dataframe thead th {\n",
              "        text-align: right;\n",
              "    }\n",
              "</style>\n",
              "<table border=\"1\" class=\"dataframe\">\n",
              "  <thead>\n",
              "    <tr style=\"text-align: right;\">\n",
              "      <th></th>\n",
              "      <th>neg_mean_absolute_error</th>\n",
              "    </tr>\n",
              "  </thead>\n",
              "  <tbody>\n",
              "    <tr>\n",
              "      <th>Univariate statistics</th>\n",
              "      <td>-20523.416866</td>\n",
              "    </tr>\n",
              "  </tbody>\n",
              "</table>\n",
              "</div>\n",
              "      <button class=\"colab-df-convert\" onclick=\"convertToInteractive('df-c4c213ba-f90f-4f8f-96b1-888076d5df65')\"\n",
              "              title=\"Convert this dataframe to an interactive table.\"\n",
              "              style=\"display:none;\">\n",
              "        \n",
              "  <svg xmlns=\"http://www.w3.org/2000/svg\" height=\"24px\"viewBox=\"0 0 24 24\"\n",
              "       width=\"24px\">\n",
              "    <path d=\"M0 0h24v24H0V0z\" fill=\"none\"/>\n",
              "    <path d=\"M18.56 5.44l.94 2.06.94-2.06 2.06-.94-2.06-.94-.94-2.06-.94 2.06-2.06.94zm-11 1L8.5 8.5l.94-2.06 2.06-.94-2.06-.94L8.5 2.5l-.94 2.06-2.06.94zm10 10l.94 2.06.94-2.06 2.06-.94-2.06-.94-.94-2.06-.94 2.06-2.06.94z\"/><path d=\"M17.41 7.96l-1.37-1.37c-.4-.4-.92-.59-1.43-.59-.52 0-1.04.2-1.43.59L10.3 9.45l-7.72 7.72c-.78.78-.78 2.05 0 2.83L4 21.41c.39.39.9.59 1.41.59.51 0 1.02-.2 1.41-.59l7.78-7.78 2.81-2.81c.8-.78.8-2.07 0-2.86zM5.41 20L4 18.59l7.72-7.72 1.47 1.35L5.41 20z\"/>\n",
              "  </svg>\n",
              "      </button>\n",
              "      \n",
              "  <style>\n",
              "    .colab-df-container {\n",
              "      display:flex;\n",
              "      flex-wrap:wrap;\n",
              "      gap: 12px;\n",
              "    }\n",
              "\n",
              "    .colab-df-convert {\n",
              "      background-color: #E8F0FE;\n",
              "      border: none;\n",
              "      border-radius: 50%;\n",
              "      cursor: pointer;\n",
              "      display: none;\n",
              "      fill: #1967D2;\n",
              "      height: 32px;\n",
              "      padding: 0 0 0 0;\n",
              "      width: 32px;\n",
              "    }\n",
              "\n",
              "    .colab-df-convert:hover {\n",
              "      background-color: #E2EBFA;\n",
              "      box-shadow: 0px 1px 2px rgba(60, 64, 67, 0.3), 0px 1px 3px 1px rgba(60, 64, 67, 0.15);\n",
              "      fill: #174EA6;\n",
              "    }\n",
              "\n",
              "    [theme=dark] .colab-df-convert {\n",
              "      background-color: #3B4455;\n",
              "      fill: #D2E3FC;\n",
              "    }\n",
              "\n",
              "    [theme=dark] .colab-df-convert:hover {\n",
              "      background-color: #434B5C;\n",
              "      box-shadow: 0px 1px 3px 1px rgba(0, 0, 0, 0.15);\n",
              "      filter: drop-shadow(0px 1px 2px rgba(0, 0, 0, 0.3));\n",
              "      fill: #FFFFFF;\n",
              "    }\n",
              "  </style>\n",
              "\n",
              "      <script>\n",
              "        const buttonEl =\n",
              "          document.querySelector('#df-c4c213ba-f90f-4f8f-96b1-888076d5df65 button.colab-df-convert');\n",
              "        buttonEl.style.display =\n",
              "          google.colab.kernel.accessAllowed ? 'block' : 'none';\n",
              "\n",
              "        async function convertToInteractive(key) {\n",
              "          const element = document.querySelector('#df-c4c213ba-f90f-4f8f-96b1-888076d5df65');\n",
              "          const dataTable =\n",
              "            await google.colab.kernel.invokeFunction('convertToInteractive',\n",
              "                                                     [key], {});\n",
              "          if (!dataTable) return;\n",
              "\n",
              "          const docLinkHtml = 'Like what you see? Visit the ' +\n",
              "            '<a target=\"_blank\" href=https://colab.research.google.com/notebooks/data_table.ipynb>data table notebook</a>'\n",
              "            + ' to learn more about interactive tables.';\n",
              "          element.innerHTML = '';\n",
              "          dataTable['output_type'] = 'display_data';\n",
              "          await google.colab.output.renderOutput(dataTable, element);\n",
              "          const docLink = document.createElement('div');\n",
              "          docLink.innerHTML = docLinkHtml;\n",
              "          element.appendChild(docLink);\n",
              "        }\n",
              "      </script>\n",
              "    </div>\n",
              "  </div>\n",
              "  "
            ]
          },
          "metadata": {},
          "execution_count": 173
        }
      ]
    },
    {
      "cell_type": "code",
      "source": [
        "result = cross_val_score(model, X=X_lasso, y=y, cv=5, scoring='neg_mean_absolute_error')\n",
        "index += ['Model-Based Lasso']\n",
        "scores['neg_mean_absolute_error'].append(result.mean())\n",
        "df_scores = pd.DataFrame(scores, index=index)\n",
        "df_scores"
      ],
      "metadata": {
        "colab": {
          "base_uri": "https://localhost:8080/",
          "height": 201
        },
        "id": "dS6tRUgymstO",
        "outputId": "a0ecdcb0-1a7f-4875-8e52-4fc69f0d6679"
      },
      "execution_count": null,
      "outputs": [
        {
          "output_type": "stream",
          "name": "stdout",
          "text": [
            "[22:17:29] WARNING: /workspace/src/objective/regression_obj.cu:152: reg:linear is now deprecated in favor of reg:squarederror.\n",
            "[22:17:29] WARNING: /workspace/src/objective/regression_obj.cu:152: reg:linear is now deprecated in favor of reg:squarederror.\n",
            "[22:17:30] WARNING: /workspace/src/objective/regression_obj.cu:152: reg:linear is now deprecated in favor of reg:squarederror.\n",
            "[22:17:30] WARNING: /workspace/src/objective/regression_obj.cu:152: reg:linear is now deprecated in favor of reg:squarederror.\n",
            "[22:17:30] WARNING: /workspace/src/objective/regression_obj.cu:152: reg:linear is now deprecated in favor of reg:squarederror.\n"
          ]
        },
        {
          "output_type": "execute_result",
          "data": {
            "text/plain": [
              "                       neg_mean_absolute_error\n",
              "Univariate statistics            -20523.416866\n",
              "Model-Based Lasso                -16736.699922"
            ],
            "text/html": [
              "\n",
              "  <div id=\"df-599f3521-4a80-474c-9488-3ee978e914c0\">\n",
              "    <div class=\"colab-df-container\">\n",
              "      <div>\n",
              "<style scoped>\n",
              "    .dataframe tbody tr th:only-of-type {\n",
              "        vertical-align: middle;\n",
              "    }\n",
              "\n",
              "    .dataframe tbody tr th {\n",
              "        vertical-align: top;\n",
              "    }\n",
              "\n",
              "    .dataframe thead th {\n",
              "        text-align: right;\n",
              "    }\n",
              "</style>\n",
              "<table border=\"1\" class=\"dataframe\">\n",
              "  <thead>\n",
              "    <tr style=\"text-align: right;\">\n",
              "      <th></th>\n",
              "      <th>neg_mean_absolute_error</th>\n",
              "    </tr>\n",
              "  </thead>\n",
              "  <tbody>\n",
              "    <tr>\n",
              "      <th>Univariate statistics</th>\n",
              "      <td>-20523.416866</td>\n",
              "    </tr>\n",
              "    <tr>\n",
              "      <th>Model-Based Lasso</th>\n",
              "      <td>-16736.699922</td>\n",
              "    </tr>\n",
              "  </tbody>\n",
              "</table>\n",
              "</div>\n",
              "      <button class=\"colab-df-convert\" onclick=\"convertToInteractive('df-599f3521-4a80-474c-9488-3ee978e914c0')\"\n",
              "              title=\"Convert this dataframe to an interactive table.\"\n",
              "              style=\"display:none;\">\n",
              "        \n",
              "  <svg xmlns=\"http://www.w3.org/2000/svg\" height=\"24px\"viewBox=\"0 0 24 24\"\n",
              "       width=\"24px\">\n",
              "    <path d=\"M0 0h24v24H0V0z\" fill=\"none\"/>\n",
              "    <path d=\"M18.56 5.44l.94 2.06.94-2.06 2.06-.94-2.06-.94-.94-2.06-.94 2.06-2.06.94zm-11 1L8.5 8.5l.94-2.06 2.06-.94-2.06-.94L8.5 2.5l-.94 2.06-2.06.94zm10 10l.94 2.06.94-2.06 2.06-.94-2.06-.94-.94-2.06-.94 2.06-2.06.94z\"/><path d=\"M17.41 7.96l-1.37-1.37c-.4-.4-.92-.59-1.43-.59-.52 0-1.04.2-1.43.59L10.3 9.45l-7.72 7.72c-.78.78-.78 2.05 0 2.83L4 21.41c.39.39.9.59 1.41.59.51 0 1.02-.2 1.41-.59l7.78-7.78 2.81-2.81c.8-.78.8-2.07 0-2.86zM5.41 20L4 18.59l7.72-7.72 1.47 1.35L5.41 20z\"/>\n",
              "  </svg>\n",
              "      </button>\n",
              "      \n",
              "  <style>\n",
              "    .colab-df-container {\n",
              "      display:flex;\n",
              "      flex-wrap:wrap;\n",
              "      gap: 12px;\n",
              "    }\n",
              "\n",
              "    .colab-df-convert {\n",
              "      background-color: #E8F0FE;\n",
              "      border: none;\n",
              "      border-radius: 50%;\n",
              "      cursor: pointer;\n",
              "      display: none;\n",
              "      fill: #1967D2;\n",
              "      height: 32px;\n",
              "      padding: 0 0 0 0;\n",
              "      width: 32px;\n",
              "    }\n",
              "\n",
              "    .colab-df-convert:hover {\n",
              "      background-color: #E2EBFA;\n",
              "      box-shadow: 0px 1px 2px rgba(60, 64, 67, 0.3), 0px 1px 3px 1px rgba(60, 64, 67, 0.15);\n",
              "      fill: #174EA6;\n",
              "    }\n",
              "\n",
              "    [theme=dark] .colab-df-convert {\n",
              "      background-color: #3B4455;\n",
              "      fill: #D2E3FC;\n",
              "    }\n",
              "\n",
              "    [theme=dark] .colab-df-convert:hover {\n",
              "      background-color: #434B5C;\n",
              "      box-shadow: 0px 1px 3px 1px rgba(0, 0, 0, 0.15);\n",
              "      filter: drop-shadow(0px 1px 2px rgba(0, 0, 0, 0.3));\n",
              "      fill: #FFFFFF;\n",
              "    }\n",
              "  </style>\n",
              "\n",
              "      <script>\n",
              "        const buttonEl =\n",
              "          document.querySelector('#df-599f3521-4a80-474c-9488-3ee978e914c0 button.colab-df-convert');\n",
              "        buttonEl.style.display =\n",
              "          google.colab.kernel.accessAllowed ? 'block' : 'none';\n",
              "\n",
              "        async function convertToInteractive(key) {\n",
              "          const element = document.querySelector('#df-599f3521-4a80-474c-9488-3ee978e914c0');\n",
              "          const dataTable =\n",
              "            await google.colab.kernel.invokeFunction('convertToInteractive',\n",
              "                                                     [key], {});\n",
              "          if (!dataTable) return;\n",
              "\n",
              "          const docLinkHtml = 'Like what you see? Visit the ' +\n",
              "            '<a target=\"_blank\" href=https://colab.research.google.com/notebooks/data_table.ipynb>data table notebook</a>'\n",
              "            + ' to learn more about interactive tables.';\n",
              "          element.innerHTML = '';\n",
              "          dataTable['output_type'] = 'display_data';\n",
              "          await google.colab.output.renderOutput(dataTable, element);\n",
              "          const docLink = document.createElement('div');\n",
              "          docLink.innerHTML = docLinkHtml;\n",
              "          element.appendChild(docLink);\n",
              "        }\n",
              "      </script>\n",
              "    </div>\n",
              "  </div>\n",
              "  "
            ]
          },
          "metadata": {},
          "execution_count": 174
        }
      ]
    },
    {
      "cell_type": "code",
      "source": [
        "result = cross_val_score(model, X=X_forest, y=y, cv=5, scoring='neg_mean_absolute_error')\n",
        "index += ['Model-Based Random Forest']\n",
        "scores['neg_mean_absolute_error'].append(result.mean())\n",
        "df_scores = pd.DataFrame(scores, index=index)\n",
        "df_scores"
      ],
      "metadata": {
        "colab": {
          "base_uri": "https://localhost:8080/",
          "height": 232
        },
        "id": "HmS7YbpInlkd",
        "outputId": "0937344f-21ef-473a-ccc7-24dfe54945d2"
      },
      "execution_count": null,
      "outputs": [
        {
          "output_type": "stream",
          "name": "stdout",
          "text": [
            "[22:18:26] WARNING: /workspace/src/objective/regression_obj.cu:152: reg:linear is now deprecated in favor of reg:squarederror.\n",
            "[22:18:26] WARNING: /workspace/src/objective/regression_obj.cu:152: reg:linear is now deprecated in favor of reg:squarederror.\n",
            "[22:18:26] WARNING: /workspace/src/objective/regression_obj.cu:152: reg:linear is now deprecated in favor of reg:squarederror.\n",
            "[22:18:26] WARNING: /workspace/src/objective/regression_obj.cu:152: reg:linear is now deprecated in favor of reg:squarederror.\n",
            "[22:18:26] WARNING: /workspace/src/objective/regression_obj.cu:152: reg:linear is now deprecated in favor of reg:squarederror.\n"
          ]
        },
        {
          "output_type": "execute_result",
          "data": {
            "text/plain": [
              "                           neg_mean_absolute_error\n",
              "Univariate statistics                -20523.416866\n",
              "Model-Based Lasso                    -16736.699922\n",
              "Model-Based Random Forest            -19993.589116"
            ],
            "text/html": [
              "\n",
              "  <div id=\"df-e3923d96-e0fb-47de-96cb-5db2e55d92c4\">\n",
              "    <div class=\"colab-df-container\">\n",
              "      <div>\n",
              "<style scoped>\n",
              "    .dataframe tbody tr th:only-of-type {\n",
              "        vertical-align: middle;\n",
              "    }\n",
              "\n",
              "    .dataframe tbody tr th {\n",
              "        vertical-align: top;\n",
              "    }\n",
              "\n",
              "    .dataframe thead th {\n",
              "        text-align: right;\n",
              "    }\n",
              "</style>\n",
              "<table border=\"1\" class=\"dataframe\">\n",
              "  <thead>\n",
              "    <tr style=\"text-align: right;\">\n",
              "      <th></th>\n",
              "      <th>neg_mean_absolute_error</th>\n",
              "    </tr>\n",
              "  </thead>\n",
              "  <tbody>\n",
              "    <tr>\n",
              "      <th>Univariate statistics</th>\n",
              "      <td>-20523.416866</td>\n",
              "    </tr>\n",
              "    <tr>\n",
              "      <th>Model-Based Lasso</th>\n",
              "      <td>-16736.699922</td>\n",
              "    </tr>\n",
              "    <tr>\n",
              "      <th>Model-Based Random Forest</th>\n",
              "      <td>-19993.589116</td>\n",
              "    </tr>\n",
              "  </tbody>\n",
              "</table>\n",
              "</div>\n",
              "      <button class=\"colab-df-convert\" onclick=\"convertToInteractive('df-e3923d96-e0fb-47de-96cb-5db2e55d92c4')\"\n",
              "              title=\"Convert this dataframe to an interactive table.\"\n",
              "              style=\"display:none;\">\n",
              "        \n",
              "  <svg xmlns=\"http://www.w3.org/2000/svg\" height=\"24px\"viewBox=\"0 0 24 24\"\n",
              "       width=\"24px\">\n",
              "    <path d=\"M0 0h24v24H0V0z\" fill=\"none\"/>\n",
              "    <path d=\"M18.56 5.44l.94 2.06.94-2.06 2.06-.94-2.06-.94-.94-2.06-.94 2.06-2.06.94zm-11 1L8.5 8.5l.94-2.06 2.06-.94-2.06-.94L8.5 2.5l-.94 2.06-2.06.94zm10 10l.94 2.06.94-2.06 2.06-.94-2.06-.94-.94-2.06-.94 2.06-2.06.94z\"/><path d=\"M17.41 7.96l-1.37-1.37c-.4-.4-.92-.59-1.43-.59-.52 0-1.04.2-1.43.59L10.3 9.45l-7.72 7.72c-.78.78-.78 2.05 0 2.83L4 21.41c.39.39.9.59 1.41.59.51 0 1.02-.2 1.41-.59l7.78-7.78 2.81-2.81c.8-.78.8-2.07 0-2.86zM5.41 20L4 18.59l7.72-7.72 1.47 1.35L5.41 20z\"/>\n",
              "  </svg>\n",
              "      </button>\n",
              "      \n",
              "  <style>\n",
              "    .colab-df-container {\n",
              "      display:flex;\n",
              "      flex-wrap:wrap;\n",
              "      gap: 12px;\n",
              "    }\n",
              "\n",
              "    .colab-df-convert {\n",
              "      background-color: #E8F0FE;\n",
              "      border: none;\n",
              "      border-radius: 50%;\n",
              "      cursor: pointer;\n",
              "      display: none;\n",
              "      fill: #1967D2;\n",
              "      height: 32px;\n",
              "      padding: 0 0 0 0;\n",
              "      width: 32px;\n",
              "    }\n",
              "\n",
              "    .colab-df-convert:hover {\n",
              "      background-color: #E2EBFA;\n",
              "      box-shadow: 0px 1px 2px rgba(60, 64, 67, 0.3), 0px 1px 3px 1px rgba(60, 64, 67, 0.15);\n",
              "      fill: #174EA6;\n",
              "    }\n",
              "\n",
              "    [theme=dark] .colab-df-convert {\n",
              "      background-color: #3B4455;\n",
              "      fill: #D2E3FC;\n",
              "    }\n",
              "\n",
              "    [theme=dark] .colab-df-convert:hover {\n",
              "      background-color: #434B5C;\n",
              "      box-shadow: 0px 1px 3px 1px rgba(0, 0, 0, 0.15);\n",
              "      filter: drop-shadow(0px 1px 2px rgba(0, 0, 0, 0.3));\n",
              "      fill: #FFFFFF;\n",
              "    }\n",
              "  </style>\n",
              "\n",
              "      <script>\n",
              "        const buttonEl =\n",
              "          document.querySelector('#df-e3923d96-e0fb-47de-96cb-5db2e55d92c4 button.colab-df-convert');\n",
              "        buttonEl.style.display =\n",
              "          google.colab.kernel.accessAllowed ? 'block' : 'none';\n",
              "\n",
              "        async function convertToInteractive(key) {\n",
              "          const element = document.querySelector('#df-e3923d96-e0fb-47de-96cb-5db2e55d92c4');\n",
              "          const dataTable =\n",
              "            await google.colab.kernel.invokeFunction('convertToInteractive',\n",
              "                                                     [key], {});\n",
              "          if (!dataTable) return;\n",
              "\n",
              "          const docLinkHtml = 'Like what you see? Visit the ' +\n",
              "            '<a target=\"_blank\" href=https://colab.research.google.com/notebooks/data_table.ipynb>data table notebook</a>'\n",
              "            + ' to learn more about interactive tables.';\n",
              "          element.innerHTML = '';\n",
              "          dataTable['output_type'] = 'display_data';\n",
              "          await google.colab.output.renderOutput(dataTable, element);\n",
              "          const docLink = document.createElement('div');\n",
              "          docLink.innerHTML = docLinkHtml;\n",
              "          element.appendChild(docLink);\n",
              "        }\n",
              "      </script>\n",
              "    </div>\n",
              "  </div>\n",
              "  "
            ]
          },
          "metadata": {},
          "execution_count": 175
        }
      ]
    },
    {
      "cell_type": "code",
      "source": [
        "result = cross_val_score(model, X=X_rfe_forest, y=y, cv=5, scoring='neg_mean_absolute_error')\n",
        "index += ['RFE Random Forest']\n",
        "scores['neg_mean_absolute_error'].append(result.mean())\n",
        "df_scores = pd.DataFrame(scores, index=index)\n",
        "df_scores"
      ],
      "metadata": {
        "colab": {
          "base_uri": "https://localhost:8080/",
          "height": 264
        },
        "id": "2exJSz7PoRZ0",
        "outputId": "ae132d95-f255-4d28-f98c-ca481eb90c82"
      },
      "execution_count": null,
      "outputs": [
        {
          "output_type": "stream",
          "name": "stdout",
          "text": [
            "[22:20:16] WARNING: /workspace/src/objective/regression_obj.cu:152: reg:linear is now deprecated in favor of reg:squarederror.\n",
            "[22:20:16] WARNING: /workspace/src/objective/regression_obj.cu:152: reg:linear is now deprecated in favor of reg:squarederror.\n",
            "[22:20:16] WARNING: /workspace/src/objective/regression_obj.cu:152: reg:linear is now deprecated in favor of reg:squarederror.\n",
            "[22:20:16] WARNING: /workspace/src/objective/regression_obj.cu:152: reg:linear is now deprecated in favor of reg:squarederror.\n",
            "[22:20:17] WARNING: /workspace/src/objective/regression_obj.cu:152: reg:linear is now deprecated in favor of reg:squarederror.\n"
          ]
        },
        {
          "output_type": "execute_result",
          "data": {
            "text/plain": [
              "                           neg_mean_absolute_error\n",
              "Univariate statistics                -20523.416866\n",
              "Model-Based Lasso                    -16736.699922\n",
              "Model-Based Random Forest            -19993.589116\n",
              "RFE Random Forest                    -16734.935336"
            ],
            "text/html": [
              "\n",
              "  <div id=\"df-3b818a4b-42f1-40e8-bfcd-3b0f5b7bd5e0\">\n",
              "    <div class=\"colab-df-container\">\n",
              "      <div>\n",
              "<style scoped>\n",
              "    .dataframe tbody tr th:only-of-type {\n",
              "        vertical-align: middle;\n",
              "    }\n",
              "\n",
              "    .dataframe tbody tr th {\n",
              "        vertical-align: top;\n",
              "    }\n",
              "\n",
              "    .dataframe thead th {\n",
              "        text-align: right;\n",
              "    }\n",
              "</style>\n",
              "<table border=\"1\" class=\"dataframe\">\n",
              "  <thead>\n",
              "    <tr style=\"text-align: right;\">\n",
              "      <th></th>\n",
              "      <th>neg_mean_absolute_error</th>\n",
              "    </tr>\n",
              "  </thead>\n",
              "  <tbody>\n",
              "    <tr>\n",
              "      <th>Univariate statistics</th>\n",
              "      <td>-20523.416866</td>\n",
              "    </tr>\n",
              "    <tr>\n",
              "      <th>Model-Based Lasso</th>\n",
              "      <td>-16736.699922</td>\n",
              "    </tr>\n",
              "    <tr>\n",
              "      <th>Model-Based Random Forest</th>\n",
              "      <td>-19993.589116</td>\n",
              "    </tr>\n",
              "    <tr>\n",
              "      <th>RFE Random Forest</th>\n",
              "      <td>-16734.935336</td>\n",
              "    </tr>\n",
              "  </tbody>\n",
              "</table>\n",
              "</div>\n",
              "      <button class=\"colab-df-convert\" onclick=\"convertToInteractive('df-3b818a4b-42f1-40e8-bfcd-3b0f5b7bd5e0')\"\n",
              "              title=\"Convert this dataframe to an interactive table.\"\n",
              "              style=\"display:none;\">\n",
              "        \n",
              "  <svg xmlns=\"http://www.w3.org/2000/svg\" height=\"24px\"viewBox=\"0 0 24 24\"\n",
              "       width=\"24px\">\n",
              "    <path d=\"M0 0h24v24H0V0z\" fill=\"none\"/>\n",
              "    <path d=\"M18.56 5.44l.94 2.06.94-2.06 2.06-.94-2.06-.94-.94-2.06-.94 2.06-2.06.94zm-11 1L8.5 8.5l.94-2.06 2.06-.94-2.06-.94L8.5 2.5l-.94 2.06-2.06.94zm10 10l.94 2.06.94-2.06 2.06-.94-2.06-.94-.94-2.06-.94 2.06-2.06.94z\"/><path d=\"M17.41 7.96l-1.37-1.37c-.4-.4-.92-.59-1.43-.59-.52 0-1.04.2-1.43.59L10.3 9.45l-7.72 7.72c-.78.78-.78 2.05 0 2.83L4 21.41c.39.39.9.59 1.41.59.51 0 1.02-.2 1.41-.59l7.78-7.78 2.81-2.81c.8-.78.8-2.07 0-2.86zM5.41 20L4 18.59l7.72-7.72 1.47 1.35L5.41 20z\"/>\n",
              "  </svg>\n",
              "      </button>\n",
              "      \n",
              "  <style>\n",
              "    .colab-df-container {\n",
              "      display:flex;\n",
              "      flex-wrap:wrap;\n",
              "      gap: 12px;\n",
              "    }\n",
              "\n",
              "    .colab-df-convert {\n",
              "      background-color: #E8F0FE;\n",
              "      border: none;\n",
              "      border-radius: 50%;\n",
              "      cursor: pointer;\n",
              "      display: none;\n",
              "      fill: #1967D2;\n",
              "      height: 32px;\n",
              "      padding: 0 0 0 0;\n",
              "      width: 32px;\n",
              "    }\n",
              "\n",
              "    .colab-df-convert:hover {\n",
              "      background-color: #E2EBFA;\n",
              "      box-shadow: 0px 1px 2px rgba(60, 64, 67, 0.3), 0px 1px 3px 1px rgba(60, 64, 67, 0.15);\n",
              "      fill: #174EA6;\n",
              "    }\n",
              "\n",
              "    [theme=dark] .colab-df-convert {\n",
              "      background-color: #3B4455;\n",
              "      fill: #D2E3FC;\n",
              "    }\n",
              "\n",
              "    [theme=dark] .colab-df-convert:hover {\n",
              "      background-color: #434B5C;\n",
              "      box-shadow: 0px 1px 3px 1px rgba(0, 0, 0, 0.15);\n",
              "      filter: drop-shadow(0px 1px 2px rgba(0, 0, 0, 0.3));\n",
              "      fill: #FFFFFF;\n",
              "    }\n",
              "  </style>\n",
              "\n",
              "      <script>\n",
              "        const buttonEl =\n",
              "          document.querySelector('#df-3b818a4b-42f1-40e8-bfcd-3b0f5b7bd5e0 button.colab-df-convert');\n",
              "        buttonEl.style.display =\n",
              "          google.colab.kernel.accessAllowed ? 'block' : 'none';\n",
              "\n",
              "        async function convertToInteractive(key) {\n",
              "          const element = document.querySelector('#df-3b818a4b-42f1-40e8-bfcd-3b0f5b7bd5e0');\n",
              "          const dataTable =\n",
              "            await google.colab.kernel.invokeFunction('convertToInteractive',\n",
              "                                                     [key], {});\n",
              "          if (!dataTable) return;\n",
              "\n",
              "          const docLinkHtml = 'Like what you see? Visit the ' +\n",
              "            '<a target=\"_blank\" href=https://colab.research.google.com/notebooks/data_table.ipynb>data table notebook</a>'\n",
              "            + ' to learn more about interactive tables.';\n",
              "          element.innerHTML = '';\n",
              "          dataTable['output_type'] = 'display_data';\n",
              "          await google.colab.output.renderOutput(dataTable, element);\n",
              "          const docLink = document.createElement('div');\n",
              "          docLink.innerHTML = docLinkHtml;\n",
              "          element.appendChild(docLink);\n",
              "        }\n",
              "      </script>\n",
              "    </div>\n",
              "  </div>\n",
              "  "
            ]
          },
          "metadata": {},
          "execution_count": 176
        }
      ]
    },
    {
      "cell_type": "code",
      "source": [
        "result = cross_val_score(model, X=X_rfe_lin, y=y, cv=5, scoring='neg_mean_absolute_error')\n",
        "index += ['RFE Linear']\n",
        "scores['neg_mean_absolute_error'].append(result.mean())\n",
        "df_scores = pd.DataFrame(scores, index=index)\n",
        "df_scores"
      ],
      "metadata": {
        "colab": {
          "base_uri": "https://localhost:8080/",
          "height": 295
        },
        "id": "HsWCS6FrosVC",
        "outputId": "0ee7ac3a-6705-4c8c-8c51-7675b8c9fcbb"
      },
      "execution_count": null,
      "outputs": [
        {
          "output_type": "stream",
          "name": "stdout",
          "text": [
            "[22:20:53] WARNING: /workspace/src/objective/regression_obj.cu:152: reg:linear is now deprecated in favor of reg:squarederror.\n",
            "[22:20:54] WARNING: /workspace/src/objective/regression_obj.cu:152: reg:linear is now deprecated in favor of reg:squarederror.\n",
            "[22:20:54] WARNING: /workspace/src/objective/regression_obj.cu:152: reg:linear is now deprecated in favor of reg:squarederror.\n",
            "[22:20:54] WARNING: /workspace/src/objective/regression_obj.cu:152: reg:linear is now deprecated in favor of reg:squarederror.\n",
            "[22:20:54] WARNING: /workspace/src/objective/regression_obj.cu:152: reg:linear is now deprecated in favor of reg:squarederror.\n"
          ]
        },
        {
          "output_type": "execute_result",
          "data": {
            "text/plain": [
              "                           neg_mean_absolute_error\n",
              "Univariate statistics                -20523.416866\n",
              "Model-Based Lasso                    -16736.699922\n",
              "Model-Based Random Forest            -19993.589116\n",
              "RFE Random Forest                    -16734.935336\n",
              "RFE Linear                           -16736.699922"
            ],
            "text/html": [
              "\n",
              "  <div id=\"df-4819f684-c977-4c6d-925b-4f77648f2f74\">\n",
              "    <div class=\"colab-df-container\">\n",
              "      <div>\n",
              "<style scoped>\n",
              "    .dataframe tbody tr th:only-of-type {\n",
              "        vertical-align: middle;\n",
              "    }\n",
              "\n",
              "    .dataframe tbody tr th {\n",
              "        vertical-align: top;\n",
              "    }\n",
              "\n",
              "    .dataframe thead th {\n",
              "        text-align: right;\n",
              "    }\n",
              "</style>\n",
              "<table border=\"1\" class=\"dataframe\">\n",
              "  <thead>\n",
              "    <tr style=\"text-align: right;\">\n",
              "      <th></th>\n",
              "      <th>neg_mean_absolute_error</th>\n",
              "    </tr>\n",
              "  </thead>\n",
              "  <tbody>\n",
              "    <tr>\n",
              "      <th>Univariate statistics</th>\n",
              "      <td>-20523.416866</td>\n",
              "    </tr>\n",
              "    <tr>\n",
              "      <th>Model-Based Lasso</th>\n",
              "      <td>-16736.699922</td>\n",
              "    </tr>\n",
              "    <tr>\n",
              "      <th>Model-Based Random Forest</th>\n",
              "      <td>-19993.589116</td>\n",
              "    </tr>\n",
              "    <tr>\n",
              "      <th>RFE Random Forest</th>\n",
              "      <td>-16734.935336</td>\n",
              "    </tr>\n",
              "    <tr>\n",
              "      <th>RFE Linear</th>\n",
              "      <td>-16736.699922</td>\n",
              "    </tr>\n",
              "  </tbody>\n",
              "</table>\n",
              "</div>\n",
              "      <button class=\"colab-df-convert\" onclick=\"convertToInteractive('df-4819f684-c977-4c6d-925b-4f77648f2f74')\"\n",
              "              title=\"Convert this dataframe to an interactive table.\"\n",
              "              style=\"display:none;\">\n",
              "        \n",
              "  <svg xmlns=\"http://www.w3.org/2000/svg\" height=\"24px\"viewBox=\"0 0 24 24\"\n",
              "       width=\"24px\">\n",
              "    <path d=\"M0 0h24v24H0V0z\" fill=\"none\"/>\n",
              "    <path d=\"M18.56 5.44l.94 2.06.94-2.06 2.06-.94-2.06-.94-.94-2.06-.94 2.06-2.06.94zm-11 1L8.5 8.5l.94-2.06 2.06-.94-2.06-.94L8.5 2.5l-.94 2.06-2.06.94zm10 10l.94 2.06.94-2.06 2.06-.94-2.06-.94-.94-2.06-.94 2.06-2.06.94z\"/><path d=\"M17.41 7.96l-1.37-1.37c-.4-.4-.92-.59-1.43-.59-.52 0-1.04.2-1.43.59L10.3 9.45l-7.72 7.72c-.78.78-.78 2.05 0 2.83L4 21.41c.39.39.9.59 1.41.59.51 0 1.02-.2 1.41-.59l7.78-7.78 2.81-2.81c.8-.78.8-2.07 0-2.86zM5.41 20L4 18.59l7.72-7.72 1.47 1.35L5.41 20z\"/>\n",
              "  </svg>\n",
              "      </button>\n",
              "      \n",
              "  <style>\n",
              "    .colab-df-container {\n",
              "      display:flex;\n",
              "      flex-wrap:wrap;\n",
              "      gap: 12px;\n",
              "    }\n",
              "\n",
              "    .colab-df-convert {\n",
              "      background-color: #E8F0FE;\n",
              "      border: none;\n",
              "      border-radius: 50%;\n",
              "      cursor: pointer;\n",
              "      display: none;\n",
              "      fill: #1967D2;\n",
              "      height: 32px;\n",
              "      padding: 0 0 0 0;\n",
              "      width: 32px;\n",
              "    }\n",
              "\n",
              "    .colab-df-convert:hover {\n",
              "      background-color: #E2EBFA;\n",
              "      box-shadow: 0px 1px 2px rgba(60, 64, 67, 0.3), 0px 1px 3px 1px rgba(60, 64, 67, 0.15);\n",
              "      fill: #174EA6;\n",
              "    }\n",
              "\n",
              "    [theme=dark] .colab-df-convert {\n",
              "      background-color: #3B4455;\n",
              "      fill: #D2E3FC;\n",
              "    }\n",
              "\n",
              "    [theme=dark] .colab-df-convert:hover {\n",
              "      background-color: #434B5C;\n",
              "      box-shadow: 0px 1px 3px 1px rgba(0, 0, 0, 0.15);\n",
              "      filter: drop-shadow(0px 1px 2px rgba(0, 0, 0, 0.3));\n",
              "      fill: #FFFFFF;\n",
              "    }\n",
              "  </style>\n",
              "\n",
              "      <script>\n",
              "        const buttonEl =\n",
              "          document.querySelector('#df-4819f684-c977-4c6d-925b-4f77648f2f74 button.colab-df-convert');\n",
              "        buttonEl.style.display =\n",
              "          google.colab.kernel.accessAllowed ? 'block' : 'none';\n",
              "\n",
              "        async function convertToInteractive(key) {\n",
              "          const element = document.querySelector('#df-4819f684-c977-4c6d-925b-4f77648f2f74');\n",
              "          const dataTable =\n",
              "            await google.colab.kernel.invokeFunction('convertToInteractive',\n",
              "                                                     [key], {});\n",
              "          if (!dataTable) return;\n",
              "\n",
              "          const docLinkHtml = 'Like what you see? Visit the ' +\n",
              "            '<a target=\"_blank\" href=https://colab.research.google.com/notebooks/data_table.ipynb>data table notebook</a>'\n",
              "            + ' to learn more about interactive tables.';\n",
              "          element.innerHTML = '';\n",
              "          dataTable['output_type'] = 'display_data';\n",
              "          await google.colab.output.renderOutput(dataTable, element);\n",
              "          const docLink = document.createElement('div');\n",
              "          docLink.innerHTML = docLinkHtml;\n",
              "          element.appendChild(docLink);\n",
              "        }\n",
              "      </script>\n",
              "    </div>\n",
              "  </div>\n",
              "  "
            ]
          },
          "metadata": {},
          "execution_count": 177
        }
      ]
    },
    {
      "cell_type": "code",
      "source": [
        "num_pre = StandardScaler()\n",
        "cat_pre = OneHotEncoder()\n",
        "preprocesser_strong = make_column_transformer(\n",
        "    (num_pre, selector(dtype_include=\"number\")),\n",
        "    (cat_pre, selector(dtype_include=\"category\")),)\n",
        "\n",
        "pipe_hand = Pipeline([('preprocessing', preprocesser_strong), ('model', model)])\n",
        "\n",
        "result = cross_val_score(pipe_hand, X=strong, y=y, cv=5, scoring='neg_mean_absolute_error')\n",
        "index += ['Hand choise Strong features']\n",
        "scores['neg_mean_absolute_error'].append(result.mean())\n",
        "df_scores = pd.DataFrame(scores, index=index)\n",
        "df_scores"
      ],
      "metadata": {
        "colab": {
          "base_uri": "https://localhost:8080/",
          "height": 326
        },
        "id": "lSw3A4gxo1fJ",
        "outputId": "6fffa05e-3cbb-4938-8c7e-d3f5f3149f00"
      },
      "execution_count": null,
      "outputs": [
        {
          "output_type": "stream",
          "name": "stdout",
          "text": [
            "[22:26:42] WARNING: /workspace/src/objective/regression_obj.cu:152: reg:linear is now deprecated in favor of reg:squarederror.\n",
            "[22:26:42] WARNING: /workspace/src/objective/regression_obj.cu:152: reg:linear is now deprecated in favor of reg:squarederror.\n",
            "[22:26:42] WARNING: /workspace/src/objective/regression_obj.cu:152: reg:linear is now deprecated in favor of reg:squarederror.\n",
            "[22:26:42] WARNING: /workspace/src/objective/regression_obj.cu:152: reg:linear is now deprecated in favor of reg:squarederror.\n",
            "[22:26:42] WARNING: /workspace/src/objective/regression_obj.cu:152: reg:linear is now deprecated in favor of reg:squarederror.\n"
          ]
        },
        {
          "output_type": "execute_result",
          "data": {
            "text/plain": [
              "                             neg_mean_absolute_error\n",
              "Univariate statistics                  -20523.416866\n",
              "Model-Based Lasso                      -16736.699922\n",
              "Model-Based Random Forest              -19993.589116\n",
              "RFE Random Forest                      -16734.935336\n",
              "RFE Linear                             -16736.699922\n",
              "Hand choise Strong features            -20988.492704"
            ],
            "text/html": [
              "\n",
              "  <div id=\"df-709a87e4-b0f0-49cf-a44f-f3a2caf37687\">\n",
              "    <div class=\"colab-df-container\">\n",
              "      <div>\n",
              "<style scoped>\n",
              "    .dataframe tbody tr th:only-of-type {\n",
              "        vertical-align: middle;\n",
              "    }\n",
              "\n",
              "    .dataframe tbody tr th {\n",
              "        vertical-align: top;\n",
              "    }\n",
              "\n",
              "    .dataframe thead th {\n",
              "        text-align: right;\n",
              "    }\n",
              "</style>\n",
              "<table border=\"1\" class=\"dataframe\">\n",
              "  <thead>\n",
              "    <tr style=\"text-align: right;\">\n",
              "      <th></th>\n",
              "      <th>neg_mean_absolute_error</th>\n",
              "    </tr>\n",
              "  </thead>\n",
              "  <tbody>\n",
              "    <tr>\n",
              "      <th>Univariate statistics</th>\n",
              "      <td>-20523.416866</td>\n",
              "    </tr>\n",
              "    <tr>\n",
              "      <th>Model-Based Lasso</th>\n",
              "      <td>-16736.699922</td>\n",
              "    </tr>\n",
              "    <tr>\n",
              "      <th>Model-Based Random Forest</th>\n",
              "      <td>-19993.589116</td>\n",
              "    </tr>\n",
              "    <tr>\n",
              "      <th>RFE Random Forest</th>\n",
              "      <td>-16734.935336</td>\n",
              "    </tr>\n",
              "    <tr>\n",
              "      <th>RFE Linear</th>\n",
              "      <td>-16736.699922</td>\n",
              "    </tr>\n",
              "    <tr>\n",
              "      <th>Hand choise Strong features</th>\n",
              "      <td>-20988.492704</td>\n",
              "    </tr>\n",
              "  </tbody>\n",
              "</table>\n",
              "</div>\n",
              "      <button class=\"colab-df-convert\" onclick=\"convertToInteractive('df-709a87e4-b0f0-49cf-a44f-f3a2caf37687')\"\n",
              "              title=\"Convert this dataframe to an interactive table.\"\n",
              "              style=\"display:none;\">\n",
              "        \n",
              "  <svg xmlns=\"http://www.w3.org/2000/svg\" height=\"24px\"viewBox=\"0 0 24 24\"\n",
              "       width=\"24px\">\n",
              "    <path d=\"M0 0h24v24H0V0z\" fill=\"none\"/>\n",
              "    <path d=\"M18.56 5.44l.94 2.06.94-2.06 2.06-.94-2.06-.94-.94-2.06-.94 2.06-2.06.94zm-11 1L8.5 8.5l.94-2.06 2.06-.94-2.06-.94L8.5 2.5l-.94 2.06-2.06.94zm10 10l.94 2.06.94-2.06 2.06-.94-2.06-.94-.94-2.06-.94 2.06-2.06.94z\"/><path d=\"M17.41 7.96l-1.37-1.37c-.4-.4-.92-.59-1.43-.59-.52 0-1.04.2-1.43.59L10.3 9.45l-7.72 7.72c-.78.78-.78 2.05 0 2.83L4 21.41c.39.39.9.59 1.41.59.51 0 1.02-.2 1.41-.59l7.78-7.78 2.81-2.81c.8-.78.8-2.07 0-2.86zM5.41 20L4 18.59l7.72-7.72 1.47 1.35L5.41 20z\"/>\n",
              "  </svg>\n",
              "      </button>\n",
              "      \n",
              "  <style>\n",
              "    .colab-df-container {\n",
              "      display:flex;\n",
              "      flex-wrap:wrap;\n",
              "      gap: 12px;\n",
              "    }\n",
              "\n",
              "    .colab-df-convert {\n",
              "      background-color: #E8F0FE;\n",
              "      border: none;\n",
              "      border-radius: 50%;\n",
              "      cursor: pointer;\n",
              "      display: none;\n",
              "      fill: #1967D2;\n",
              "      height: 32px;\n",
              "      padding: 0 0 0 0;\n",
              "      width: 32px;\n",
              "    }\n",
              "\n",
              "    .colab-df-convert:hover {\n",
              "      background-color: #E2EBFA;\n",
              "      box-shadow: 0px 1px 2px rgba(60, 64, 67, 0.3), 0px 1px 3px 1px rgba(60, 64, 67, 0.15);\n",
              "      fill: #174EA6;\n",
              "    }\n",
              "\n",
              "    [theme=dark] .colab-df-convert {\n",
              "      background-color: #3B4455;\n",
              "      fill: #D2E3FC;\n",
              "    }\n",
              "\n",
              "    [theme=dark] .colab-df-convert:hover {\n",
              "      background-color: #434B5C;\n",
              "      box-shadow: 0px 1px 3px 1px rgba(0, 0, 0, 0.15);\n",
              "      filter: drop-shadow(0px 1px 2px rgba(0, 0, 0, 0.3));\n",
              "      fill: #FFFFFF;\n",
              "    }\n",
              "  </style>\n",
              "\n",
              "      <script>\n",
              "        const buttonEl =\n",
              "          document.querySelector('#df-709a87e4-b0f0-49cf-a44f-f3a2caf37687 button.colab-df-convert');\n",
              "        buttonEl.style.display =\n",
              "          google.colab.kernel.accessAllowed ? 'block' : 'none';\n",
              "\n",
              "        async function convertToInteractive(key) {\n",
              "          const element = document.querySelector('#df-709a87e4-b0f0-49cf-a44f-f3a2caf37687');\n",
              "          const dataTable =\n",
              "            await google.colab.kernel.invokeFunction('convertToInteractive',\n",
              "                                                     [key], {});\n",
              "          if (!dataTable) return;\n",
              "\n",
              "          const docLinkHtml = 'Like what you see? Visit the ' +\n",
              "            '<a target=\"_blank\" href=https://colab.research.google.com/notebooks/data_table.ipynb>data table notebook</a>'\n",
              "            + ' to learn more about interactive tables.';\n",
              "          element.innerHTML = '';\n",
              "          dataTable['output_type'] = 'display_data';\n",
              "          await google.colab.output.renderOutput(dataTable, element);\n",
              "          const docLink = document.createElement('div');\n",
              "          docLink.innerHTML = docLinkHtml;\n",
              "          element.appendChild(docLink);\n",
              "        }\n",
              "      </script>\n",
              "    </div>\n",
              "  </div>\n",
              "  "
            ]
          },
          "metadata": {},
          "execution_count": 178
        }
      ]
    },
    {
      "cell_type": "code",
      "source": [
        "# take preprocesser from previous chapter it also works in good features\n",
        "tree_changer = make_column_transformer(\n",
        "    (num_chan_tree, selector(dtype_include=\"number\")),\n",
        "    (cat_chan_tree, selector(dtype_include=\"category\")),)\n",
        "pipe_good = Pipeline([('preprocessing', tree_changer), ('model', model)])\n",
        "\n",
        "result = cross_val_score(pipe_hand, X=good, y=y, cv=5, scoring='neg_mean_absolute_error')\n",
        "index += ['Hand choise Strong features']\n",
        "scores['neg_mean_absolute_error'].append(result.mean())\n",
        "df_scores = pd.DataFrame(scores, index=index)\n",
        "df_scores"
      ],
      "metadata": {
        "colab": {
          "base_uri": "https://localhost:8080/",
          "height": 358
        },
        "id": "kbG9vbX3qKmb",
        "outputId": "c1e1d4fb-0b1b-4037-e802-a73ba2644bf9"
      },
      "execution_count": null,
      "outputs": [
        {
          "output_type": "stream",
          "name": "stdout",
          "text": [
            "[22:40:31] WARNING: /workspace/src/objective/regression_obj.cu:152: reg:linear is now deprecated in favor of reg:squarederror.\n",
            "[22:40:31] WARNING: /workspace/src/objective/regression_obj.cu:152: reg:linear is now deprecated in favor of reg:squarederror.\n",
            "[22:40:31] WARNING: /workspace/src/objective/regression_obj.cu:152: reg:linear is now deprecated in favor of reg:squarederror.\n",
            "[22:40:31] WARNING: /workspace/src/objective/regression_obj.cu:152: reg:linear is now deprecated in favor of reg:squarederror.\n",
            "[22:40:31] WARNING: /workspace/src/objective/regression_obj.cu:152: reg:linear is now deprecated in favor of reg:squarederror.\n"
          ]
        },
        {
          "output_type": "execute_result",
          "data": {
            "text/plain": [
              "                             neg_mean_absolute_error\n",
              "Univariate statistics                  -20523.416866\n",
              "Model-Based Lasso                      -16736.699922\n",
              "Model-Based Random Forest              -19993.589116\n",
              "RFE Random Forest                      -16734.935336\n",
              "RFE Linear                             -16736.699922\n",
              "Hand choise Strong features            -20988.492704\n",
              "Hand choise Strong features            -17820.279045"
            ],
            "text/html": [
              "\n",
              "  <div id=\"df-75a123b5-f1d3-4e9b-9375-365e903bea04\">\n",
              "    <div class=\"colab-df-container\">\n",
              "      <div>\n",
              "<style scoped>\n",
              "    .dataframe tbody tr th:only-of-type {\n",
              "        vertical-align: middle;\n",
              "    }\n",
              "\n",
              "    .dataframe tbody tr th {\n",
              "        vertical-align: top;\n",
              "    }\n",
              "\n",
              "    .dataframe thead th {\n",
              "        text-align: right;\n",
              "    }\n",
              "</style>\n",
              "<table border=\"1\" class=\"dataframe\">\n",
              "  <thead>\n",
              "    <tr style=\"text-align: right;\">\n",
              "      <th></th>\n",
              "      <th>neg_mean_absolute_error</th>\n",
              "    </tr>\n",
              "  </thead>\n",
              "  <tbody>\n",
              "    <tr>\n",
              "      <th>Univariate statistics</th>\n",
              "      <td>-20523.416866</td>\n",
              "    </tr>\n",
              "    <tr>\n",
              "      <th>Model-Based Lasso</th>\n",
              "      <td>-16736.699922</td>\n",
              "    </tr>\n",
              "    <tr>\n",
              "      <th>Model-Based Random Forest</th>\n",
              "      <td>-19993.589116</td>\n",
              "    </tr>\n",
              "    <tr>\n",
              "      <th>RFE Random Forest</th>\n",
              "      <td>-16734.935336</td>\n",
              "    </tr>\n",
              "    <tr>\n",
              "      <th>RFE Linear</th>\n",
              "      <td>-16736.699922</td>\n",
              "    </tr>\n",
              "    <tr>\n",
              "      <th>Hand choise Strong features</th>\n",
              "      <td>-20988.492704</td>\n",
              "    </tr>\n",
              "    <tr>\n",
              "      <th>Hand choise Strong features</th>\n",
              "      <td>-17820.279045</td>\n",
              "    </tr>\n",
              "  </tbody>\n",
              "</table>\n",
              "</div>\n",
              "      <button class=\"colab-df-convert\" onclick=\"convertToInteractive('df-75a123b5-f1d3-4e9b-9375-365e903bea04')\"\n",
              "              title=\"Convert this dataframe to an interactive table.\"\n",
              "              style=\"display:none;\">\n",
              "        \n",
              "  <svg xmlns=\"http://www.w3.org/2000/svg\" height=\"24px\"viewBox=\"0 0 24 24\"\n",
              "       width=\"24px\">\n",
              "    <path d=\"M0 0h24v24H0V0z\" fill=\"none\"/>\n",
              "    <path d=\"M18.56 5.44l.94 2.06.94-2.06 2.06-.94-2.06-.94-.94-2.06-.94 2.06-2.06.94zm-11 1L8.5 8.5l.94-2.06 2.06-.94-2.06-.94L8.5 2.5l-.94 2.06-2.06.94zm10 10l.94 2.06.94-2.06 2.06-.94-2.06-.94-.94-2.06-.94 2.06-2.06.94z\"/><path d=\"M17.41 7.96l-1.37-1.37c-.4-.4-.92-.59-1.43-.59-.52 0-1.04.2-1.43.59L10.3 9.45l-7.72 7.72c-.78.78-.78 2.05 0 2.83L4 21.41c.39.39.9.59 1.41.59.51 0 1.02-.2 1.41-.59l7.78-7.78 2.81-2.81c.8-.78.8-2.07 0-2.86zM5.41 20L4 18.59l7.72-7.72 1.47 1.35L5.41 20z\"/>\n",
              "  </svg>\n",
              "      </button>\n",
              "      \n",
              "  <style>\n",
              "    .colab-df-container {\n",
              "      display:flex;\n",
              "      flex-wrap:wrap;\n",
              "      gap: 12px;\n",
              "    }\n",
              "\n",
              "    .colab-df-convert {\n",
              "      background-color: #E8F0FE;\n",
              "      border: none;\n",
              "      border-radius: 50%;\n",
              "      cursor: pointer;\n",
              "      display: none;\n",
              "      fill: #1967D2;\n",
              "      height: 32px;\n",
              "      padding: 0 0 0 0;\n",
              "      width: 32px;\n",
              "    }\n",
              "\n",
              "    .colab-df-convert:hover {\n",
              "      background-color: #E2EBFA;\n",
              "      box-shadow: 0px 1px 2px rgba(60, 64, 67, 0.3), 0px 1px 3px 1px rgba(60, 64, 67, 0.15);\n",
              "      fill: #174EA6;\n",
              "    }\n",
              "\n",
              "    [theme=dark] .colab-df-convert {\n",
              "      background-color: #3B4455;\n",
              "      fill: #D2E3FC;\n",
              "    }\n",
              "\n",
              "    [theme=dark] .colab-df-convert:hover {\n",
              "      background-color: #434B5C;\n",
              "      box-shadow: 0px 1px 3px 1px rgba(0, 0, 0, 0.15);\n",
              "      filter: drop-shadow(0px 1px 2px rgba(0, 0, 0, 0.3));\n",
              "      fill: #FFFFFF;\n",
              "    }\n",
              "  </style>\n",
              "\n",
              "      <script>\n",
              "        const buttonEl =\n",
              "          document.querySelector('#df-75a123b5-f1d3-4e9b-9375-365e903bea04 button.colab-df-convert');\n",
              "        buttonEl.style.display =\n",
              "          google.colab.kernel.accessAllowed ? 'block' : 'none';\n",
              "\n",
              "        async function convertToInteractive(key) {\n",
              "          const element = document.querySelector('#df-75a123b5-f1d3-4e9b-9375-365e903bea04');\n",
              "          const dataTable =\n",
              "            await google.colab.kernel.invokeFunction('convertToInteractive',\n",
              "                                                     [key], {});\n",
              "          if (!dataTable) return;\n",
              "\n",
              "          const docLinkHtml = 'Like what you see? Visit the ' +\n",
              "            '<a target=\"_blank\" href=https://colab.research.google.com/notebooks/data_table.ipynb>data table notebook</a>'\n",
              "            + ' to learn more about interactive tables.';\n",
              "          element.innerHTML = '';\n",
              "          dataTable['output_type'] = 'display_data';\n",
              "          await google.colab.output.renderOutput(dataTable, element);\n",
              "          const docLink = document.createElement('div');\n",
              "          docLink.innerHTML = docLinkHtml;\n",
              "          element.appendChild(docLink);\n",
              "        }\n",
              "      </script>\n",
              "    </div>\n",
              "  </div>\n",
              "  "
            ]
          },
          "metadata": {},
          "execution_count": 187
        }
      ]
    },
    {
      "cell_type": "code",
      "source": [],
      "metadata": {
        "id": "FglMLZH-tU6i"
      },
      "execution_count": null,
      "outputs": []
    }
  ],
  "metadata": {
    "kernelspec": {
      "display_name": "Python 3",
      "language": "python",
      "name": "python3"
    },
    "language_info": {
      "codemirror_mode": {
        "name": "ipython",
        "version": 3
      },
      "file_extension": ".py",
      "mimetype": "text/x-python",
      "name": "python",
      "nbconvert_exporter": "python",
      "pygments_lexer": "ipython3",
      "version": "3.8.3"
    },
    "colab": {
      "provenance": [],
      "collapsed_sections": [
        "OoxZpEdMwzod",
        "4dCdulv5wzof",
        "-zdFuTcEF_ek",
        "RoRLg0VyGLH4",
        "Y_YuE4kBGOrJ",
        "NiPsQWsKGOvm",
        "O8A2aGoTwzou",
        "Ywmpi9ytF4HA"
      ],
      "include_colab_link": true
    }
  },
  "nbformat": 4,
  "nbformat_minor": 0
}