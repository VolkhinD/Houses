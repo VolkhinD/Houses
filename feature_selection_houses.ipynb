{
  "cells": [
    {
      "cell_type": "markdown",
      "metadata": {
        "id": "view-in-github",
        "colab_type": "text"
      },
      "source": [
        "<a href=\"https://colab.research.google.com/github/VolkhinD/Houses/blob/main/feature_selection_houses.ipynb\" target=\"_parent\"><img src=\"https://colab.research.google.com/assets/colab-badge.svg\" alt=\"Open In Colab\"/></a>"
      ]
    },
    {
      "cell_type": "markdown",
      "metadata": {
        "id": "7Ik3QE_FwzoK"
      },
      "source": [
        "  ***Basic Regression Model with Feature Selection Methods***  \n",
        "========================================================================"
      ]
    },
    {
      "cell_type": "markdown",
      "metadata": {
        "id": "tOCNwBl48jI2"
      },
      "source": [
        "# ***Begginning***"
      ]
    },
    {
      "cell_type": "code",
      "execution_count": null,
      "metadata": {
        "colab": {
          "base_uri": "https://localhost:8080/"
        },
        "id": "aLj4UAFDEUvQ",
        "outputId": "98ed3d39-ba18-40ae-b13c-9885419a36a2"
      },
      "outputs": [
        {
          "output_type": "stream",
          "name": "stdout",
          "text": [
            "Requirement already satisfied: xgboost in /usr/local/lib/python3.10/dist-packages (1.7.6)\n",
            "Requirement already satisfied: numpy in /usr/local/lib/python3.10/dist-packages (from xgboost) (1.23.5)\n",
            "Requirement already satisfied: scipy in /usr/local/lib/python3.10/dist-packages (from xgboost) (1.10.1)\n"
          ]
        }
      ],
      "source": [
        "import sys\n",
        "!{sys.executable} -m pip install xgboost"
      ]
    },
    {
      "cell_type": "code",
      "execution_count": null,
      "metadata": {
        "id": "vCZasJHHwzoZ"
      },
      "outputs": [],
      "source": [
        "import pandas as pd\n",
        "import seaborn as sns\n",
        "import numpy as np\n",
        "import matplotlib.pyplot as plt\n",
        "import pickle\n",
        "%matplotlib inline\n",
        "from xgboost import XGBRegressor\n",
        "from sklearn.pipeline import Pipeline, make_pipeline\n",
        "from sklearn.preprocessing import StandardScaler\n",
        "from sklearn.metrics import mean_squared_log_error as MSLE, mean_absolute_error\n",
        "from sklearn.compose import make_column_transformer, make_column_selector as selector\n",
        "from sklearn.model_selection import cross_val_score, GridSearchCV\n",
        "from sklearn.preprocessing import RobustScaler, StandardScaler, OneHotEncoder, OrdinalEncoder\n",
        "from sklearn.decomposition import PCA\n",
        "from sklearn.feature_selection import SelectPercentile, f_regression\n",
        "from sklearn.impute import SimpleImputer\n",
        "from sklearn.linear_model import LinearRegression, Lasso\n",
        "from sklearn.feature_selection import SelectFromModel\n",
        "from sklearn.ensemble import RandomForestRegressor, AdaBoostRegressor\n",
        "from sklearn.feature_selection import RFE, SequentialFeatureSelector\n",
        "from sklearn.linear_model import RidgeCV\n",
        "from sklearn.multioutput import MultiOutputRegressor\n",
        "from sklearn.model_selection import train_test_split\n",
        "from sklearn.feature_selection import VarianceThreshold\n",
        "from sklearn.compose import make_column_transformer, make_column_selector"
      ]
    },
    {
      "cell_type": "markdown",
      "metadata": {
        "id": "TdUHU9QSwzoa"
      },
      "source": [
        "Download Data"
      ]
    },
    {
      "cell_type": "code",
      "execution_count": null,
      "metadata": {
        "colab": {
          "base_uri": "https://localhost:8080/"
        },
        "id": "8M1uuyXi1jkB",
        "outputId": "0772a616-9442-44b3-db70-f735c7b2a421"
      },
      "outputs": [
        {
          "output_type": "stream",
          "name": "stdout",
          "text": [
            "Mounted at /content/drive\n"
          ]
        }
      ],
      "source": [
        "from google.colab import drive\n",
        "drive.mount('/content/drive')"
      ]
    },
    {
      "cell_type": "code",
      "execution_count": null,
      "metadata": {
        "colab": {
          "base_uri": "https://localhost:8080/"
        },
        "id": "Co-_O_Rxwzoa",
        "outputId": "62737217-6b9b-44a6-fbfe-93eac9b0c490"
      },
      "outputs": [
        {
          "output_type": "stream",
          "name": "stdout",
          "text": [
            "(1460, 79) (1459, 79)\n"
          ]
        }
      ],
      "source": [
        "path_test = '/content/drive/MyDrive/Data/houses/test.csv'\n",
        "path_train = '/content/drive/MyDrive/Data/houses/train.csv'\n",
        "\n",
        "data = pd.read_csv(path_train, index_col=0)\n",
        "data_lin = pd.read_csv(path_train, index_col=0)\n",
        "test = pd.read_csv(path_test, index_col=0)\n",
        "y = data.pop('SalePrice')\n",
        "data_lin.pop('SalePrice')\n",
        "print(data.shape, test.shape)"
      ]
    },
    {
      "cell_type": "code",
      "execution_count": null,
      "metadata": {
        "colab": {
          "base_uri": "https://localhost:8080/",
          "height": 257
        },
        "id": "oikv4h5TCEtI",
        "outputId": "b5518b0a-4212-4206-ac47-e5eb7df3cd3f"
      },
      "outputs": [
        {
          "output_type": "execute_result",
          "data": {
            "text/plain": [
              "   GarageQual GarageCond PavedDrive  WoodDeckSF  OpenPorchSF  EnclosedPorch  \\\n",
              "Id                                                                            \n",
              "1          TA         TA          Y           0           61              0   \n",
              "2          TA         TA          Y         298            0              0   \n",
              "3          TA         TA          Y           0           42              0   \n",
              "4          TA         TA          Y           0           35            272   \n",
              "5          TA         TA          Y         192           84              0   \n",
              "\n",
              "    3SsnPorch  ScreenPorch  PoolArea PoolQC Fence MiscFeature  MiscVal  \\\n",
              "Id                                                                       \n",
              "1           0            0         0    NaN   NaN         NaN        0   \n",
              "2           0            0         0    NaN   NaN         NaN        0   \n",
              "3           0            0         0    NaN   NaN         NaN        0   \n",
              "4           0            0         0    NaN   NaN         NaN        0   \n",
              "5           0            0         0    NaN   NaN         NaN        0   \n",
              "\n",
              "    MoSold  YrSold SaleType SaleCondition  \n",
              "Id                                         \n",
              "1        2    2008       WD        Normal  \n",
              "2        5    2007       WD        Normal  \n",
              "3        9    2008       WD        Normal  \n",
              "4        2    2006       WD       Abnorml  \n",
              "5       12    2008       WD        Normal  "
            ],
            "text/html": [
              "\n",
              "  <div id=\"df-12504e00-67fb-45db-aa06-1e130ae9e06c\" class=\"colab-df-container\">\n",
              "    <div>\n",
              "<style scoped>\n",
              "    .dataframe tbody tr th:only-of-type {\n",
              "        vertical-align: middle;\n",
              "    }\n",
              "\n",
              "    .dataframe tbody tr th {\n",
              "        vertical-align: top;\n",
              "    }\n",
              "\n",
              "    .dataframe thead th {\n",
              "        text-align: right;\n",
              "    }\n",
              "</style>\n",
              "<table border=\"1\" class=\"dataframe\">\n",
              "  <thead>\n",
              "    <tr style=\"text-align: right;\">\n",
              "      <th></th>\n",
              "      <th>GarageQual</th>\n",
              "      <th>GarageCond</th>\n",
              "      <th>PavedDrive</th>\n",
              "      <th>WoodDeckSF</th>\n",
              "      <th>OpenPorchSF</th>\n",
              "      <th>EnclosedPorch</th>\n",
              "      <th>3SsnPorch</th>\n",
              "      <th>ScreenPorch</th>\n",
              "      <th>PoolArea</th>\n",
              "      <th>PoolQC</th>\n",
              "      <th>Fence</th>\n",
              "      <th>MiscFeature</th>\n",
              "      <th>MiscVal</th>\n",
              "      <th>MoSold</th>\n",
              "      <th>YrSold</th>\n",
              "      <th>SaleType</th>\n",
              "      <th>SaleCondition</th>\n",
              "    </tr>\n",
              "    <tr>\n",
              "      <th>Id</th>\n",
              "      <th></th>\n",
              "      <th></th>\n",
              "      <th></th>\n",
              "      <th></th>\n",
              "      <th></th>\n",
              "      <th></th>\n",
              "      <th></th>\n",
              "      <th></th>\n",
              "      <th></th>\n",
              "      <th></th>\n",
              "      <th></th>\n",
              "      <th></th>\n",
              "      <th></th>\n",
              "      <th></th>\n",
              "      <th></th>\n",
              "      <th></th>\n",
              "      <th></th>\n",
              "    </tr>\n",
              "  </thead>\n",
              "  <tbody>\n",
              "    <tr>\n",
              "      <th>1</th>\n",
              "      <td>TA</td>\n",
              "      <td>TA</td>\n",
              "      <td>Y</td>\n",
              "      <td>0</td>\n",
              "      <td>61</td>\n",
              "      <td>0</td>\n",
              "      <td>0</td>\n",
              "      <td>0</td>\n",
              "      <td>0</td>\n",
              "      <td>NaN</td>\n",
              "      <td>NaN</td>\n",
              "      <td>NaN</td>\n",
              "      <td>0</td>\n",
              "      <td>2</td>\n",
              "      <td>2008</td>\n",
              "      <td>WD</td>\n",
              "      <td>Normal</td>\n",
              "    </tr>\n",
              "    <tr>\n",
              "      <th>2</th>\n",
              "      <td>TA</td>\n",
              "      <td>TA</td>\n",
              "      <td>Y</td>\n",
              "      <td>298</td>\n",
              "      <td>0</td>\n",
              "      <td>0</td>\n",
              "      <td>0</td>\n",
              "      <td>0</td>\n",
              "      <td>0</td>\n",
              "      <td>NaN</td>\n",
              "      <td>NaN</td>\n",
              "      <td>NaN</td>\n",
              "      <td>0</td>\n",
              "      <td>5</td>\n",
              "      <td>2007</td>\n",
              "      <td>WD</td>\n",
              "      <td>Normal</td>\n",
              "    </tr>\n",
              "    <tr>\n",
              "      <th>3</th>\n",
              "      <td>TA</td>\n",
              "      <td>TA</td>\n",
              "      <td>Y</td>\n",
              "      <td>0</td>\n",
              "      <td>42</td>\n",
              "      <td>0</td>\n",
              "      <td>0</td>\n",
              "      <td>0</td>\n",
              "      <td>0</td>\n",
              "      <td>NaN</td>\n",
              "      <td>NaN</td>\n",
              "      <td>NaN</td>\n",
              "      <td>0</td>\n",
              "      <td>9</td>\n",
              "      <td>2008</td>\n",
              "      <td>WD</td>\n",
              "      <td>Normal</td>\n",
              "    </tr>\n",
              "    <tr>\n",
              "      <th>4</th>\n",
              "      <td>TA</td>\n",
              "      <td>TA</td>\n",
              "      <td>Y</td>\n",
              "      <td>0</td>\n",
              "      <td>35</td>\n",
              "      <td>272</td>\n",
              "      <td>0</td>\n",
              "      <td>0</td>\n",
              "      <td>0</td>\n",
              "      <td>NaN</td>\n",
              "      <td>NaN</td>\n",
              "      <td>NaN</td>\n",
              "      <td>0</td>\n",
              "      <td>2</td>\n",
              "      <td>2006</td>\n",
              "      <td>WD</td>\n",
              "      <td>Abnorml</td>\n",
              "    </tr>\n",
              "    <tr>\n",
              "      <th>5</th>\n",
              "      <td>TA</td>\n",
              "      <td>TA</td>\n",
              "      <td>Y</td>\n",
              "      <td>192</td>\n",
              "      <td>84</td>\n",
              "      <td>0</td>\n",
              "      <td>0</td>\n",
              "      <td>0</td>\n",
              "      <td>0</td>\n",
              "      <td>NaN</td>\n",
              "      <td>NaN</td>\n",
              "      <td>NaN</td>\n",
              "      <td>0</td>\n",
              "      <td>12</td>\n",
              "      <td>2008</td>\n",
              "      <td>WD</td>\n",
              "      <td>Normal</td>\n",
              "    </tr>\n",
              "  </tbody>\n",
              "</table>\n",
              "</div>\n",
              "    <div class=\"colab-df-buttons\">\n",
              "\n",
              "  <div class=\"colab-df-container\">\n",
              "    <button class=\"colab-df-convert\" onclick=\"convertToInteractive('df-12504e00-67fb-45db-aa06-1e130ae9e06c')\"\n",
              "            title=\"Convert this dataframe to an interactive table.\"\n",
              "            style=\"display:none;\">\n",
              "\n",
              "  <svg xmlns=\"http://www.w3.org/2000/svg\" height=\"24px\" viewBox=\"0 -960 960 960\">\n",
              "    <path d=\"M120-120v-720h720v720H120Zm60-500h600v-160H180v160Zm220 220h160v-160H400v160Zm0 220h160v-160H400v160ZM180-400h160v-160H180v160Zm440 0h160v-160H620v160ZM180-180h160v-160H180v160Zm440 0h160v-160H620v160Z\"/>\n",
              "  </svg>\n",
              "    </button>\n",
              "\n",
              "  <style>\n",
              "    .colab-df-container {\n",
              "      display:flex;\n",
              "      gap: 12px;\n",
              "    }\n",
              "\n",
              "    .colab-df-convert {\n",
              "      background-color: #E8F0FE;\n",
              "      border: none;\n",
              "      border-radius: 50%;\n",
              "      cursor: pointer;\n",
              "      display: none;\n",
              "      fill: #1967D2;\n",
              "      height: 32px;\n",
              "      padding: 0 0 0 0;\n",
              "      width: 32px;\n",
              "    }\n",
              "\n",
              "    .colab-df-convert:hover {\n",
              "      background-color: #E2EBFA;\n",
              "      box-shadow: 0px 1px 2px rgba(60, 64, 67, 0.3), 0px 1px 3px 1px rgba(60, 64, 67, 0.15);\n",
              "      fill: #174EA6;\n",
              "    }\n",
              "\n",
              "    .colab-df-buttons div {\n",
              "      margin-bottom: 4px;\n",
              "    }\n",
              "\n",
              "    [theme=dark] .colab-df-convert {\n",
              "      background-color: #3B4455;\n",
              "      fill: #D2E3FC;\n",
              "    }\n",
              "\n",
              "    [theme=dark] .colab-df-convert:hover {\n",
              "      background-color: #434B5C;\n",
              "      box-shadow: 0px 1px 3px 1px rgba(0, 0, 0, 0.15);\n",
              "      filter: drop-shadow(0px 1px 2px rgba(0, 0, 0, 0.3));\n",
              "      fill: #FFFFFF;\n",
              "    }\n",
              "  </style>\n",
              "\n",
              "    <script>\n",
              "      const buttonEl =\n",
              "        document.querySelector('#df-12504e00-67fb-45db-aa06-1e130ae9e06c button.colab-df-convert');\n",
              "      buttonEl.style.display =\n",
              "        google.colab.kernel.accessAllowed ? 'block' : 'none';\n",
              "\n",
              "      async function convertToInteractive(key) {\n",
              "        const element = document.querySelector('#df-12504e00-67fb-45db-aa06-1e130ae9e06c');\n",
              "        const dataTable =\n",
              "          await google.colab.kernel.invokeFunction('convertToInteractive',\n",
              "                                                    [key], {});\n",
              "        if (!dataTable) return;\n",
              "\n",
              "        const docLinkHtml = 'Like what you see? Visit the ' +\n",
              "          '<a target=\"_blank\" href=https://colab.research.google.com/notebooks/data_table.ipynb>data table notebook</a>'\n",
              "          + ' to learn more about interactive tables.';\n",
              "        element.innerHTML = '';\n",
              "        dataTable['output_type'] = 'display_data';\n",
              "        await google.colab.output.renderOutput(dataTable, element);\n",
              "        const docLink = document.createElement('div');\n",
              "        docLink.innerHTML = docLinkHtml;\n",
              "        element.appendChild(docLink);\n",
              "      }\n",
              "    </script>\n",
              "  </div>\n",
              "\n",
              "\n",
              "<div id=\"df-48d8ad42-d549-467a-bb9b-11e6e167da72\">\n",
              "  <button class=\"colab-df-quickchart\" onclick=\"quickchart('df-48d8ad42-d549-467a-bb9b-11e6e167da72')\"\n",
              "            title=\"Suggest charts.\"\n",
              "            style=\"display:none;\">\n",
              "\n",
              "<svg xmlns=\"http://www.w3.org/2000/svg\" height=\"24px\"viewBox=\"0 0 24 24\"\n",
              "     width=\"24px\">\n",
              "    <g>\n",
              "        <path d=\"M19 3H5c-1.1 0-2 .9-2 2v14c0 1.1.9 2 2 2h14c1.1 0 2-.9 2-2V5c0-1.1-.9-2-2-2zM9 17H7v-7h2v7zm4 0h-2V7h2v10zm4 0h-2v-4h2v4z\"/>\n",
              "    </g>\n",
              "</svg>\n",
              "  </button>\n",
              "\n",
              "<style>\n",
              "  .colab-df-quickchart {\n",
              "    background-color: #E8F0FE;\n",
              "    border: none;\n",
              "    border-radius: 50%;\n",
              "    cursor: pointer;\n",
              "    display: none;\n",
              "    fill: #1967D2;\n",
              "    height: 32px;\n",
              "    padding: 0 0 0 0;\n",
              "    width: 32px;\n",
              "  }\n",
              "\n",
              "  .colab-df-quickchart:hover {\n",
              "    background-color: #E2EBFA;\n",
              "    box-shadow: 0px 1px 2px rgba(60, 64, 67, 0.3), 0px 1px 3px 1px rgba(60, 64, 67, 0.15);\n",
              "    fill: #174EA6;\n",
              "  }\n",
              "\n",
              "  [theme=dark] .colab-df-quickchart {\n",
              "    background-color: #3B4455;\n",
              "    fill: #D2E3FC;\n",
              "  }\n",
              "\n",
              "  [theme=dark] .colab-df-quickchart:hover {\n",
              "    background-color: #434B5C;\n",
              "    box-shadow: 0px 1px 3px 1px rgba(0, 0, 0, 0.15);\n",
              "    filter: drop-shadow(0px 1px 2px rgba(0, 0, 0, 0.3));\n",
              "    fill: #FFFFFF;\n",
              "  }\n",
              "</style>\n",
              "\n",
              "  <script>\n",
              "    async function quickchart(key) {\n",
              "      const charts = await google.colab.kernel.invokeFunction(\n",
              "          'suggestCharts', [key], {});\n",
              "    }\n",
              "    (() => {\n",
              "      let quickchartButtonEl =\n",
              "        document.querySelector('#df-48d8ad42-d549-467a-bb9b-11e6e167da72 button');\n",
              "      quickchartButtonEl.style.display =\n",
              "        google.colab.kernel.accessAllowed ? 'block' : 'none';\n",
              "    })();\n",
              "  </script>\n",
              "</div>\n",
              "    </div>\n",
              "  </div>\n"
            ]
          },
          "metadata": {},
          "execution_count": 5
        }
      ],
      "source": [
        "data.iloc[:5, 62:80]"
      ]
    },
    {
      "cell_type": "code",
      "execution_count": null,
      "metadata": {
        "id": "J-2XMAFlNnsF"
      },
      "outputs": [],
      "source": [
        "data['BathNum'] = data['FullBath'] + 0.5*data['HalfBath'] + data['BsmtFullBath'] + 0.5*data['BsmtHalfBath']\n",
        "test['BathNum'] = test['FullBath'] + 0.5*test['HalfBath'] + test['BsmtFullBath'] + 0.5*test['BsmtHalfBath']\n",
        "data.drop(columns=['FullBath', 'HalfBath', 'BsmtHalfBath', 'BsmtFullBath'], inplace=True)\n",
        "test.drop(columns=['FullBath', 'HalfBath', 'BsmtHalfBath', 'BsmtFullBath'], inplace=True)\n",
        "original_feat = data.columns\n",
        "num_feat = ['LotFrontage', 'LotArea',  'YearBuilt', 'YearRemodAdd', 'MasVnrArea', 'BsmtFinSF1',\n",
        "       'BsmtFinSF2', 'BsmtUnfSF', 'TotalBsmtSF', '1stFlrSF', '2ndFlrSF',\n",
        "       'LowQualFinSF', 'GrLivArea', 'GarageYrBlt', 'GarageArea', 'WoodDeckSF',\n",
        "       'OpenPorchSF', 'EnclosedPorch', '3SsnPorch', 'ScreenPorch', 'PoolArea',\n",
        "       'MiscVal', 'BathNum', 'YrSold']\n",
        "cat_feat = list(set(data.columns) - set(num_feat))"
      ]
    },
    {
      "cell_type": "code",
      "execution_count": null,
      "metadata": {
        "colab": {
          "base_uri": "https://localhost:8080/"
        },
        "id": "a0HuvPgWsHRd",
        "outputId": "7c2022fa-9c02-4db3-b8b1-5f8a8c5cef25"
      },
      "outputs": [
        {
          "output_type": "execute_result",
          "data": {
            "text/plain": [
              "(1460, 76)"
            ]
          },
          "metadata": {},
          "execution_count": 7
        }
      ],
      "source": [
        "data.shape"
      ]
    },
    {
      "cell_type": "code",
      "execution_count": null,
      "metadata": {
        "colab": {
          "base_uri": "https://localhost:8080/"
        },
        "id": "26ZLldpiS-Sx",
        "outputId": "99f4ebd9-b41f-41db-ae14-bae14f0b3044"
      },
      "outputs": [
        {
          "output_type": "stream",
          "name": "stdout",
          "text": [
            "number of numeric features is 24\n",
            "number of categorical features is 52\n"
          ]
        }
      ],
      "source": [
        "num_data = data[num_feat]\n",
        "cat_data = data[cat_feat]\n",
        "print(f\"number of numeric features is {num_data.shape[1]}\")\n",
        "print(f\"number of categorical features is {cat_data.shape[1]}\")"
      ]
    },
    {
      "cell_type": "code",
      "execution_count": null,
      "metadata": {
        "colab": {
          "base_uri": "https://localhost:8080/"
        },
        "id": "c7xviNjEq0F-",
        "outputId": "a7882872-94ef-4e49-82ce-8a16d605bb27"
      },
      "outputs": [
        {
          "output_type": "execute_result",
          "data": {
            "text/plain": [
              "(1460, 52)"
            ]
          },
          "metadata": {},
          "execution_count": 9
        }
      ],
      "source": [
        "ord_enc = OrdinalEncoder(handle_unknown='use_encoded_value', unknown_value=np.nan)\n",
        "cat_data = pd.DataFrame(ord_enc.fit_transform(cat_data), columns=cat_feat)\n",
        "cat_data.shape"
      ]
    },
    {
      "cell_type": "code",
      "execution_count": null,
      "metadata": {
        "colab": {
          "base_uri": "https://localhost:8080/"
        },
        "id": "kvebkO35vRsM",
        "outputId": "f21cb97c-b9da-4afa-c6be-707f542545d8"
      },
      "outputs": [
        {
          "output_type": "execute_result",
          "data": {
            "text/plain": [
              "(1460, 76)"
            ]
          },
          "metadata": {},
          "execution_count": 10
        }
      ],
      "source": [
        "data = pd.concat([num_data.reset_index(drop=True), cat_data.reset_index(drop=True)], axis=1)\n",
        "data.shape"
      ]
    },
    {
      "cell_type": "markdown",
      "metadata": {
        "id": "I2uv79HFiwDb"
      },
      "source": [
        "# **Imput missing Values**"
      ]
    },
    {
      "cell_type": "code",
      "execution_count": null,
      "metadata": {
        "colab": {
          "base_uri": "https://localhost:8080/"
        },
        "id": "N_xKq_Fli3BQ",
        "outputId": "a79389fe-a548-4a3a-9eb3-ba214a947c01"
      },
      "outputs": [
        {
          "output_type": "execute_result",
          "data": {
            "text/plain": [
              "PoolQC          1453\n",
              "MiscFeature     1406\n",
              "Alley           1369\n",
              "Fence           1179\n",
              "FireplaceQu      690\n",
              "LotFrontage      259\n",
              "GarageCond        81\n",
              "GarageType        81\n",
              "GarageFinish      81\n",
              "GarageYrBlt       81\n",
              "dtype: int64"
            ]
          },
          "metadata": {},
          "execution_count": 11
        }
      ],
      "source": [
        "data.isnull().sum().sort_values(ascending=False)[:10]"
      ]
    },
    {
      "cell_type": "code",
      "execution_count": null,
      "metadata": {
        "id": "Rew13zpzkqMq"
      },
      "outputs": [],
      "source": [
        "data.drop(columns=['PoolQC', 'MiscFeature', 'Alley', 'Fence', 'FireplaceQu', 'LotFrontage'], inplace=True)"
      ]
    },
    {
      "cell_type": "code",
      "execution_count": null,
      "metadata": {
        "colab": {
          "base_uri": "https://localhost:8080/"
        },
        "id": "TBcdksps9ffS",
        "outputId": "ecc8f8ee-aa5a-49ba-f07a-5a128128dcd0"
      },
      "outputs": [
        {
          "output_type": "stream",
          "name": "stdout",
          "text": [
            "New shape is (1460, 70)\n"
          ]
        }
      ],
      "source": [
        "print(f\"New shape is {data.shape}\")"
      ]
    },
    {
      "cell_type": "markdown",
      "metadata": {
        "id": "B6YUyggQlOlR"
      },
      "source": [
        "## Multivariate feature imputation"
      ]
    },
    {
      "cell_type": "code",
      "execution_count": null,
      "metadata": {
        "id": "uquu-iiYlLXg"
      },
      "outputs": [],
      "source": [
        "from sklearn.experimental import enable_iterative_imputer\n",
        "from sklearn.impute import IterativeImputer, KNNImputer, SimpleImputer\n",
        "from sklearn.model_selection import cross_val_score\n",
        "from sklearn.pipeline import make_pipeline\n",
        "from sklearn.metrics import mean_absolute_error as mae"
      ]
    },
    {
      "cell_type": "markdown",
      "metadata": {
        "id": "QeV4DLANzC5_"
      },
      "source": [
        "## Replace Values for most frequent"
      ]
    },
    {
      "cell_type": "code",
      "execution_count": null,
      "metadata": {
        "id": "wVwGpQhhmfJp"
      },
      "outputs": [],
      "source": [
        "regressor = RandomForestRegressor(random_state=0)\n",
        "imputer = SimpleImputer(\n",
        "        missing_values=np.nan, strategy=\"most_frequent\")\n",
        "data_mode = data[:]\n",
        "data_knn = data[:]\n",
        "data_iter = data[:]\n",
        "def get_scores_for_imputer(imputer, data, y):\n",
        "    estimator = make_pipeline(imputer, regressor)\n",
        "    impute_scores = cross_val_score(\n",
        "        estimator, data, y, scoring='neg_root_mean_squared_error', cv=5\n",
        "    )\n",
        "    return impute_scores\n",
        "\n",
        "def get_imputer_mode(data, y):\n",
        "    imputer = SimpleImputer(\n",
        "        missing_values=np.nan, strategy=\"most_frequent\")\n",
        "    mode_scores = get_scores_for_imputer(imputer, data, y)\n",
        "    return mode_scores.mean(), mode_scores.std()"
      ]
    },
    {
      "cell_type": "code",
      "execution_count": null,
      "metadata": {
        "id": "CmCv2-8oqqpu"
      },
      "outputs": [],
      "source": [
        "res = []\n",
        "index = []\n",
        "res += [get_imputer_mode(data_mode, y)]\n",
        "index += [\"Most Frequent\"]"
      ]
    },
    {
      "cell_type": "markdown",
      "metadata": {
        "id": "N05ltjozzOxT"
      },
      "source": [
        "## kNN-imputation of the missing values"
      ]
    },
    {
      "cell_type": "code",
      "execution_count": null,
      "metadata": {
        "id": "KpXodCtLzOQN"
      },
      "outputs": [],
      "source": [
        "def get_imputer_KNN(data, y):\n",
        "    imputer = KNNImputer(missing_values=np.nan)\n",
        "    mode_scores = get_scores_for_imputer(imputer, data, y)\n",
        "    return mode_scores.mean(), mode_scores.std()\n",
        "\n",
        "res += [get_imputer_KNN(data_knn, y)]\n",
        "index += [\"kNN-imputation \"]"
      ]
    },
    {
      "cell_type": "markdown",
      "metadata": {
        "id": "ghjzGaCUz2pW"
      },
      "source": [
        "## Iterative imputation of the missing values\n",
        "This uses round-robin linear regression, modeling each feature with missing values as a function of other features, in turn. The version implemented assumes Gaussian (output) variables. If your features are obviously non-normal, consider transforming them to look more normal to potentially improve performance. Our label is not Gaussian, so make it more normal"
      ]
    },
    {
      "cell_type": "code",
      "execution_count": null,
      "metadata": {
        "id": "M1ahzfP5z7Id"
      },
      "outputs": [],
      "source": [
        "def get_impute_iterative(data, y):\n",
        "    imputer = IterativeImputer(\n",
        "        missing_values=np.nan,\n",
        "        add_indicator=True,\n",
        "        random_state=0,\n",
        "        n_nearest_features=3,\n",
        "        max_iter=1,\n",
        "        sample_posterior=True,\n",
        "    )\n",
        "    log_y = np.log10(y)\n",
        "    data = imputer.fit_transform(data, log_y)\n",
        "    iterative_impute_scores = cross_val_score(\n",
        "        regressor, data, y, scoring='neg_root_mean_squared_error', cv=5\n",
        "    )\n",
        "    return (iterative_impute_scores).mean(), iterative_impute_scores.std()\n",
        "res += [get_impute_iterative(data_iter, y)]\n",
        "index += [\"Iterative imputation\"]"
      ]
    },
    {
      "cell_type": "code",
      "execution_count": null,
      "metadata": {
        "colab": {
          "base_uri": "https://localhost:8080/",
          "height": 143
        },
        "id": "tKnbbeZm2F-I",
        "outputId": "73051f28-b88e-45c7-de53-942e3914cd62"
      },
      "outputs": [
        {
          "output_type": "execute_result",
          "data": {
            "text/plain": [
              "                            Mean()        STD()\n",
              "Most Frequent        -29433.232746  4005.178243\n",
              "kNN-imputation       -29533.766860  4048.111423\n",
              "Iterative imputation -29298.163073  3644.618856"
            ],
            "text/html": [
              "\n",
              "  <div id=\"df-52c04dae-a4e8-4ad0-bd30-26e7fd3b37b8\" class=\"colab-df-container\">\n",
              "    <div>\n",
              "<style scoped>\n",
              "    .dataframe tbody tr th:only-of-type {\n",
              "        vertical-align: middle;\n",
              "    }\n",
              "\n",
              "    .dataframe tbody tr th {\n",
              "        vertical-align: top;\n",
              "    }\n",
              "\n",
              "    .dataframe thead th {\n",
              "        text-align: right;\n",
              "    }\n",
              "</style>\n",
              "<table border=\"1\" class=\"dataframe\">\n",
              "  <thead>\n",
              "    <tr style=\"text-align: right;\">\n",
              "      <th></th>\n",
              "      <th>Mean()</th>\n",
              "      <th>STD()</th>\n",
              "    </tr>\n",
              "  </thead>\n",
              "  <tbody>\n",
              "    <tr>\n",
              "      <th>Most Frequent</th>\n",
              "      <td>-29433.232746</td>\n",
              "      <td>4005.178243</td>\n",
              "    </tr>\n",
              "    <tr>\n",
              "      <th>kNN-imputation</th>\n",
              "      <td>-29533.766860</td>\n",
              "      <td>4048.111423</td>\n",
              "    </tr>\n",
              "    <tr>\n",
              "      <th>Iterative imputation</th>\n",
              "      <td>-29298.163073</td>\n",
              "      <td>3644.618856</td>\n",
              "    </tr>\n",
              "  </tbody>\n",
              "</table>\n",
              "</div>\n",
              "    <div class=\"colab-df-buttons\">\n",
              "\n",
              "  <div class=\"colab-df-container\">\n",
              "    <button class=\"colab-df-convert\" onclick=\"convertToInteractive('df-52c04dae-a4e8-4ad0-bd30-26e7fd3b37b8')\"\n",
              "            title=\"Convert this dataframe to an interactive table.\"\n",
              "            style=\"display:none;\">\n",
              "\n",
              "  <svg xmlns=\"http://www.w3.org/2000/svg\" height=\"24px\" viewBox=\"0 -960 960 960\">\n",
              "    <path d=\"M120-120v-720h720v720H120Zm60-500h600v-160H180v160Zm220 220h160v-160H400v160Zm0 220h160v-160H400v160ZM180-400h160v-160H180v160Zm440 0h160v-160H620v160ZM180-180h160v-160H180v160Zm440 0h160v-160H620v160Z\"/>\n",
              "  </svg>\n",
              "    </button>\n",
              "\n",
              "  <style>\n",
              "    .colab-df-container {\n",
              "      display:flex;\n",
              "      gap: 12px;\n",
              "    }\n",
              "\n",
              "    .colab-df-convert {\n",
              "      background-color: #E8F0FE;\n",
              "      border: none;\n",
              "      border-radius: 50%;\n",
              "      cursor: pointer;\n",
              "      display: none;\n",
              "      fill: #1967D2;\n",
              "      height: 32px;\n",
              "      padding: 0 0 0 0;\n",
              "      width: 32px;\n",
              "    }\n",
              "\n",
              "    .colab-df-convert:hover {\n",
              "      background-color: #E2EBFA;\n",
              "      box-shadow: 0px 1px 2px rgba(60, 64, 67, 0.3), 0px 1px 3px 1px rgba(60, 64, 67, 0.15);\n",
              "      fill: #174EA6;\n",
              "    }\n",
              "\n",
              "    .colab-df-buttons div {\n",
              "      margin-bottom: 4px;\n",
              "    }\n",
              "\n",
              "    [theme=dark] .colab-df-convert {\n",
              "      background-color: #3B4455;\n",
              "      fill: #D2E3FC;\n",
              "    }\n",
              "\n",
              "    [theme=dark] .colab-df-convert:hover {\n",
              "      background-color: #434B5C;\n",
              "      box-shadow: 0px 1px 3px 1px rgba(0, 0, 0, 0.15);\n",
              "      filter: drop-shadow(0px 1px 2px rgba(0, 0, 0, 0.3));\n",
              "      fill: #FFFFFF;\n",
              "    }\n",
              "  </style>\n",
              "\n",
              "    <script>\n",
              "      const buttonEl =\n",
              "        document.querySelector('#df-52c04dae-a4e8-4ad0-bd30-26e7fd3b37b8 button.colab-df-convert');\n",
              "      buttonEl.style.display =\n",
              "        google.colab.kernel.accessAllowed ? 'block' : 'none';\n",
              "\n",
              "      async function convertToInteractive(key) {\n",
              "        const element = document.querySelector('#df-52c04dae-a4e8-4ad0-bd30-26e7fd3b37b8');\n",
              "        const dataTable =\n",
              "          await google.colab.kernel.invokeFunction('convertToInteractive',\n",
              "                                                    [key], {});\n",
              "        if (!dataTable) return;\n",
              "\n",
              "        const docLinkHtml = 'Like what you see? Visit the ' +\n",
              "          '<a target=\"_blank\" href=https://colab.research.google.com/notebooks/data_table.ipynb>data table notebook</a>'\n",
              "          + ' to learn more about interactive tables.';\n",
              "        element.innerHTML = '';\n",
              "        dataTable['output_type'] = 'display_data';\n",
              "        await google.colab.output.renderOutput(dataTable, element);\n",
              "        const docLink = document.createElement('div');\n",
              "        docLink.innerHTML = docLinkHtml;\n",
              "        element.appendChild(docLink);\n",
              "      }\n",
              "    </script>\n",
              "  </div>\n",
              "\n",
              "    </div>\n",
              "  </div>\n"
            ]
          },
          "metadata": {},
          "execution_count": 19
        }
      ],
      "source": [
        "imput_res = pd.DataFrame(res, index=index, columns=['Mean()', 'STD()'])\n",
        "imput_res"
      ]
    },
    {
      "cell_type": "markdown",
      "metadata": {
        "id": "onxEEfi_ACJI"
      },
      "source": [
        "## Result"
      ]
    },
    {
      "cell_type": "code",
      "execution_count": null,
      "metadata": {
        "id": "cJXX10Fh8LWH"
      },
      "outputs": [],
      "source": [
        "imputer = SimpleImputer(\n",
        "        missing_values=np.nan, strategy=\"most_frequent\")\n",
        "imputer.fit(data, y)\n",
        "data_no_na = imputer.transform(data)\n",
        "data = pd.DataFrame(data_no_na, columns=data.columns)"
      ]
    },
    {
      "cell_type": "code",
      "execution_count": null,
      "metadata": {
        "colab": {
          "base_uri": "https://localhost:8080/"
        },
        "id": "pE8PUvabAFAj",
        "outputId": "b8eea7af-455f-47b8-c7c2-d1bbea95dd6b"
      },
      "outputs": [
        {
          "output_type": "execute_result",
          "data": {
            "text/plain": [
              "LotArea         0\n",
              "YearBuilt       0\n",
              "YearRemodAdd    0\n",
              "MasVnrArea      0\n",
              "BsmtFinSF1      0\n",
              "               ..\n",
              "OverallQual     0\n",
              "MSZoning        0\n",
              "GarageType      0\n",
              "KitchenAbvGr    0\n",
              "HouseStyle      0\n",
              "Length: 70, dtype: int64"
            ]
          },
          "metadata": {},
          "execution_count": 21
        }
      ],
      "source": [
        "data.isnull().sum()"
      ]
    },
    {
      "cell_type": "markdown",
      "metadata": {
        "id": "C-8_CMAQAY69"
      },
      "source": [
        "# **Removing features with low variance**"
      ]
    },
    {
      "cell_type": "code",
      "execution_count": null,
      "metadata": {
        "colab": {
          "base_uri": "https://localhost:8080/"
        },
        "id": "Z3F9mGQMdUmU",
        "outputId": "1d7a4f02-db03-421e-d9f5-9f6d2969f3fb"
      },
      "outputs": [
        {
          "output_type": "stream",
          "name": "stdout",
          "text": [
            "Number of columns has to change since 4 columns represented number of bathrooms transformed to one: shape now (1460, 70)\n"
          ]
        }
      ],
      "source": [
        "print(f\"Number of columns has to change since 4 columns represented number of bathrooms transformed to one: shape now {data.shape}\")"
      ]
    },
    {
      "cell_type": "markdown",
      "metadata": {
        "id": "YDkkkMkhV0xB"
      },
      "source": [
        "Features with a training-set variance lower than this threshold will be removed."
      ]
    },
    {
      "cell_type": "code",
      "execution_count": null,
      "metadata": {
        "colab": {
          "base_uri": "https://localhost:8080/",
          "height": 74
        },
        "id": "U3nk9pX2Vb3L",
        "outputId": "7c3f9e50-46d7-40dc-f19d-4f3d8cc60356"
      },
      "outputs": [
        {
          "output_type": "execute_result",
          "data": {
            "text/plain": [
              "VarianceThreshold(threshold=0.25)"
            ],
            "text/html": [
              "<style>#sk-container-id-1 {color: black;background-color: white;}#sk-container-id-1 pre{padding: 0;}#sk-container-id-1 div.sk-toggleable {background-color: white;}#sk-container-id-1 label.sk-toggleable__label {cursor: pointer;display: block;width: 100%;margin-bottom: 0;padding: 0.3em;box-sizing: border-box;text-align: center;}#sk-container-id-1 label.sk-toggleable__label-arrow:before {content: \"▸\";float: left;margin-right: 0.25em;color: #696969;}#sk-container-id-1 label.sk-toggleable__label-arrow:hover:before {color: black;}#sk-container-id-1 div.sk-estimator:hover label.sk-toggleable__label-arrow:before {color: black;}#sk-container-id-1 div.sk-toggleable__content {max-height: 0;max-width: 0;overflow: hidden;text-align: left;background-color: #f0f8ff;}#sk-container-id-1 div.sk-toggleable__content pre {margin: 0.2em;color: black;border-radius: 0.25em;background-color: #f0f8ff;}#sk-container-id-1 input.sk-toggleable__control:checked~div.sk-toggleable__content {max-height: 200px;max-width: 100%;overflow: auto;}#sk-container-id-1 input.sk-toggleable__control:checked~label.sk-toggleable__label-arrow:before {content: \"▾\";}#sk-container-id-1 div.sk-estimator input.sk-toggleable__control:checked~label.sk-toggleable__label {background-color: #d4ebff;}#sk-container-id-1 div.sk-label input.sk-toggleable__control:checked~label.sk-toggleable__label {background-color: #d4ebff;}#sk-container-id-1 input.sk-hidden--visually {border: 0;clip: rect(1px 1px 1px 1px);clip: rect(1px, 1px, 1px, 1px);height: 1px;margin: -1px;overflow: hidden;padding: 0;position: absolute;width: 1px;}#sk-container-id-1 div.sk-estimator {font-family: monospace;background-color: #f0f8ff;border: 1px dotted black;border-radius: 0.25em;box-sizing: border-box;margin-bottom: 0.5em;}#sk-container-id-1 div.sk-estimator:hover {background-color: #d4ebff;}#sk-container-id-1 div.sk-parallel-item::after {content: \"\";width: 100%;border-bottom: 1px solid gray;flex-grow: 1;}#sk-container-id-1 div.sk-label:hover label.sk-toggleable__label {background-color: #d4ebff;}#sk-container-id-1 div.sk-serial::before {content: \"\";position: absolute;border-left: 1px solid gray;box-sizing: border-box;top: 0;bottom: 0;left: 50%;z-index: 0;}#sk-container-id-1 div.sk-serial {display: flex;flex-direction: column;align-items: center;background-color: white;padding-right: 0.2em;padding-left: 0.2em;position: relative;}#sk-container-id-1 div.sk-item {position: relative;z-index: 1;}#sk-container-id-1 div.sk-parallel {display: flex;align-items: stretch;justify-content: center;background-color: white;position: relative;}#sk-container-id-1 div.sk-item::before, #sk-container-id-1 div.sk-parallel-item::before {content: \"\";position: absolute;border-left: 1px solid gray;box-sizing: border-box;top: 0;bottom: 0;left: 50%;z-index: -1;}#sk-container-id-1 div.sk-parallel-item {display: flex;flex-direction: column;z-index: 1;position: relative;background-color: white;}#sk-container-id-1 div.sk-parallel-item:first-child::after {align-self: flex-end;width: 50%;}#sk-container-id-1 div.sk-parallel-item:last-child::after {align-self: flex-start;width: 50%;}#sk-container-id-1 div.sk-parallel-item:only-child::after {width: 0;}#sk-container-id-1 div.sk-dashed-wrapped {border: 1px dashed gray;margin: 0 0.4em 0.5em 0.4em;box-sizing: border-box;padding-bottom: 0.4em;background-color: white;}#sk-container-id-1 div.sk-label label {font-family: monospace;font-weight: bold;display: inline-block;line-height: 1.2em;}#sk-container-id-1 div.sk-label-container {text-align: center;}#sk-container-id-1 div.sk-container {/* jupyter's `normalize.less` sets `[hidden] { display: none; }` but bootstrap.min.css set `[hidden] { display: none !important; }` so we also need the `!important` here to be able to override the default hidden behavior on the sphinx rendered scikit-learn.org. See: https://github.com/scikit-learn/scikit-learn/issues/21755 */display: inline-block !important;position: relative;}#sk-container-id-1 div.sk-text-repr-fallback {display: none;}</style><div id=\"sk-container-id-1\" class=\"sk-top-container\"><div class=\"sk-text-repr-fallback\"><pre>VarianceThreshold(threshold=0.25)</pre><b>In a Jupyter environment, please rerun this cell to show the HTML representation or trust the notebook. <br />On GitHub, the HTML representation is unable to render, please try loading this page with nbviewer.org.</b></div><div class=\"sk-container\" hidden><div class=\"sk-item\"><div class=\"sk-estimator sk-toggleable\"><input class=\"sk-toggleable__control sk-hidden--visually\" id=\"sk-estimator-id-1\" type=\"checkbox\" checked><label for=\"sk-estimator-id-1\" class=\"sk-toggleable__label sk-toggleable__label-arrow\">VarianceThreshold</label><div class=\"sk-toggleable__content\"><pre>VarianceThreshold(threshold=0.25)</pre></div></div></div></div></div>"
            ]
          },
          "metadata": {},
          "execution_count": 23
        }
      ],
      "source": [
        "var_thr = VarianceThreshold(threshold = 0.25)\n",
        "var_thr.fit(data)"
      ]
    },
    {
      "cell_type": "code",
      "execution_count": null,
      "metadata": {
        "colab": {
          "base_uri": "https://localhost:8080/"
        },
        "id": "dwDNiRgoWPnI",
        "outputId": "33adec10-4751-42f8-ff47-99a4ea8c2580"
      },
      "outputs": [
        {
          "output_type": "execute_result",
          "data": {
            "text/plain": [
              "array([ True,  True,  True,  True,  True,  True,  True,  True,  True,\n",
              "        True,  True,  True,  True,  True,  True,  True,  True,  True,\n",
              "        True,  True,  True,  True,  True,  True,  True,  True,  True,\n",
              "        True,  True,  True,  True,  True,  True,  True,  True, False,\n",
              "        True,  True,  True,  True,  True,  True,  True,  True, False,\n",
              "       False,  True,  True,  True,  True,  True,  True,  True,  True,\n",
              "       False,  True,  True, False,  True, False,  True,  True, False,\n",
              "        True,  True,  True,  True,  True, False,  True])"
            ]
          },
          "metadata": {},
          "execution_count": 24
        }
      ],
      "source": [
        "var_thr.get_support()"
      ]
    },
    {
      "cell_type": "markdown",
      "metadata": {
        "id": "Djk7d2PrWrN8"
      },
      "source": [
        "OUTPUT:\n",
        "\n",
        "True: High Variance\n",
        "False: Low Variance"
      ]
    },
    {
      "cell_type": "code",
      "execution_count": null,
      "metadata": {
        "id": "lBcxPOGVcHuV"
      },
      "outputs": [],
      "source": [
        "data = data[[feat for feat, b in zip(data.columns, var_thr.get_support()) if b]]"
      ]
    },
    {
      "cell_type": "markdown",
      "metadata": {
        "id": "Jc_0PsAZd6O6"
      },
      "source": [
        "Deleted features are"
      ]
    },
    {
      "cell_type": "code",
      "execution_count": null,
      "metadata": {
        "colab": {
          "base_uri": "https://localhost:8080/"
        },
        "id": "ec2eER3Td832",
        "outputId": "46523e4d-7772-4793-b26c-f21468020796"
      },
      "outputs": [
        {
          "output_type": "stream",
          "name": "stdout",
          "text": [
            "BsmtFinSF2\n",
            "LowQualFinSF\n",
            "GrLivArea\n",
            "GarageYrBlt\n",
            "GarageArea\n",
            "GarageCond\n",
            "OpenPorchSF\n",
            "Fence\n"
          ]
        }
      ],
      "source": [
        "for feat, b in zip(original_feat, var_thr.get_support()):\n",
        "  if not b:\n",
        "    print(feat)"
      ]
    },
    {
      "cell_type": "code",
      "execution_count": null,
      "metadata": {
        "id": "vrVS_KKA-TXt"
      },
      "outputs": [],
      "source": [
        "df = data[:]"
      ]
    },
    {
      "cell_type": "markdown",
      "metadata": {
        "id": "lSkBz4T94XZP"
      },
      "source": [
        "# ***Feature Selection***"
      ]
    },
    {
      "cell_type": "markdown",
      "metadata": {
        "id": "Jwp9TyNkhGPt"
      },
      "source": [
        "## **Univariate feature selection**"
      ]
    },
    {
      "cell_type": "code",
      "execution_count": null,
      "metadata": {
        "id": "GUmVdErOhNys"
      },
      "outputs": [],
      "source": [
        "from sklearn.feature_selection import SelectKBest, f_regression"
      ]
    },
    {
      "cell_type": "code",
      "execution_count": null,
      "metadata": {
        "id": "O9Fg1LYpiDwR"
      },
      "outputs": [],
      "source": [
        "def select_and_check(k):\n",
        "  selector = SelectKBest(f_regression, k=k)\n",
        "  pipe = make_pipeline(selector, regressor)\n",
        "  pipe.fit(df, y)\n",
        "  scores = cross_val_score(\n",
        "        regressor, df, y, scoring='neg_root_mean_squared_error', cv=5)\n",
        "  return scores.mean(), scores.std()\n",
        "res = []\n",
        "index = []\n",
        "for k in [25, 40, 35, 60]:\n",
        "  res += [select_and_check(k)]\n",
        "  index += [f\"{k} features in dataset\"]"
      ]
    },
    {
      "cell_type": "code",
      "execution_count": null,
      "metadata": {
        "colab": {
          "base_uri": "https://localhost:8080/",
          "height": 175
        },
        "id": "TZE5h8bHiDzV",
        "outputId": "2323f984-d3d8-4e31-9e05-b4eda4c07770"
      },
      "outputs": [
        {
          "output_type": "execute_result",
          "data": {
            "text/plain": [
              "                              Mean()        STD()\n",
              "25 features in dataset -29365.094067  3943.376022\n",
              "40 features in dataset -29365.094067  3943.376022\n",
              "35 features in dataset -29365.094067  3943.376022\n",
              "60 features in dataset -29365.094067  3943.376022"
            ],
            "text/html": [
              "\n",
              "  <div id=\"df-0aa012d7-68f3-4227-af6c-6f87662a9c0c\" class=\"colab-df-container\">\n",
              "    <div>\n",
              "<style scoped>\n",
              "    .dataframe tbody tr th:only-of-type {\n",
              "        vertical-align: middle;\n",
              "    }\n",
              "\n",
              "    .dataframe tbody tr th {\n",
              "        vertical-align: top;\n",
              "    }\n",
              "\n",
              "    .dataframe thead th {\n",
              "        text-align: right;\n",
              "    }\n",
              "</style>\n",
              "<table border=\"1\" class=\"dataframe\">\n",
              "  <thead>\n",
              "    <tr style=\"text-align: right;\">\n",
              "      <th></th>\n",
              "      <th>Mean()</th>\n",
              "      <th>STD()</th>\n",
              "    </tr>\n",
              "  </thead>\n",
              "  <tbody>\n",
              "    <tr>\n",
              "      <th>25 features in dataset</th>\n",
              "      <td>-29365.094067</td>\n",
              "      <td>3943.376022</td>\n",
              "    </tr>\n",
              "    <tr>\n",
              "      <th>40 features in dataset</th>\n",
              "      <td>-29365.094067</td>\n",
              "      <td>3943.376022</td>\n",
              "    </tr>\n",
              "    <tr>\n",
              "      <th>35 features in dataset</th>\n",
              "      <td>-29365.094067</td>\n",
              "      <td>3943.376022</td>\n",
              "    </tr>\n",
              "    <tr>\n",
              "      <th>60 features in dataset</th>\n",
              "      <td>-29365.094067</td>\n",
              "      <td>3943.376022</td>\n",
              "    </tr>\n",
              "  </tbody>\n",
              "</table>\n",
              "</div>\n",
              "    <div class=\"colab-df-buttons\">\n",
              "\n",
              "  <div class=\"colab-df-container\">\n",
              "    <button class=\"colab-df-convert\" onclick=\"convertToInteractive('df-0aa012d7-68f3-4227-af6c-6f87662a9c0c')\"\n",
              "            title=\"Convert this dataframe to an interactive table.\"\n",
              "            style=\"display:none;\">\n",
              "\n",
              "  <svg xmlns=\"http://www.w3.org/2000/svg\" height=\"24px\" viewBox=\"0 -960 960 960\">\n",
              "    <path d=\"M120-120v-720h720v720H120Zm60-500h600v-160H180v160Zm220 220h160v-160H400v160Zm0 220h160v-160H400v160ZM180-400h160v-160H180v160Zm440 0h160v-160H620v160ZM180-180h160v-160H180v160Zm440 0h160v-160H620v160Z\"/>\n",
              "  </svg>\n",
              "    </button>\n",
              "\n",
              "  <style>\n",
              "    .colab-df-container {\n",
              "      display:flex;\n",
              "      gap: 12px;\n",
              "    }\n",
              "\n",
              "    .colab-df-convert {\n",
              "      background-color: #E8F0FE;\n",
              "      border: none;\n",
              "      border-radius: 50%;\n",
              "      cursor: pointer;\n",
              "      display: none;\n",
              "      fill: #1967D2;\n",
              "      height: 32px;\n",
              "      padding: 0 0 0 0;\n",
              "      width: 32px;\n",
              "    }\n",
              "\n",
              "    .colab-df-convert:hover {\n",
              "      background-color: #E2EBFA;\n",
              "      box-shadow: 0px 1px 2px rgba(60, 64, 67, 0.3), 0px 1px 3px 1px rgba(60, 64, 67, 0.15);\n",
              "      fill: #174EA6;\n",
              "    }\n",
              "\n",
              "    .colab-df-buttons div {\n",
              "      margin-bottom: 4px;\n",
              "    }\n",
              "\n",
              "    [theme=dark] .colab-df-convert {\n",
              "      background-color: #3B4455;\n",
              "      fill: #D2E3FC;\n",
              "    }\n",
              "\n",
              "    [theme=dark] .colab-df-convert:hover {\n",
              "      background-color: #434B5C;\n",
              "      box-shadow: 0px 1px 3px 1px rgba(0, 0, 0, 0.15);\n",
              "      filter: drop-shadow(0px 1px 2px rgba(0, 0, 0, 0.3));\n",
              "      fill: #FFFFFF;\n",
              "    }\n",
              "  </style>\n",
              "\n",
              "    <script>\n",
              "      const buttonEl =\n",
              "        document.querySelector('#df-0aa012d7-68f3-4227-af6c-6f87662a9c0c button.colab-df-convert');\n",
              "      buttonEl.style.display =\n",
              "        google.colab.kernel.accessAllowed ? 'block' : 'none';\n",
              "\n",
              "      async function convertToInteractive(key) {\n",
              "        const element = document.querySelector('#df-0aa012d7-68f3-4227-af6c-6f87662a9c0c');\n",
              "        const dataTable =\n",
              "          await google.colab.kernel.invokeFunction('convertToInteractive',\n",
              "                                                    [key], {});\n",
              "        if (!dataTable) return;\n",
              "\n",
              "        const docLinkHtml = 'Like what you see? Visit the ' +\n",
              "          '<a target=\"_blank\" href=https://colab.research.google.com/notebooks/data_table.ipynb>data table notebook</a>'\n",
              "          + ' to learn more about interactive tables.';\n",
              "        element.innerHTML = '';\n",
              "        dataTable['output_type'] = 'display_data';\n",
              "        await google.colab.output.renderOutput(dataTable, element);\n",
              "        const docLink = document.createElement('div');\n",
              "        docLink.innerHTML = docLinkHtml;\n",
              "        element.appendChild(docLink);\n",
              "      }\n",
              "    </script>\n",
              "  </div>\n",
              "\n",
              "    </div>\n",
              "  </div>\n"
            ]
          },
          "metadata": {},
          "execution_count": 30
        }
      ],
      "source": [
        "imput_res = pd.DataFrame(res, index=index, columns=['Mean()', 'STD()'])\n",
        "imput_res"
      ]
    },
    {
      "cell_type": "markdown",
      "metadata": {
        "id": "Y_YuE4kBGOrJ"
      },
      "source": [
        "## **Model-based selection**\n",
        "\n"
      ]
    },
    {
      "cell_type": "code",
      "execution_count": null,
      "metadata": {
        "id": "fxcEPF3KNqJ1"
      },
      "outputs": [],
      "source": [
        "curr_features = df.columns\n",
        "chosen_data = {}"
      ]
    },
    {
      "cell_type": "markdown",
      "metadata": {
        "id": "o-PddYN0NUlp"
      },
      "source": [
        "### XGBRegressor"
      ]
    },
    {
      "cell_type": "code",
      "execution_count": null,
      "metadata": {
        "colab": {
          "base_uri": "https://localhost:8080/"
        },
        "id": "SV2nUWosLgu7",
        "outputId": "9c17f677-4f68-4cf0-879f-24054e966faa"
      },
      "outputs": [
        {
          "output_type": "stream",
          "name": "stdout",
          "text": [
            "Features selected by SelectFromModel: Index(['GrLivArea', 'BathNum', 'BsmtQual', 'GarageCars', 'OverallQual'], dtype='object')\n"
          ]
        }
      ],
      "source": [
        "xgboost = XGBRegressor(random_state=1).fit(df, y)\n",
        "sfm_xgboost = SelectFromModel(xgboost, max_features=40, prefit=True).fit(df, y)\n",
        "feat_xg = df.columns[sfm_xgboost.get_support()]\n",
        "chosen_data[\"XGBoost Selected\"] = df[feat_xg]\n",
        "print(f\"Features selected by SelectFromModel: {feat_xg}\")"
      ]
    },
    {
      "cell_type": "code",
      "execution_count": null,
      "metadata": {
        "id": "biLkSD--H1vS"
      },
      "outputs": [],
      "source": [
        "num_chan = make_pipeline(\n",
        "    SimpleImputer(strategy=\"mean\"), StandardScaler())\n",
        "cat_chan = make_pipeline(\n",
        "    SimpleImputer(strategy='most_frequent'), OneHotEncoder(handle_unknown=\"ignore\"))\n",
        "linear_changer = make_column_transformer(\n",
        "    (num_chan, selector(dtype_include=\"number\")),\n",
        "    (cat_chan, selector(dtype_include=\"object\")),)\n",
        "num_data = num_chan.fit_transform(num_data)\n",
        "data_lin = linear_changer.fit_transform(data_lin)\n",
        "data_tree = df[:]\n",
        "num_data = pd.DataFrame(num_data, columns=num_feat)"
      ]
    },
    {
      "cell_type": "markdown",
      "metadata": {
        "id": "QeuajTl3NZGC"
      },
      "source": [
        "### Ridge and Lasso Regressions\n",
        " >> At forst only with numeracal data than with all data"
      ]
    },
    {
      "cell_type": "code",
      "execution_count": null,
      "metadata": {
        "colab": {
          "base_uri": "https://localhost:8080/",
          "height": 445
        },
        "id": "1AxIpEcg5IH3",
        "outputId": "4d4c00e4-1b72-484e-f2c2-9ba1bb884d8c"
      },
      "outputs": [
        {
          "output_type": "display_data",
          "data": {
            "text/plain": [
              "<Figure size 1700x700 with 1 Axes>"
            ],
            "image/png": "[encoded data removed]"
          },
          "metadata": {}
        }
      ],
      "source": [
        "ridge = RidgeCV(alphas=np.logspace(-6, 6, num=5)).fit(num_data, y)\n",
        "importance = np.abs(ridge.coef_)\n",
        "\n",
        "fig, ax1 = plt.subplots(figsize=(17, 7), layout='constrained')\n",
        "plt.barh(num_feat, importance)\n",
        "\n",
        "plt.ylabel(\"Features\")\n",
        "\n",
        "# setting label of x-axis\n",
        "plt.xlabel(\"Importance\")\n",
        "plt.title(\"Feature Importance for Ridge Regression\")\n",
        "plt.show()"
      ]
    },
    {
      "cell_type": "code",
      "execution_count": null,
      "metadata": {
        "colab": {
          "base_uri": "https://localhost:8080/"
        },
        "id": "jfM_9kc0FYJd",
        "outputId": "d6e0d6c4-5a52-47c9-bf88-8a6c99e74ce6"
      },
      "outputs": [
        {
          "output_type": "stream",
          "name": "stdout",
          "text": [
            "Features selected by SelectFromModel: ['YearBuilt', 'YearRemodAdd', 'MasVnrArea', 'BsmtFinSF1', 'TotalBsmtSF', '1stFlrSF', '2ndFlrSF', 'GrLivArea', 'GarageArea', 'BathNum']\n"
          ]
        }
      ],
      "source": [
        "threshold = np.sort(importance)[-10] + 0.01\n",
        "sfm = SelectFromModel(ridge, max_features=15).fit(num_data, y)\n",
        "feat_ridge = [feat for feat, b in zip(num_feat, sfm.get_support()) if b]\n",
        "print(f\"Features selected by SelectFromModel: {feat_ridge}\")"
      ]
    },
    {
      "cell_type": "markdown",
      "metadata": {
        "id": "LaABi3VZKtFx"
      },
      "source": [
        "Make Feature Selection for Ridge Regression for Whole Dataset\n"
      ]
    },
    {
      "cell_type": "code",
      "execution_count": null,
      "metadata": {
        "id": "c1i8CTi2LgIt"
      },
      "outputs": [],
      "source": [
        "import scipy.sparse\n",
        "data_lin = pd.DataFrame.sparse.from_spmatrix(data_lin)"
      ]
    },
    {
      "cell_type": "code",
      "execution_count": null,
      "metadata": {
        "id": "NSjYxAkAKZzd"
      },
      "outputs": [],
      "source": [
        "ridge = RidgeCV(alphas=np.logspace(-6, 6, num=5)).fit(data_lin, y)\n",
        "sfm = SelectFromModel(ridge, max_features=45, prefit=True).fit(data_lin, y)\n",
        "feature_names = np.array(data_lin.columns)\n",
        "feat_ridge = [feat for feat, b in zip(data_lin.columns, sfm.get_support()) if b]\n",
        "chosen_data['Ridge Linear Features'] = data_lin[feat_ridge]"
      ]
    },
    {
      "cell_type": "code",
      "execution_count": null,
      "metadata": {
        "colab": {
          "base_uri": "https://localhost:8080/",
          "height": 452
        },
        "id": "7Vn2mwo-HIo7",
        "outputId": "62b893a7-5c5b-4d30-bbf1-85977b65a51c"
      },
      "outputs": [
        {
          "output_type": "display_data",
          "data": {
            "text/plain": [
              "<Figure size 640x480 with 1 Axes>"
            ],
            "image/png": "[encoded data removed]"
          },
          "metadata": {}
        }
      ],
      "source": [
        "lasso = Lasso(alpha=2).fit(num_data, y)\n",
        "importance_l = np.abs(lasso.coef_)\n",
        "feature_names = np.array(num_feat)\n",
        "plt.barh(num_feat, importance_l)\n",
        "plt.title(\"Feature importances Lasso\")\n",
        "plt.show()"
      ]
    },
    {
      "cell_type": "code",
      "execution_count": null,
      "metadata": {
        "colab": {
          "base_uri": "https://localhost:8080/"
        },
        "id": "q5iZrfu1HaDO",
        "outputId": "638b7614-71e8-4859-ac95-0551b8ee6eb2"
      },
      "outputs": [
        {
          "output_type": "stream",
          "name": "stdout",
          "text": [
            "Features selected by SelectFromModel: ['YearBuilt' 'YearRemodAdd' 'MasVnrArea' 'BsmtFinSF1' 'BsmtUnfSF'\n",
            " '1stFlrSF' '2ndFlrSF' 'GarageArea' 'WoodDeckSF' 'ScreenPorch']\n"
          ]
        }
      ],
      "source": [
        "sfm_lasso = SelectFromModel(lasso, max_features=10, prefit=True).fit(num_data, y)\n",
        "feat_lasso = feature_names[sfm_lasso.get_support()]\n",
        "chosen_data[\"Lasso Linear Features\"] = num_data[feat_lasso]\n",
        "print(f\"Features selected by SelectFromModel: {feat_lasso}\")"
      ]
    },
    {
      "cell_type": "code",
      "execution_count": null,
      "metadata": {
        "colab": {
          "base_uri": "https://localhost:8080/",
          "height": 463
        },
        "id": "HQInwyhGH1z4",
        "outputId": "f38970a8-5bcd-45b0-d088-2e7a2e60e1cb"
      },
      "outputs": [
        {
          "output_type": "execute_result",
          "data": {
            "text/plain": [
              "<BarContainer object of 62 artists>"
            ]
          },
          "metadata": {},
          "execution_count": 40
        },
        {
          "output_type": "display_data",
          "data": {
            "text/plain": [
              "<Figure size 1700x700 with 1 Axes>"
            ],
            "image/png": "[encoded data removed]"
          },
          "metadata": {}
        }
      ],
      "source": [
        "forest = RandomForestRegressor(n_estimators=100, random_state=16)\n",
        "forest.fit(df, y)\n",
        "fig, ax = plt.subplots(figsize=(17, 7), layout='constrained')\n",
        "plt.barh(curr_features, forest.feature_importances_ )"
      ]
    },
    {
      "cell_type": "code",
      "execution_count": null,
      "metadata": {
        "colab": {
          "base_uri": "https://localhost:8080/"
        },
        "id": "D1jc6o0yI9Nn",
        "outputId": "b0992815-b94e-4d4f-cde6-26d96e3c3809"
      },
      "outputs": [
        {
          "output_type": "stream",
          "name": "stdout",
          "text": [
            "Features selected by SelectFromModel for random Forest: Index(['BsmtFinSF1', 'TotalBsmtSF', '1stFlrSF', '2ndFlrSF', 'GrLivArea',\n",
            "       'GarageArea', 'GarageCars', 'OverallQual'],\n",
            "      dtype='object')\n"
          ]
        }
      ],
      "source": [
        "sfm_tree = SelectFromModel(forest, max_features=30).fit(df, y)\n",
        "feat_tree = curr_features[sfm_tree.get_support()]\n",
        "chosen_data[\"Random Forest Tree Features\"] = df[feat_tree]\n",
        "print(f\"Features selected by SelectFromModel for random Forest: {feat_tree}\")"
      ]
    },
    {
      "cell_type": "markdown",
      "metadata": {
        "id": "NiPsQWsKGOvm"
      },
      "source": [
        "## **Iterative selection, with Sequential Feature Selection**\n",
        "\\\n",
        "There is one more implementation of this algorithm \"backward\" but it require more that 5 hours to complete.  \n"
      ]
    },
    {
      "cell_type": "code",
      "execution_count": null,
      "metadata": {
        "colab": {
          "base_uri": "https://localhost:8080/"
        },
        "id": "QS821pnWK2ku",
        "outputId": "63e664b4-2cee-4744-ca83-3156830cca5f"
      },
      "outputs": [
        {
          "output_type": "stream",
          "name": "stdout",
          "text": [
            "CPU times: user 3h 7min 46s, sys: 1h 10min 59s, total: 4h 18min 46s\n",
            "Wall time: 3h 12min 47s\n"
          ]
        }
      ],
      "source": [
        "%%time\n",
        "sfs_forward_ridge = SequentialFeatureSelector(ridge, n_features_to_select=50, direction=\"forward\").fit(data_lin, y)\n",
        "\n"
      ]
    },
    {
      "cell_type": "code",
      "execution_count": null,
      "metadata": {
        "colab": {
          "base_uri": "https://localhost:8080/"
        },
        "id": "a0mPszEwDUPT",
        "outputId": "4803cf44-c5d3-4718-ffd4-6ad19da8db92"
      },
      "outputs": [
        {
          "output_type": "stream",
          "name": "stdout",
          "text": [
            "CPU times: user 17min 35s, sys: 2.73 s, total: 17min 37s\n",
            "Wall time: 17min 48s\n"
          ]
        }
      ],
      "source": [
        "%%time\n",
        "sfs_forward_tree = SequentialFeatureSelector(AdaBoostRegressor(), n_features_to_select=30, direction=\"forward\").fit(data_tree, y)\n"
      ]
    },
    {
      "cell_type": "code",
      "execution_count": null,
      "metadata": {
        "id": "c2-QWgctNaGS"
      },
      "outputs": [],
      "source": [
        "%%capture\n",
        "sfs_forward_xgb = SequentialFeatureSelector(XGBRegressor(random_state=1), n_features_to_select=30, direction=\"forward\").fit(data_tree, y)"
      ]
    },
    {
      "cell_type": "code",
      "execution_count": null,
      "metadata": {
        "id": "1BbUQPv-Mu0W"
      },
      "outputs": [],
      "source": [
        "%%capture\n",
        "sfs_backward_xgb = SequentialFeatureSelector(XGBRegressor(random_state=1),\n",
        "                                             n_features_to_select=30, direction=\"backward\").fit(data_tree, y)"
      ]
    },
    {
      "cell_type": "code",
      "execution_count": null,
      "metadata": {
        "id": "qHyvyvmJNRpe"
      },
      "outputs": [],
      "source": [
        "feat_sfs_forward_ridge = data_lin.columns[sfs_forward_ridge.get_support()]\n",
        "feat_sfs_forward_tree = data_tree.columns[sfs_forward_tree.get_support()]\n",
        "\n",
        "feat_sfs_forward_xgb = data_tree.columns[sfs_forward_xgb.get_support()]\n",
        "feat_sfs_backward_xgb = data_tree.columns[sfs_backward_xgb.get_support()]"
      ]
    },
    {
      "cell_type": "code",
      "execution_count": null,
      "metadata": {
        "colab": {
          "base_uri": "https://localhost:8080/"
        },
        "id": "WZoMqyAbnkHG",
        "outputId": "7d612af7-2a11-4648-a9d0-dce80fea93c4"
      },
      "outputs": [
        {
          "output_type": "stream",
          "name": "stderr",
          "text": [
            "<ipython-input-47-9cc5546fb191>:2: FutureWarning: The behavior of .astype from SparseDtype to a non-sparse dtype is deprecated. In a future version, this will return a non-sparse array with the requested dtype. To retain the old behavior, use `obj.astype(SparseDtype(dtype))`\n",
            "  data_lin[feat_sfs_forward_ridge].to_csv(path + 'sfs_forward_linear.csv')\n"
          ]
        }
      ],
      "source": [
        "path = '/content/drive/MyDrive/Data/houses/'\n",
        "data_lin[feat_sfs_forward_ridge].to_csv(path + 'sfs_forward_linear.csv')\n",
        "data_tree[feat_sfs_forward_tree].to_csv(path + 'sfs_forward_tree.csv')\n",
        "\n",
        "data_tree[feat_sfs_forward_xgb].to_csv(path + 'sfs_forward_xgb.csv')\n",
        "data_tree[feat_sfs_backward_xgb].to_csv(path + 'sfs_backward_xgb.csv')\n"
      ]
    },
    {
      "cell_type": "code",
      "execution_count": null,
      "metadata": {
        "id": "u06mByxmolh-"
      },
      "outputs": [],
      "source": [
        "chosen_data[\"SFS forward Linear\"] = pd.read_csv(path + 'sfs_forward_linear.csv')\n",
        "chosen_data[\"SFS forward Tree\"] = pd.read_csv(path + 'sfs_forward_tree.csv')\n",
        "\n",
        "chosen_data[\"SFS forward XGB\"] = pd.read_csv(path + 'sfs_forward_xgb.csv')\n",
        "chosen_data[\"SFS backward XGB\"] = pd.read_csv(path + 'sfs_backward_xgb.csv')\n"
      ]
    },
    {
      "cell_type": "markdown",
      "metadata": {
        "id": "R2yGDZPMWoC3"
      },
      "source": [
        "## **Iterative selection, Recursive Feature Elimination, RFE**\n"
      ]
    },
    {
      "cell_type": "code",
      "execution_count": null,
      "metadata": {
        "colab": {
          "base_uri": "https://localhost:8080/"
        },
        "id": "Mjfb1mPyWo9E",
        "outputId": "d2bd6e55-03db-4839-9aaf-34c223dcca9d"
      },
      "outputs": [
        {
          "output_type": "stream",
          "name": "stdout",
          "text": [
            "CPU times: user 2min 28s, sys: 32.5 s, total: 3min 1s\n",
            "Wall time: 2min 18s\n"
          ]
        }
      ],
      "source": [
        "%%time\n",
        "selector = RFE(RandomForestRegressor(n_estimators=100, random_state=32), n_features_to_select=30).fit(data_tree, y)\n",
        "data_rfe_forest = pd.DataFrame(selector.transform(data_tree))\n",
        "chosen_data[\"RFE Random Forest Tree\"] = data_rfe_forest\n",
        "\n",
        "\n",
        "selector2 = RFE(ridge, n_features_to_select=100).fit(data_lin, y)\n",
        "data_rfe_lin = selector2.transform(data_lin)\n",
        "chosen_data[\"RFE Linear Regression\"] = data_rfe_lin\n",
        "\n",
        "selector3 = RFE(XGBRegressor(random_state=1),n_features_to_select=30).fit(data_tree, y)\n",
        "data_rfe_xgb = pd.DataFrame(selector3.transform(data_tree))\n",
        "chosen_data[\"RFE XGBoost\"] = data_rfe_xgb\n"
      ]
    },
    {
      "cell_type": "markdown",
      "metadata": {
        "id": "q80HU8aJhCWZ"
      },
      "source": [
        "# ***Models with new Data***"
      ]
    },
    {
      "cell_type": "code",
      "execution_count": null,
      "metadata": {
        "id": "rbnmCbbPhF2U"
      },
      "outputs": [],
      "source": [
        "scores = {'neg_mean_absolute_error': []}\n",
        "index = []"
      ]
    },
    {
      "cell_type": "markdown",
      "metadata": {
        "id": "XhmYGYqDgvn-"
      },
      "source": [
        "## **Cartesian Product for All Models and All Data**"
      ]
    },
    {
      "cell_type": "code",
      "execution_count": null,
      "metadata": {
        "colab": {
          "base_uri": "https://localhost:8080/"
        },
        "id": "Ylc41_hjhuat",
        "outputId": "c84a3a13-3593-4c58-d674-2d999460953a"
      },
      "outputs": [
        {
          "output_type": "stream",
          "name": "stderr",
          "text": [
            "/usr/local/lib/python3.10/dist-packages/sklearn/linear_model/_coordinate_descent.py:592: ConvergenceWarning: Objective did not converge. You might want to increase the number of iterations. Duality gap: 8030274433.741394, tolerance: 759214014.2531197\n",
            "  model = cd_fast.sparse_enet_coordinate_descent(\n",
            "/usr/local/lib/python3.10/dist-packages/sklearn/linear_model/_coordinate_descent.py:592: ConvergenceWarning: Objective did not converge. You might want to increase the number of iterations. Duality gap: 9052021858.529907, tolerance: 699031751.5199751\n",
            "  model = cd_fast.sparse_enet_coordinate_descent(\n",
            "/usr/local/lib/python3.10/dist-packages/sklearn/linear_model/_coordinate_descent.py:592: ConvergenceWarning: Objective did not converge. You might want to increase the number of iterations. Duality gap: 4971085522.226074, tolerance: 724930391.3116124\n",
            "  model = cd_fast.sparse_enet_coordinate_descent(\n"
          ]
        }
      ],
      "source": [
        "for name, data in chosen_data.items():\n",
        "  if 'Linear' in name:\n",
        "    result = cross_val_score(Lasso(), X=data, y=y, cv=5, scoring='neg_mean_absolute_error')\n",
        "    index += [name + ' + Lasso']\n",
        "    scores['neg_mean_absolute_error'].append(result.mean())\n",
        "    result = cross_val_score(RidgeCV(alphas=np.logspace(-6, 6, num=5)), X=data, y=y, cv=5, scoring='neg_mean_absolute_error')\n",
        "    index += [name + ' + Ridge']\n",
        "    scores['neg_mean_absolute_error'].append(result.mean())\n",
        "    result = cross_val_score(XGBRegressor(random_state=1), X=data, y=y, cv=5, scoring='neg_mean_absolute_error')\n",
        "    index += [name + ' + XGBRegressor']\n",
        "    scores['neg_mean_absolute_error'].append(result.mean())\n",
        "\n",
        "  else:\n",
        "    result = cross_val_score(RandomForestRegressor(n_estimators=100, random_state=1), X=data, y=y, cv=5, scoring='neg_mean_absolute_error')\n",
        "    index += [name + ' + Random Forest']\n",
        "    scores['neg_mean_absolute_error'].append(result.mean())\n",
        "    result = cross_val_score(XGBRegressor(random_state=1), X=data, y=y, cv=5, scoring='neg_mean_absolute_error')\n",
        "    index += [name + ' + XGBRegressor']\n",
        "    scores['neg_mean_absolute_error'].append(result.mean())\n",
        "result = cross_val_score(RidgeCV(alphas=np.logspace(-6, 6, num=5)), X=data_lin, y=y, cv=5, scoring='neg_mean_absolute_error')\n",
        "index += ['Full Data + Ridge']\n",
        "scores['neg_mean_absolute_error'].append(result.mean())\n",
        "result = cross_val_score(Lasso(), X=data_lin, y=y, cv=5, scoring='neg_mean_absolute_error')\n",
        "index += [name + ' + Lasso']\n",
        "scores['neg_mean_absolute_error'].append(result.mean())\n",
        "result = cross_val_score(RandomForestRegressor(n_estimators=100, random_state=1), X=data_tree, y=y, cv=5, scoring='neg_mean_absolute_error')\n",
        "index += ['Full Data + Random Forest']\n",
        "scores['neg_mean_absolute_error'].append(result.mean())\n",
        "result = cross_val_score(XGBRegressor(random_state=1), X=data_tree, y=y, cv=5, scoring='neg_mean_absolute_error')\n",
        "index += ['Full Data + XGBRegressor']\n",
        "scores['neg_mean_absolute_error'].append(result.mean())\n"
      ]
    },
    {
      "cell_type": "code",
      "execution_count": null,
      "metadata": {
        "colab": {
          "base_uri": "https://localhost:8080/",
          "height": 990
        },
        "id": "B5jFsdRO1OQb",
        "outputId": "dc501af7-bc50-4d1e-9a59-c8bb7b77fe9b"
      },
      "outputs": [
        {
          "output_type": "execute_result",
          "data": {
            "text/plain": [
              "                                             neg_mean_absolute_error\n",
              "XGBoost Selected + Random Forest                       -2.315091e+04\n",
              "XGBoost Selected + XGBRegressor                        -2.347348e+04\n",
              "Ridge Linear Features + Lasso                          -2.802637e+04\n",
              "Ridge Linear Features + Ridge                          -2.770821e+04\n",
              "Ridge Linear Features + XGBRegressor                   -2.841026e+04\n",
              "Lasso Linear Features + Lasso                          -2.504466e+04\n",
              "Lasso Linear Features + Ridge                          -2.504289e+04\n",
              "Lasso Linear Features + XGBRegressor                   -2.254602e+04\n",
              "Random Forest Tree Features + Random Forest            -1.991134e+04\n",
              "Random Forest Tree Features + XGBRegressor             -2.105795e+04\n",
              "SFS forward Linear + Lasso                             -1.614944e+04\n",
              "SFS forward Linear + Ridge                             -1.614368e+04\n",
              "SFS forward Linear + XGBRegressor                      -1.747518e+04\n",
              "SFS forward Tree + Random Forest                       -1.780764e+04\n",
              "SFS forward Tree + XGBRegressor                        -1.837189e+04\n",
              "SFS forward XGB + Random Forest                        -1.871041e+04\n",
              "SFS forward XGB + XGBRegressor                         -1.879454e+04\n",
              "SFS backward XGB + Random Forest                       -1.786990e+04\n",
              "SFS backward XGB + XGBRegressor                        -1.729437e+04\n",
              "RFE Random Forest Tree + Random Forest                 -1.741182e+04\n",
              "RFE Random Forest Tree + XGBRegressor                  -1.744795e+04\n",
              "RFE Linear Regression + Lasso                          -1.729095e+04\n",
              "RFE Linear Regression + Ridge                          -1.724662e+04\n",
              "RFE Linear Regression + XGBRegressor                   -1.745206e+04\n",
              "RFE XGBoost + Random Forest                            -1.723726e+04\n",
              "RFE XGBoost + XGBRegressor                             -1.695156e+04\n",
              "Full Data + Ridge                                      -3.248987e+07\n",
              "RFE XGBoost + Lasso                                    -1.846615e+04\n",
              "Full Data + Random Forest                              -1.753462e+04\n",
              "Full Data + XGBRegressor                               -1.691437e+04"
            ],
            "text/html": [
              "\n",
              "  <div id=\"df-350f5295-1eb9-4b9d-a145-f54aee3d9e24\" class=\"colab-df-container\">\n",
              "    <div>\n",
              "<style scoped>\n",
              "    .dataframe tbody tr th:only-of-type {\n",
              "        vertical-align: middle;\n",
              "    }\n",
              "\n",
              "    .dataframe tbody tr th {\n",
              "        vertical-align: top;\n",
              "    }\n",
              "\n",
              "    .dataframe thead th {\n",
              "        text-align: right;\n",
              "    }\n",
              "</style>\n",
              "<table border=\"1\" class=\"dataframe\">\n",
              "  <thead>\n",
              "    <tr style=\"text-align: right;\">\n",
              "      <th></th>\n",
              "      <th>neg_mean_absolute_error</th>\n",
              "    </tr>\n",
              "  </thead>\n",
              "  <tbody>\n",
              "    <tr>\n",
              "      <th>XGBoost Selected + Random Forest</th>\n",
              "      <td>-2.315091e+04</td>\n",
              "    </tr>\n",
              "    <tr>\n",
              "      <th>XGBoost Selected + XGBRegressor</th>\n",
              "      <td>-2.347348e+04</td>\n",
              "    </tr>\n",
              "    <tr>\n",
              "      <th>Ridge Linear Features + Lasso</th>\n",
              "      <td>-2.802637e+04</td>\n",
              "    </tr>\n",
              "    <tr>\n",
              "      <th>Ridge Linear Features + Ridge</th>\n",
              "      <td>-2.770821e+04</td>\n",
              "    </tr>\n",
              "    <tr>\n",
              "      <th>Ridge Linear Features + XGBRegressor</th>\n",
              "      <td>-2.841026e+04</td>\n",
              "    </tr>\n",
              "    <tr>\n",
              "      <th>Lasso Linear Features + Lasso</th>\n",
              "      <td>-2.504466e+04</td>\n",
              "    </tr>\n",
              "    <tr>\n",
              "      <th>Lasso Linear Features + Ridge</th>\n",
              "      <td>-2.504289e+04</td>\n",
              "    </tr>\n",
              "    <tr>\n",
              "      <th>Lasso Linear Features + XGBRegressor</th>\n",
              "      <td>-2.254602e+04</td>\n",
              "    </tr>\n",
              "    <tr>\n",
              "      <th>Random Forest Tree Features + Random Forest</th>\n",
              "      <td>-1.991134e+04</td>\n",
              "    </tr>\n",
              "    <tr>\n",
              "      <th>Random Forest Tree Features + XGBRegressor</th>\n",
              "      <td>-2.105795e+04</td>\n",
              "    </tr>\n",
              "    <tr>\n",
              "      <th>SFS forward Linear + Lasso</th>\n",
              "      <td>-1.614944e+04</td>\n",
              "    </tr>\n",
              "    <tr>\n",
              "      <th>SFS forward Linear + Ridge</th>\n",
              "      <td>-1.614368e+04</td>\n",
              "    </tr>\n",
              "    <tr>\n",
              "      <th>SFS forward Linear + XGBRegressor</th>\n",
              "      <td>-1.747518e+04</td>\n",
              "    </tr>\n",
              "    <tr>\n",
              "      <th>SFS forward Tree + Random Forest</th>\n",
              "      <td>-1.780764e+04</td>\n",
              "    </tr>\n",
              "    <tr>\n",
              "      <th>SFS forward Tree + XGBRegressor</th>\n",
              "      <td>-1.837189e+04</td>\n",
              "    </tr>\n",
              "    <tr>\n",
              "      <th>SFS forward XGB + Random Forest</th>\n",
              "      <td>-1.871041e+04</td>\n",
              "    </tr>\n",
              "    <tr>\n",
              "      <th>SFS forward XGB + XGBRegressor</th>\n",
              "      <td>-1.879454e+04</td>\n",
              "    </tr>\n",
              "    <tr>\n",
              "      <th>SFS backward XGB + Random Forest</th>\n",
              "      <td>-1.786990e+04</td>\n",
              "    </tr>\n",
              "    <tr>\n",
              "      <th>SFS backward XGB + XGBRegressor</th>\n",
              "      <td>-1.729437e+04</td>\n",
              "    </tr>\n",
              "    <tr>\n",
              "      <th>RFE Random Forest Tree + Random Forest</th>\n",
              "      <td>-1.741182e+04</td>\n",
              "    </tr>\n",
              "    <tr>\n",
              "      <th>RFE Random Forest Tree + XGBRegressor</th>\n",
              "      <td>-1.744795e+04</td>\n",
              "    </tr>\n",
              "    <tr>\n",
              "      <th>RFE Linear Regression + Lasso</th>\n",
              "      <td>-1.729095e+04</td>\n",
              "    </tr>\n",
              "    <tr>\n",
              "      <th>RFE Linear Regression + Ridge</th>\n",
              "      <td>-1.724662e+04</td>\n",
              "    </tr>\n",
              "    <tr>\n",
              "      <th>RFE Linear Regression + XGBRegressor</th>\n",
              "      <td>-1.745206e+04</td>\n",
              "    </tr>\n",
              "    <tr>\n",
              "      <th>RFE XGBoost + Random Forest</th>\n",
              "      <td>-1.723726e+04</td>\n",
              "    </tr>\n",
              "    <tr>\n",
              "      <th>RFE XGBoost + XGBRegressor</th>\n",
              "      <td>-1.695156e+04</td>\n",
              "    </tr>\n",
              "    <tr>\n",
              "      <th>Full Data + Ridge</th>\n",
              "      <td>-3.248987e+07</td>\n",
              "    </tr>\n",
              "    <tr>\n",
              "      <th>RFE XGBoost + Lasso</th>\n",
              "      <td>-1.846615e+04</td>\n",
              "    </tr>\n",
              "    <tr>\n",
              "      <th>Full Data + Random Forest</th>\n",
              "      <td>-1.753462e+04</td>\n",
              "    </tr>\n",
              "    <tr>\n",
              "      <th>Full Data + XGBRegressor</th>\n",
              "      <td>-1.691437e+04</td>\n",
              "    </tr>\n",
              "  </tbody>\n",
              "</table>\n",
              "</div>\n",
              "    <div class=\"colab-df-buttons\">\n",
              "\n",
              "  <div class=\"colab-df-container\">\n",
              "    <button class=\"colab-df-convert\" onclick=\"convertToInteractive('df-350f5295-1eb9-4b9d-a145-f54aee3d9e24')\"\n",
              "            title=\"Convert this dataframe to an interactive table.\"\n",
              "            style=\"display:none;\">\n",
              "\n",
              "  <svg xmlns=\"http://www.w3.org/2000/svg\" height=\"24px\" viewBox=\"0 -960 960 960\">\n",
              "    <path d=\"M120-120v-720h720v720H120Zm60-500h600v-160H180v160Zm220 220h160v-160H400v160Zm0 220h160v-160H400v160ZM180-400h160v-160H180v160Zm440 0h160v-160H620v160ZM180-180h160v-160H180v160Zm440 0h160v-160H620v160Z\"/>\n",
              "  </svg>\n",
              "    </button>\n",
              "\n",
              "  <style>\n",
              "    .colab-df-container {\n",
              "      display:flex;\n",
              "      gap: 12px;\n",
              "    }\n",
              "\n",
              "    .colab-df-convert {\n",
              "      background-color: #E8F0FE;\n",
              "      border: none;\n",
              "      border-radius: 50%;\n",
              "      cursor: pointer;\n",
              "      display: none;\n",
              "      fill: #1967D2;\n",
              "      height: 32px;\n",
              "      padding: 0 0 0 0;\n",
              "      width: 32px;\n",
              "    }\n",
              "\n",
              "    .colab-df-convert:hover {\n",
              "      background-color: #E2EBFA;\n",
              "      box-shadow: 0px 1px 2px rgba(60, 64, 67, 0.3), 0px 1px 3px 1px rgba(60, 64, 67, 0.15);\n",
              "      fill: #174EA6;\n",
              "    }\n",
              "\n",
              "    .colab-df-buttons div {\n",
              "      margin-bottom: 4px;\n",
              "    }\n",
              "\n",
              "    [theme=dark] .colab-df-convert {\n",
              "      background-color: #3B4455;\n",
              "      fill: #D2E3FC;\n",
              "    }\n",
              "\n",
              "    [theme=dark] .colab-df-convert:hover {\n",
              "      background-color: #434B5C;\n",
              "      box-shadow: 0px 1px 3px 1px rgba(0, 0, 0, 0.15);\n",
              "      filter: drop-shadow(0px 1px 2px rgba(0, 0, 0, 0.3));\n",
              "      fill: #FFFFFF;\n",
              "    }\n",
              "  </style>\n",
              "\n",
              "    <script>\n",
              "      const buttonEl =\n",
              "        document.querySelector('#df-350f5295-1eb9-4b9d-a145-f54aee3d9e24 button.colab-df-convert');\n",
              "      buttonEl.style.display =\n",
              "        google.colab.kernel.accessAllowed ? 'block' : 'none';\n",
              "\n",
              "      async function convertToInteractive(key) {\n",
              "        const element = document.querySelector('#df-350f5295-1eb9-4b9d-a145-f54aee3d9e24');\n",
              "        const dataTable =\n",
              "          await google.colab.kernel.invokeFunction('convertToInteractive',\n",
              "                                                    [key], {});\n",
              "        if (!dataTable) return;\n",
              "\n",
              "        const docLinkHtml = 'Like what you see? Visit the ' +\n",
              "          '<a target=\"_blank\" href=https://colab.research.google.com/notebooks/data_table.ipynb>data table notebook</a>'\n",
              "          + ' to learn more about interactive tables.';\n",
              "        element.innerHTML = '';\n",
              "        dataTable['output_type'] = 'display_data';\n",
              "        await google.colab.output.renderOutput(dataTable, element);\n",
              "        const docLink = document.createElement('div');\n",
              "        docLink.innerHTML = docLinkHtml;\n",
              "        element.appendChild(docLink);\n",
              "      }\n",
              "    </script>\n",
              "  </div>\n",
              "\n",
              "\n",
              "<div id=\"df-baf0eda7-406c-497d-8f04-c7cdfc20028a\">\n",
              "  <button class=\"colab-df-quickchart\" onclick=\"quickchart('df-baf0eda7-406c-497d-8f04-c7cdfc20028a')\"\n",
              "            title=\"Suggest charts.\"\n",
              "            style=\"display:none;\">\n",
              "\n",
              "<svg xmlns=\"http://www.w3.org/2000/svg\" height=\"24px\"viewBox=\"0 0 24 24\"\n",
              "     width=\"24px\">\n",
              "    <g>\n",
              "        <path d=\"M19 3H5c-1.1 0-2 .9-2 2v14c0 1.1.9 2 2 2h14c1.1 0 2-.9 2-2V5c0-1.1-.9-2-2-2zM9 17H7v-7h2v7zm4 0h-2V7h2v10zm4 0h-2v-4h2v4z\"/>\n",
              "    </g>\n",
              "</svg>\n",
              "  </button>\n",
              "\n",
              "<style>\n",
              "  .colab-df-quickchart {\n",
              "    background-color: #E8F0FE;\n",
              "    border: none;\n",
              "    border-radius: 50%;\n",
              "    cursor: pointer;\n",
              "    display: none;\n",
              "    fill: #1967D2;\n",
              "    height: 32px;\n",
              "    padding: 0 0 0 0;\n",
              "    width: 32px;\n",
              "  }\n",
              "\n",
              "  .colab-df-quickchart:hover {\n",
              "    background-color: #E2EBFA;\n",
              "    box-shadow: 0px 1px 2px rgba(60, 64, 67, 0.3), 0px 1px 3px 1px rgba(60, 64, 67, 0.15);\n",
              "    fill: #174EA6;\n",
              "  }\n",
              "\n",
              "  [theme=dark] .colab-df-quickchart {\n",
              "    background-color: #3B4455;\n",
              "    fill: #D2E3FC;\n",
              "  }\n",
              "\n",
              "  [theme=dark] .colab-df-quickchart:hover {\n",
              "    background-color: #434B5C;\n",
              "    box-shadow: 0px 1px 3px 1px rgba(0, 0, 0, 0.15);\n",
              "    filter: drop-shadow(0px 1px 2px rgba(0, 0, 0, 0.3));\n",
              "    fill: #FFFFFF;\n",
              "  }\n",
              "</style>\n",
              "\n",
              "  <script>\n",
              "    async function quickchart(key) {\n",
              "      const charts = await google.colab.kernel.invokeFunction(\n",
              "          'suggestCharts', [key], {});\n",
              "    }\n",
              "    (() => {\n",
              "      let quickchartButtonEl =\n",
              "        document.querySelector('#df-baf0eda7-406c-497d-8f04-c7cdfc20028a button');\n",
              "      quickchartButtonEl.style.display =\n",
              "        google.colab.kernel.accessAllowed ? 'block' : 'none';\n",
              "    })();\n",
              "  </script>\n",
              "</div>\n",
              "    </div>\n",
              "  </div>\n"
            ]
          },
          "metadata": {},
          "execution_count": 52
        }
      ],
      "source": [
        "df_scores = pd.DataFrame(scores, index=index)\n",
        "df_scores"
      ]
    },
    {
      "cell_type": "markdown",
      "metadata": {
        "id": "3HZKuuuT2xfF"
      },
      "source": [
        "The best estimator is XGBoost"
      ]
    },
    {
      "cell_type": "markdown",
      "metadata": {
        "id": "4G03c10VrKV1"
      },
      "source": [
        "## **PCA + Models**"
      ]
    },
    {
      "cell_type": "code",
      "execution_count": null,
      "metadata": {
        "id": "ndGbgqTRrMm9"
      },
      "outputs": [],
      "source": [
        "scores = {'neg_mean_absolute_error': []}\n",
        "index = []\n",
        "n_comp = [50, 75, 100, 125, 150]\n",
        "for n in n_comp:\n",
        "  pca = PCA(n_components=n)\n",
        "  data_pca = pca.fit_transform(data_lin.to_numpy())\n",
        "  model = XGBRegressor(random_state=1)\n",
        "  result = cross_val_score(model, X=data_pca, y=y, cv=5, scoring='neg_mean_absolute_error')\n",
        "  index += [f'PCA with {n} components + XGBRegressor Linear ']\n",
        "  scores['neg_mean_absolute_error'].append(result.mean())\n"
      ]
    },
    {
      "cell_type": "code",
      "execution_count": null,
      "metadata": {
        "colab": {
          "base_uri": "https://localhost:8080/",
          "height": 206
        },
        "id": "MY5KyyH01PLd",
        "outputId": "4e5dbf9b-e0a9-441b-9ff2-c3c02eb09c93"
      },
      "outputs": [
        {
          "output_type": "execute_result",
          "data": {
            "text/plain": [
              "                                                neg_mean_absolute_error\n",
              "PCA with 50 components + XGBRegressor Linear              -17734.697533\n",
              "PCA with 75 components + XGBRegressor Linear              -17532.136681\n",
              "PCA with 100 components + XGBRegressor Linear             -17976.696995\n",
              "PCA with 125 components + XGBRegressor Linear             -17773.419020\n",
              "PCA with 150 components + XGBRegressor Linear             -17517.884833"
            ],
            "text/html": [
              "\n",
              "  <div id=\"df-8ca51a28-e389-4207-a468-ddd2fc3d9c35\" class=\"colab-df-container\">\n",
              "    <div>\n",
              "<style scoped>\n",
              "    .dataframe tbody tr th:only-of-type {\n",
              "        vertical-align: middle;\n",
              "    }\n",
              "\n",
              "    .dataframe tbody tr th {\n",
              "        vertical-align: top;\n",
              "    }\n",
              "\n",
              "    .dataframe thead th {\n",
              "        text-align: right;\n",
              "    }\n",
              "</style>\n",
              "<table border=\"1\" class=\"dataframe\">\n",
              "  <thead>\n",
              "    <tr style=\"text-align: right;\">\n",
              "      <th></th>\n",
              "      <th>neg_mean_absolute_error</th>\n",
              "    </tr>\n",
              "  </thead>\n",
              "  <tbody>\n",
              "    <tr>\n",
              "      <th>PCA with 50 components + XGBRegressor Linear</th>\n",
              "      <td>-17734.697533</td>\n",
              "    </tr>\n",
              "    <tr>\n",
              "      <th>PCA with 75 components + XGBRegressor Linear</th>\n",
              "      <td>-17532.136681</td>\n",
              "    </tr>\n",
              "    <tr>\n",
              "      <th>PCA with 100 components + XGBRegressor Linear</th>\n",
              "      <td>-17976.696995</td>\n",
              "    </tr>\n",
              "    <tr>\n",
              "      <th>PCA with 125 components + XGBRegressor Linear</th>\n",
              "      <td>-17773.419020</td>\n",
              "    </tr>\n",
              "    <tr>\n",
              "      <th>PCA with 150 components + XGBRegressor Linear</th>\n",
              "      <td>-17517.884833</td>\n",
              "    </tr>\n",
              "  </tbody>\n",
              "</table>\n",
              "</div>\n",
              "    <div class=\"colab-df-buttons\">\n",
              "\n",
              "  <div class=\"colab-df-container\">\n",
              "    <button class=\"colab-df-convert\" onclick=\"convertToInteractive('df-8ca51a28-e389-4207-a468-ddd2fc3d9c35')\"\n",
              "            title=\"Convert this dataframe to an interactive table.\"\n",
              "            style=\"display:none;\">\n",
              "\n",
              "  <svg xmlns=\"http://www.w3.org/2000/svg\" height=\"24px\" viewBox=\"0 -960 960 960\">\n",
              "    <path d=\"M120-120v-720h720v720H120Zm60-500h600v-160H180v160Zm220 220h160v-160H400v160Zm0 220h160v-160H400v160ZM180-400h160v-160H180v160Zm440 0h160v-160H620v160ZM180-180h160v-160H180v160Zm440 0h160v-160H620v160Z\"/>\n",
              "  </svg>\n",
              "    </button>\n",
              "\n",
              "  <style>\n",
              "    .colab-df-container {\n",
              "      display:flex;\n",
              "      gap: 12px;\n",
              "    }\n",
              "\n",
              "    .colab-df-convert {\n",
              "      background-color: #E8F0FE;\n",
              "      border: none;\n",
              "      border-radius: 50%;\n",
              "      cursor: pointer;\n",
              "      display: none;\n",
              "      fill: #1967D2;\n",
              "      height: 32px;\n",
              "      padding: 0 0 0 0;\n",
              "      width: 32px;\n",
              "    }\n",
              "\n",
              "    .colab-df-convert:hover {\n",
              "      background-color: #E2EBFA;\n",
              "      box-shadow: 0px 1px 2px rgba(60, 64, 67, 0.3), 0px 1px 3px 1px rgba(60, 64, 67, 0.15);\n",
              "      fill: #174EA6;\n",
              "    }\n",
              "\n",
              "    .colab-df-buttons div {\n",
              "      margin-bottom: 4px;\n",
              "    }\n",
              "\n",
              "    [theme=dark] .colab-df-convert {\n",
              "      background-color: #3B4455;\n",
              "      fill: #D2E3FC;\n",
              "    }\n",
              "\n",
              "    [theme=dark] .colab-df-convert:hover {\n",
              "      background-color: #434B5C;\n",
              "      box-shadow: 0px 1px 3px 1px rgba(0, 0, 0, 0.15);\n",
              "      filter: drop-shadow(0px 1px 2px rgba(0, 0, 0, 0.3));\n",
              "      fill: #FFFFFF;\n",
              "    }\n",
              "  </style>\n",
              "\n",
              "    <script>\n",
              "      const buttonEl =\n",
              "        document.querySelector('#df-8ca51a28-e389-4207-a468-ddd2fc3d9c35 button.colab-df-convert');\n",
              "      buttonEl.style.display =\n",
              "        google.colab.kernel.accessAllowed ? 'block' : 'none';\n",
              "\n",
              "      async function convertToInteractive(key) {\n",
              "        const element = document.querySelector('#df-8ca51a28-e389-4207-a468-ddd2fc3d9c35');\n",
              "        const dataTable =\n",
              "          await google.colab.kernel.invokeFunction('convertToInteractive',\n",
              "                                                    [key], {});\n",
              "        if (!dataTable) return;\n",
              "\n",
              "        const docLinkHtml = 'Like what you see? Visit the ' +\n",
              "          '<a target=\"_blank\" href=https://colab.research.google.com/notebooks/data_table.ipynb>data table notebook</a>'\n",
              "          + ' to learn more about interactive tables.';\n",
              "        element.innerHTML = '';\n",
              "        dataTable['output_type'] = 'display_data';\n",
              "        await google.colab.output.renderOutput(dataTable, element);\n",
              "        const docLink = document.createElement('div');\n",
              "        docLink.innerHTML = docLinkHtml;\n",
              "        element.appendChild(docLink);\n",
              "      }\n",
              "    </script>\n",
              "  </div>\n",
              "\n",
              "\n",
              "<div id=\"df-f5ec51d8-7a44-4790-89df-c6a8af549bf1\">\n",
              "  <button class=\"colab-df-quickchart\" onclick=\"quickchart('df-f5ec51d8-7a44-4790-89df-c6a8af549bf1')\"\n",
              "            title=\"Suggest charts.\"\n",
              "            style=\"display:none;\">\n",
              "\n",
              "<svg xmlns=\"http://www.w3.org/2000/svg\" height=\"24px\"viewBox=\"0 0 24 24\"\n",
              "     width=\"24px\">\n",
              "    <g>\n",
              "        <path d=\"M19 3H5c-1.1 0-2 .9-2 2v14c0 1.1.9 2 2 2h14c1.1 0 2-.9 2-2V5c0-1.1-.9-2-2-2zM9 17H7v-7h2v7zm4 0h-2V7h2v10zm4 0h-2v-4h2v4z\"/>\n",
              "    </g>\n",
              "</svg>\n",
              "  </button>\n",
              "\n",
              "<style>\n",
              "  .colab-df-quickchart {\n",
              "    background-color: #E8F0FE;\n",
              "    border: none;\n",
              "    border-radius: 50%;\n",
              "    cursor: pointer;\n",
              "    display: none;\n",
              "    fill: #1967D2;\n",
              "    height: 32px;\n",
              "    padding: 0 0 0 0;\n",
              "    width: 32px;\n",
              "  }\n",
              "\n",
              "  .colab-df-quickchart:hover {\n",
              "    background-color: #E2EBFA;\n",
              "    box-shadow: 0px 1px 2px rgba(60, 64, 67, 0.3), 0px 1px 3px 1px rgba(60, 64, 67, 0.15);\n",
              "    fill: #174EA6;\n",
              "  }\n",
              "\n",
              "  [theme=dark] .colab-df-quickchart {\n",
              "    background-color: #3B4455;\n",
              "    fill: #D2E3FC;\n",
              "  }\n",
              "\n",
              "  [theme=dark] .colab-df-quickchart:hover {\n",
              "    background-color: #434B5C;\n",
              "    box-shadow: 0px 1px 3px 1px rgba(0, 0, 0, 0.15);\n",
              "    filter: drop-shadow(0px 1px 2px rgba(0, 0, 0, 0.3));\n",
              "    fill: #FFFFFF;\n",
              "  }\n",
              "</style>\n",
              "\n",
              "  <script>\n",
              "    async function quickchart(key) {\n",
              "      const charts = await google.colab.kernel.invokeFunction(\n",
              "          'suggestCharts', [key], {});\n",
              "    }\n",
              "    (() => {\n",
              "      let quickchartButtonEl =\n",
              "        document.querySelector('#df-f5ec51d8-7a44-4790-89df-c6a8af549bf1 button');\n",
              "      quickchartButtonEl.style.display =\n",
              "        google.colab.kernel.accessAllowed ? 'block' : 'none';\n",
              "    })();\n",
              "  </script>\n",
              "</div>\n",
              "    </div>\n",
              "  </div>\n"
            ]
          },
          "metadata": {},
          "execution_count": 54
        }
      ],
      "source": [
        "df_scores = pd.DataFrame(scores, index=index)\n",
        "df_scores"
      ]
    },
    {
      "cell_type": "markdown",
      "metadata": {
        "id": "xp_SQQ-ahEAl"
      },
      "source": [
        "## **Best Models**"
      ]
    },
    {
      "cell_type": "code",
      "execution_count": null,
      "metadata": {
        "id": "f9eWEwyS120Y"
      },
      "outputs": [],
      "source": [
        "scores = {'neg_mean_absolute_error': []}\n",
        "index = []\n",
        "for name, data in chosen_data.items():\n",
        "    result = cross_val_score(XGBRegressor(random_state=1), X=data, y=y, cv=5, scoring='neg_mean_absolute_error')\n",
        "    index += [name + ' + XGBRegressor']\n",
        "    scores['neg_mean_absolute_error'].append(result.mean())\n",
        "\n",
        "result = cross_val_score(XGBRegressor(random_state=1), X=data_tree, y=y, cv=5, scoring='neg_mean_absolute_error')\n",
        "index += ['Full Data + XGBRegressor Tree']\n",
        "scores['neg_mean_absolute_error'].append(result.mean())\n",
        "result = cross_val_score(XGBRegressor(random_state=1), X=data_lin, y=y, cv=5, scoring='neg_mean_absolute_error')\n",
        "index += ['Full Data + XGBRegressor Linear']\n",
        "scores['neg_mean_absolute_error'].append(result.mean())\n"
      ]
    },
    {
      "cell_type": "code",
      "execution_count": null,
      "metadata": {
        "colab": {
          "base_uri": "https://localhost:8080/",
          "height": 457
        },
        "id": "C8FV9S1W4FFj",
        "outputId": "5aba42cd-0492-44a6-c9b9-a6bfa39e0377"
      },
      "outputs": [
        {
          "output_type": "execute_result",
          "data": {
            "text/plain": [
              "                                            neg_mean_absolute_error\n",
              "XGBoost Selected + XGBRegressor                       -23473.476627\n",
              "Ridge Linear Features + XGBRegressor                  -28410.255693\n",
              "Lasso Linear Features + XGBRegressor                  -22546.022367\n",
              "Random Forest Tree Features + XGBRegressor            -21057.953548\n",
              "SFS forward Linear + XGBRegressor                     -17475.175356\n",
              "SFS forward Tree + XGBRegressor                       -18371.885111\n",
              "SFS forward XGB + XGBRegressor                        -18794.543359\n",
              "SFS backward XGB + XGBRegressor                       -17294.372996\n",
              "RFE Random Forest Tree + XGBRegressor                 -17447.945528\n",
              "RFE Linear Regression + XGBRegressor                  -17452.057291\n",
              "RFE XGBoost + XGBRegressor                            -16951.562364\n",
              "Full Data + XGBRegressor Tree                         -16914.370069\n",
              "Full Data + XGBRegressor Linear                       -17302.643969"
            ],
            "text/html": [
              "\n",
              "  <div id=\"df-d71dff48-a326-4e80-8be1-3fa4f561fbbf\" class=\"colab-df-container\">\n",
              "    <div>\n",
              "<style scoped>\n",
              "    .dataframe tbody tr th:only-of-type {\n",
              "        vertical-align: middle;\n",
              "    }\n",
              "\n",
              "    .dataframe tbody tr th {\n",
              "        vertical-align: top;\n",
              "    }\n",
              "\n",
              "    .dataframe thead th {\n",
              "        text-align: right;\n",
              "    }\n",
              "</style>\n",
              "<table border=\"1\" class=\"dataframe\">\n",
              "  <thead>\n",
              "    <tr style=\"text-align: right;\">\n",
              "      <th></th>\n",
              "      <th>neg_mean_absolute_error</th>\n",
              "    </tr>\n",
              "  </thead>\n",
              "  <tbody>\n",
              "    <tr>\n",
              "      <th>XGBoost Selected + XGBRegressor</th>\n",
              "      <td>-23473.476627</td>\n",
              "    </tr>\n",
              "    <tr>\n",
              "      <th>Ridge Linear Features + XGBRegressor</th>\n",
              "      <td>-28410.255693</td>\n",
              "    </tr>\n",
              "    <tr>\n",
              "      <th>Lasso Linear Features + XGBRegressor</th>\n",
              "      <td>-22546.022367</td>\n",
              "    </tr>\n",
              "    <tr>\n",
              "      <th>Random Forest Tree Features + XGBRegressor</th>\n",
              "      <td>-21057.953548</td>\n",
              "    </tr>\n",
              "    <tr>\n",
              "      <th>SFS forward Linear + XGBRegressor</th>\n",
              "      <td>-17475.175356</td>\n",
              "    </tr>\n",
              "    <tr>\n",
              "      <th>SFS forward Tree + XGBRegressor</th>\n",
              "      <td>-18371.885111</td>\n",
              "    </tr>\n",
              "    <tr>\n",
              "      <th>SFS forward XGB + XGBRegressor</th>\n",
              "      <td>-18794.543359</td>\n",
              "    </tr>\n",
              "    <tr>\n",
              "      <th>SFS backward XGB + XGBRegressor</th>\n",
              "      <td>-17294.372996</td>\n",
              "    </tr>\n",
              "    <tr>\n",
              "      <th>RFE Random Forest Tree + XGBRegressor</th>\n",
              "      <td>-17447.945528</td>\n",
              "    </tr>\n",
              "    <tr>\n",
              "      <th>RFE Linear Regression + XGBRegressor</th>\n",
              "      <td>-17452.057291</td>\n",
              "    </tr>\n",
              "    <tr>\n",
              "      <th>RFE XGBoost + XGBRegressor</th>\n",
              "      <td>-16951.562364</td>\n",
              "    </tr>\n",
              "    <tr>\n",
              "      <th>Full Data + XGBRegressor Tree</th>\n",
              "      <td>-16914.370069</td>\n",
              "    </tr>\n",
              "    <tr>\n",
              "      <th>Full Data + XGBRegressor Linear</th>\n",
              "      <td>-17302.643969</td>\n",
              "    </tr>\n",
              "  </tbody>\n",
              "</table>\n",
              "</div>\n",
              "    <div class=\"colab-df-buttons\">\n",
              "\n",
              "  <div class=\"colab-df-container\">\n",
              "    <button class=\"colab-df-convert\" onclick=\"convertToInteractive('df-d71dff48-a326-4e80-8be1-3fa4f561fbbf')\"\n",
              "            title=\"Convert this dataframe to an interactive table.\"\n",
              "            style=\"display:none;\">\n",
              "\n",
              "  <svg xmlns=\"http://www.w3.org/2000/svg\" height=\"24px\" viewBox=\"0 -960 960 960\">\n",
              "    <path d=\"M120-120v-720h720v720H120Zm60-500h600v-160H180v160Zm220 220h160v-160H400v160Zm0 220h160v-160H400v160ZM180-400h160v-160H180v160Zm440 0h160v-160H620v160ZM180-180h160v-160H180v160Zm440 0h160v-160H620v160Z\"/>\n",
              "  </svg>\n",
              "    </button>\n",
              "\n",
              "  <style>\n",
              "    .colab-df-container {\n",
              "      display:flex;\n",
              "      gap: 12px;\n",
              "    }\n",
              "\n",
              "    .colab-df-convert {\n",
              "      background-color: #E8F0FE;\n",
              "      border: none;\n",
              "      border-radius: 50%;\n",
              "      cursor: pointer;\n",
              "      display: none;\n",
              "      fill: #1967D2;\n",
              "      height: 32px;\n",
              "      padding: 0 0 0 0;\n",
              "      width: 32px;\n",
              "    }\n",
              "\n",
              "    .colab-df-convert:hover {\n",
              "      background-color: #E2EBFA;\n",
              "      box-shadow: 0px 1px 2px rgba(60, 64, 67, 0.3), 0px 1px 3px 1px rgba(60, 64, 67, 0.15);\n",
              "      fill: #174EA6;\n",
              "    }\n",
              "\n",
              "    .colab-df-buttons div {\n",
              "      margin-bottom: 4px;\n",
              "    }\n",
              "\n",
              "    [theme=dark] .colab-df-convert {\n",
              "      background-color: #3B4455;\n",
              "      fill: #D2E3FC;\n",
              "    }\n",
              "\n",
              "    [theme=dark] .colab-df-convert:hover {\n",
              "      background-color: #434B5C;\n",
              "      box-shadow: 0px 1px 3px 1px rgba(0, 0, 0, 0.15);\n",
              "      filter: drop-shadow(0px 1px 2px rgba(0, 0, 0, 0.3));\n",
              "      fill: #FFFFFF;\n",
              "    }\n",
              "  </style>\n",
              "\n",
              "    <script>\n",
              "      const buttonEl =\n",
              "        document.querySelector('#df-d71dff48-a326-4e80-8be1-3fa4f561fbbf button.colab-df-convert');\n",
              "      buttonEl.style.display =\n",
              "        google.colab.kernel.accessAllowed ? 'block' : 'none';\n",
              "\n",
              "      async function convertToInteractive(key) {\n",
              "        const element = document.querySelector('#df-d71dff48-a326-4e80-8be1-3fa4f561fbbf');\n",
              "        const dataTable =\n",
              "          await google.colab.kernel.invokeFunction('convertToInteractive',\n",
              "                                                    [key], {});\n",
              "        if (!dataTable) return;\n",
              "\n",
              "        const docLinkHtml = 'Like what you see? Visit the ' +\n",
              "          '<a target=\"_blank\" href=https://colab.research.google.com/notebooks/data_table.ipynb>data table notebook</a>'\n",
              "          + ' to learn more about interactive tables.';\n",
              "        element.innerHTML = '';\n",
              "        dataTable['output_type'] = 'display_data';\n",
              "        await google.colab.output.renderOutput(dataTable, element);\n",
              "        const docLink = document.createElement('div');\n",
              "        docLink.innerHTML = docLinkHtml;\n",
              "        element.appendChild(docLink);\n",
              "      }\n",
              "    </script>\n",
              "  </div>\n",
              "\n",
              "\n",
              "<div id=\"df-10dffe7c-41e3-4752-98d7-c7219c30aff4\">\n",
              "  <button class=\"colab-df-quickchart\" onclick=\"quickchart('df-10dffe7c-41e3-4752-98d7-c7219c30aff4')\"\n",
              "            title=\"Suggest charts.\"\n",
              "            style=\"display:none;\">\n",
              "\n",
              "<svg xmlns=\"http://www.w3.org/2000/svg\" height=\"24px\"viewBox=\"0 0 24 24\"\n",
              "     width=\"24px\">\n",
              "    <g>\n",
              "        <path d=\"M19 3H5c-1.1 0-2 .9-2 2v14c0 1.1.9 2 2 2h14c1.1 0 2-.9 2-2V5c0-1.1-.9-2-2-2zM9 17H7v-7h2v7zm4 0h-2V7h2v10zm4 0h-2v-4h2v4z\"/>\n",
              "    </g>\n",
              "</svg>\n",
              "  </button>\n",
              "\n",
              "<style>\n",
              "  .colab-df-quickchart {\n",
              "    background-color: #E8F0FE;\n",
              "    border: none;\n",
              "    border-radius: 50%;\n",
              "    cursor: pointer;\n",
              "    display: none;\n",
              "    fill: #1967D2;\n",
              "    height: 32px;\n",
              "    padding: 0 0 0 0;\n",
              "    width: 32px;\n",
              "  }\n",
              "\n",
              "  .colab-df-quickchart:hover {\n",
              "    background-color: #E2EBFA;\n",
              "    box-shadow: 0px 1px 2px rgba(60, 64, 67, 0.3), 0px 1px 3px 1px rgba(60, 64, 67, 0.15);\n",
              "    fill: #174EA6;\n",
              "  }\n",
              "\n",
              "  [theme=dark] .colab-df-quickchart {\n",
              "    background-color: #3B4455;\n",
              "    fill: #D2E3FC;\n",
              "  }\n",
              "\n",
              "  [theme=dark] .colab-df-quickchart:hover {\n",
              "    background-color: #434B5C;\n",
              "    box-shadow: 0px 1px 3px 1px rgba(0, 0, 0, 0.15);\n",
              "    filter: drop-shadow(0px 1px 2px rgba(0, 0, 0, 0.3));\n",
              "    fill: #FFFFFF;\n",
              "  }\n",
              "</style>\n",
              "\n",
              "  <script>\n",
              "    async function quickchart(key) {\n",
              "      const charts = await google.colab.kernel.invokeFunction(\n",
              "          'suggestCharts', [key], {});\n",
              "    }\n",
              "    (() => {\n",
              "      let quickchartButtonEl =\n",
              "        document.querySelector('#df-10dffe7c-41e3-4752-98d7-c7219c30aff4 button');\n",
              "      quickchartButtonEl.style.display =\n",
              "        google.colab.kernel.accessAllowed ? 'block' : 'none';\n",
              "    })();\n",
              "  </script>\n",
              "</div>\n",
              "    </div>\n",
              "  </div>\n"
            ]
          },
          "metadata": {},
          "execution_count": 56
        }
      ],
      "source": [
        "df_scores = pd.DataFrame(scores, index=index)\n",
        "df_scores"
      ]
    },
    {
      "cell_type": "markdown",
      "metadata": {
        "id": "FLjzpVfL7ORa"
      },
      "source": [
        "## **Grid Search for Best Model Linear Data**"
      ]
    },
    {
      "cell_type": "code",
      "execution_count": null,
      "metadata": {
        "id": "SamfLejn7N_M"
      },
      "outputs": [],
      "source": [
        "%%time\n",
        "gsc = GridSearchCV(\n",
        "            estimator=XGBRegressor(),\n",
        "            param_grid={\"learning_rate\": (0.05, 0.10, 0.15),\n",
        "                        \"max_depth\": [ 3, 4, 5],\n",
        "                        \"min_child_weight\": [ 3, 5, 7],\n",
        "                        \"gamma\":[ 0.0, 0.1, 0.2],\n",
        "                        \"colsample_bytree\":[ 0.3, 0.4]},\n",
        "            cv=3, scoring='neg_mean_squared_error', verbose=0, n_jobs=-1)\n",
        "gsc.fit(data_lin, y)"
      ]
    },
    {
      "cell_type": "code",
      "execution_count": null,
      "metadata": {
        "id": "0ANX7nl-9zww"
      },
      "outputs": [],
      "source": [
        "best_model = XGBRegressor(gsc.best_params_)\n",
        "scores = {'neg_mean_absolute_error': []}\n",
        "index = []\n",
        "for name, data in chosen_data.items():\n",
        "    result = cross_val_score(best_model, X=data, y=y, cv=5, scoring='neg_mean_absolute_error')\n",
        "    index += [name + ' + XGBRegressor']\n",
        "    scores['neg_mean_absolute_error'].append(result.mean())\n",
        "\n",
        "result = cross_val_score(best_model, X=data_tree, y=y, cv=5, scoring='neg_mean_absolute_error')\n",
        "index += ['Full Data + XGBRegressor Tree']\n",
        "scores['neg_mean_absolute_error'].append(result.mean())\n",
        "result = cross_val_score(XGBRegressor(random_state=1), X=data_lin, y=y, cv=5, scoring='neg_mean_absolute_error')\n",
        "index += ['Full Data + XGBRegressor Linear']\n",
        "scores['neg_mean_absolute_error'].append(result.mean())\n"
      ]
    },
    {
      "cell_type": "code",
      "execution_count": null,
      "metadata": {
        "colab": {
          "base_uri": "https://localhost:8080/",
          "height": 457
        },
        "id": "7tCOOE2W-LZp",
        "outputId": "876912b4-7726-45b1-bc79-f57352b09bea"
      },
      "outputs": [
        {
          "output_type": "execute_result",
          "data": {
            "text/plain": [
              "                                            neg_mean_absolute_error\n",
              "XGBoost Selected + XGBRegressor                       -22849.526833\n",
              "Ridge Linear Features + XGBRegressor                  -26617.004679\n",
              "Lasso Linear Features + XGBRegressor                  -21640.067953\n",
              "Random Forest Tree Features + XGBRegressor            -20386.850734\n",
              "SFS forward Linear + XGBRegressor                     -15876.519010\n",
              "SFS forward Tree + XGBRegressor                       -16533.043595\n",
              "SFS forward XGB + XGBRegressor                        -16984.823285\n",
              "SFS backward XGB + XGBRegressor                       -16433.498242\n",
              "RFE Random Forest Tree + XGBRegressor                 -16096.947434\n",
              "RFE Linear Regression + XGBRegressor                  -16059.611507\n",
              "RFE XGBoost + XGBRegressor                            -16276.329289\n",
              "Full Data + XGBRegressor Tree                         -15625.482026\n",
              "Full Data + XGBRegressor Linear                       -17302.643969"
            ],
            "text/html": [
              "\n",
              "  <div id=\"df-9c218639-b4a9-474e-a269-6d8857c0f2c1\" class=\"colab-df-container\">\n",
              "    <div>\n",
              "<style scoped>\n",
              "    .dataframe tbody tr th:only-of-type {\n",
              "        vertical-align: middle;\n",
              "    }\n",
              "\n",
              "    .dataframe tbody tr th {\n",
              "        vertical-align: top;\n",
              "    }\n",
              "\n",
              "    .dataframe thead th {\n",
              "        text-align: right;\n",
              "    }\n",
              "</style>\n",
              "<table border=\"1\" class=\"dataframe\">\n",
              "  <thead>\n",
              "    <tr style=\"text-align: right;\">\n",
              "      <th></th>\n",
              "      <th>neg_mean_absolute_error</th>\n",
              "    </tr>\n",
              "  </thead>\n",
              "  <tbody>\n",
              "    <tr>\n",
              "      <th>XGBoost Selected + XGBRegressor</th>\n",
              "      <td>-22849.526833</td>\n",
              "    </tr>\n",
              "    <tr>\n",
              "      <th>Ridge Linear Features + XGBRegressor</th>\n",
              "      <td>-26617.004679</td>\n",
              "    </tr>\n",
              "    <tr>\n",
              "      <th>Lasso Linear Features + XGBRegressor</th>\n",
              "      <td>-21640.067953</td>\n",
              "    </tr>\n",
              "    <tr>\n",
              "      <th>Random Forest Tree Features + XGBRegressor</th>\n",
              "      <td>-20386.850734</td>\n",
              "    </tr>\n",
              "    <tr>\n",
              "      <th>SFS forward Linear + XGBRegressor</th>\n",
              "      <td>-15876.519010</td>\n",
              "    </tr>\n",
              "    <tr>\n",
              "      <th>SFS forward Tree + XGBRegressor</th>\n",
              "      <td>-16533.043595</td>\n",
              "    </tr>\n",
              "    <tr>\n",
              "      <th>SFS forward XGB + XGBRegressor</th>\n",
              "      <td>-16984.823285</td>\n",
              "    </tr>\n",
              "    <tr>\n",
              "      <th>SFS backward XGB + XGBRegressor</th>\n",
              "      <td>-16433.498242</td>\n",
              "    </tr>\n",
              "    <tr>\n",
              "      <th>RFE Random Forest Tree + XGBRegressor</th>\n",
              "      <td>-16096.947434</td>\n",
              "    </tr>\n",
              "    <tr>\n",
              "      <th>RFE Linear Regression + XGBRegressor</th>\n",
              "      <td>-16059.611507</td>\n",
              "    </tr>\n",
              "    <tr>\n",
              "      <th>RFE XGBoost + XGBRegressor</th>\n",
              "      <td>-16276.329289</td>\n",
              "    </tr>\n",
              "    <tr>\n",
              "      <th>Full Data + XGBRegressor Tree</th>\n",
              "      <td>-15625.482026</td>\n",
              "    </tr>\n",
              "    <tr>\n",
              "      <th>Full Data + XGBRegressor Linear</th>\n",
              "      <td>-17302.643969</td>\n",
              "    </tr>\n",
              "  </tbody>\n",
              "</table>\n",
              "</div>\n",
              "    <div class=\"colab-df-buttons\">\n",
              "\n",
              "  <div class=\"colab-df-container\">\n",
              "    <button class=\"colab-df-convert\" onclick=\"convertToInteractive('df-9c218639-b4a9-474e-a269-6d8857c0f2c1')\"\n",
              "            title=\"Convert this dataframe to an interactive table.\"\n",
              "            style=\"display:none;\">\n",
              "\n",
              "  <svg xmlns=\"http://www.w3.org/2000/svg\" height=\"24px\" viewBox=\"0 -960 960 960\">\n",
              "    <path d=\"M120-120v-720h720v720H120Zm60-500h600v-160H180v160Zm220 220h160v-160H400v160Zm0 220h160v-160H400v160ZM180-400h160v-160H180v160Zm440 0h160v-160H620v160ZM180-180h160v-160H180v160Zm440 0h160v-160H620v160Z\"/>\n",
              "  </svg>\n",
              "    </button>\n",
              "\n",
              "  <style>\n",
              "    .colab-df-container {\n",
              "      display:flex;\n",
              "      gap: 12px;\n",
              "    }\n",
              "\n",
              "    .colab-df-convert {\n",
              "      background-color: #E8F0FE;\n",
              "      border: none;\n",
              "      border-radius: 50%;\n",
              "      cursor: pointer;\n",
              "      display: none;\n",
              "      fill: #1967D2;\n",
              "      height: 32px;\n",
              "      padding: 0 0 0 0;\n",
              "      width: 32px;\n",
              "    }\n",
              "\n",
              "    .colab-df-convert:hover {\n",
              "      background-color: #E2EBFA;\n",
              "      box-shadow: 0px 1px 2px rgba(60, 64, 67, 0.3), 0px 1px 3px 1px rgba(60, 64, 67, 0.15);\n",
              "      fill: #174EA6;\n",
              "    }\n",
              "\n",
              "    .colab-df-buttons div {\n",
              "      margin-bottom: 4px;\n",
              "    }\n",
              "\n",
              "    [theme=dark] .colab-df-convert {\n",
              "      background-color: #3B4455;\n",
              "      fill: #D2E3FC;\n",
              "    }\n",
              "\n",
              "    [theme=dark] .colab-df-convert:hover {\n",
              "      background-color: #434B5C;\n",
              "      box-shadow: 0px 1px 3px 1px rgba(0, 0, 0, 0.15);\n",
              "      filter: drop-shadow(0px 1px 2px rgba(0, 0, 0, 0.3));\n",
              "      fill: #FFFFFF;\n",
              "    }\n",
              "  </style>\n",
              "\n",
              "    <script>\n",
              "      const buttonEl =\n",
              "        document.querySelector('#df-9c218639-b4a9-474e-a269-6d8857c0f2c1 button.colab-df-convert');\n",
              "      buttonEl.style.display =\n",
              "        google.colab.kernel.accessAllowed ? 'block' : 'none';\n",
              "\n",
              "      async function convertToInteractive(key) {\n",
              "        const element = document.querySelector('#df-9c218639-b4a9-474e-a269-6d8857c0f2c1');\n",
              "        const dataTable =\n",
              "          await google.colab.kernel.invokeFunction('convertToInteractive',\n",
              "                                                    [key], {});\n",
              "        if (!dataTable) return;\n",
              "\n",
              "        const docLinkHtml = 'Like what you see? Visit the ' +\n",
              "          '<a target=\"_blank\" href=https://colab.research.google.com/notebooks/data_table.ipynb>data table notebook</a>'\n",
              "          + ' to learn more about interactive tables.';\n",
              "        element.innerHTML = '';\n",
              "        dataTable['output_type'] = 'display_data';\n",
              "        await google.colab.output.renderOutput(dataTable, element);\n",
              "        const docLink = document.createElement('div');\n",
              "        docLink.innerHTML = docLinkHtml;\n",
              "        element.appendChild(docLink);\n",
              "      }\n",
              "    </script>\n",
              "  </div>\n",
              "\n",
              "\n",
              "<div id=\"df-3a66c9ff-149d-4a8b-90f9-ae0f4b6b0003\">\n",
              "  <button class=\"colab-df-quickchart\" onclick=\"quickchart('df-3a66c9ff-149d-4a8b-90f9-ae0f4b6b0003')\"\n",
              "            title=\"Suggest charts.\"\n",
              "            style=\"display:none;\">\n",
              "\n",
              "<svg xmlns=\"http://www.w3.org/2000/svg\" height=\"24px\"viewBox=\"0 0 24 24\"\n",
              "     width=\"24px\">\n",
              "    <g>\n",
              "        <path d=\"M19 3H5c-1.1 0-2 .9-2 2v14c0 1.1.9 2 2 2h14c1.1 0 2-.9 2-2V5c0-1.1-.9-2-2-2zM9 17H7v-7h2v7zm4 0h-2V7h2v10zm4 0h-2v-4h2v4z\"/>\n",
              "    </g>\n",
              "</svg>\n",
              "  </button>\n",
              "\n",
              "<style>\n",
              "  .colab-df-quickchart {\n",
              "    background-color: #E8F0FE;\n",
              "    border: none;\n",
              "    border-radius: 50%;\n",
              "    cursor: pointer;\n",
              "    display: none;\n",
              "    fill: #1967D2;\n",
              "    height: 32px;\n",
              "    padding: 0 0 0 0;\n",
              "    width: 32px;\n",
              "  }\n",
              "\n",
              "  .colab-df-quickchart:hover {\n",
              "    background-color: #E2EBFA;\n",
              "    box-shadow: 0px 1px 2px rgba(60, 64, 67, 0.3), 0px 1px 3px 1px rgba(60, 64, 67, 0.15);\n",
              "    fill: #174EA6;\n",
              "  }\n",
              "\n",
              "  [theme=dark] .colab-df-quickchart {\n",
              "    background-color: #3B4455;\n",
              "    fill: #D2E3FC;\n",
              "  }\n",
              "\n",
              "  [theme=dark] .colab-df-quickchart:hover {\n",
              "    background-color: #434B5C;\n",
              "    box-shadow: 0px 1px 3px 1px rgba(0, 0, 0, 0.15);\n",
              "    filter: drop-shadow(0px 1px 2px rgba(0, 0, 0, 0.3));\n",
              "    fill: #FFFFFF;\n",
              "  }\n",
              "</style>\n",
              "\n",
              "  <script>\n",
              "    async function quickchart(key) {\n",
              "      const charts = await google.colab.kernel.invokeFunction(\n",
              "          'suggestCharts', [key], {});\n",
              "    }\n",
              "    (() => {\n",
              "      let quickchartButtonEl =\n",
              "        document.querySelector('#df-3a66c9ff-149d-4a8b-90f9-ae0f4b6b0003 button');\n",
              "      quickchartButtonEl.style.display =\n",
              "        google.colab.kernel.accessAllowed ? 'block' : 'none';\n",
              "    })();\n",
              "  </script>\n",
              "</div>\n",
              "    </div>\n",
              "  </div>\n"
            ]
          },
          "metadata": {},
          "execution_count": 59
        }
      ],
      "source": [
        "df_scores = pd.DataFrame(scores, index=index)\n",
        "df_scores"
      ]
    }
  ],
  "metadata": {
    "colab": {
      "provenance": [],
      "include_colab_link": true
    },
    "kernelspec": {
      "display_name": "Python 3",
      "language": "python",
      "name": "python3"
    },
    "language_info": {
      "codemirror_mode": {
        "name": "ipython",
        "version": 3
      },
      "file_extension": ".py",
      "mimetype": "text/x-python",
      "name": "python",
      "nbconvert_exporter": "python",
      "pygments_lexer": "ipython3",
      "version": "3.8.3"
    }
  },
  "nbformat": 4,
  "nbformat_minor": 0
}